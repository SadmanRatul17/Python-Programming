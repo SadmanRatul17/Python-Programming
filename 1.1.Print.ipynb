{
 "cells": [
  {
   "cell_type": "markdown",
   "id": "fd8bccad-eb00-4265-9fde-53895c3f41d1",
   "metadata": {},
   "source": [
    "<h1 style='text-align : center '>Print Function</h1>"
   ]
  },
  {
   "cell_type": "markdown",
   "id": "9f774dc1-6b58-4b7e-8fd4-8ad6b757cde6",
   "metadata": {},
   "source": [
    "<br>"
   ]
  },
  {
   "cell_type": "markdown",
   "id": "daac224a-050c-4356-bda6-f29e6f91c90e",
   "metadata": {},
   "source": [
    "<h3>By Default --> sep=' '</h3> \n"
   ]
  },
  {
   "cell_type": "code",
   "execution_count": 3,
   "id": "accec00a-acb6-4cbf-9dcc-12b1ed138c12",
   "metadata": {},
   "outputs": [
    {
     "name": "stdout",
     "output_type": "stream",
     "text": [
      "hello World hello World\n"
     ]
    }
   ],
   "source": [
    "print(\"hello\",\"World\",\"hello\",\"World\")"
   ]
  },
  {
   "cell_type": "markdown",
   "id": "f5e2d53a-a732-4f95-9d1a-03147884a46f",
   "metadata": {},
   "source": [
    "<br>\n",
    "<h3>If we want /, - , _ between them then we add sep='/' or sep='-'</h3>\n"
   ]
  },
  {
   "cell_type": "code",
   "execution_count": 6,
   "id": "b88f259f-baeb-4621-b926-c32b1c397a61",
   "metadata": {},
   "outputs": [
    {
     "name": "stdout",
     "output_type": "stream",
     "text": [
      "hello/World/hello/World\n"
     ]
    }
   ],
   "source": [
    "print(\"hello\",\"World\",\"hello\",\"World\",sep=\"/\")"
   ]
  },
  {
   "cell_type": "code",
   "execution_count": 8,
   "id": "8f24dca9-54a7-4e49-8ac6-0a1339166727",
   "metadata": {},
   "outputs": [
    {
     "name": "stdout",
     "output_type": "stream",
     "text": [
      "hello-World-hello-World\n"
     ]
    }
   ],
   "source": [
    "print(\"hello\",\"World\",\"hello\",\"World\",sep=\"-\")"
   ]
  },
  {
   "cell_type": "markdown",
   "id": "dc993157-aca3-4fc2-8014-5029b8df295e",
   "metadata": {},
   "source": [
    "<br>\n",
    "<h3>By default, Every print function has new line. end=\"\\n\"</h3>\n"
   ]
  },
  {
   "cell_type": "code",
   "execution_count": 10,
   "id": "53a7a275-2620-4bb4-8748-1c86d475daa3",
   "metadata": {},
   "outputs": [
    {
     "name": "stdout",
     "output_type": "stream",
     "text": [
      "Hello\n",
      "Ratul\n"
     ]
    }
   ],
   "source": [
    "print(\"Hello\")\n",
    "print(\"Ratul\")"
   ]
  },
  {
   "cell_type": "markdown",
   "id": "9bcabe04-71d1-47c6-9374-72646794abff",
   "metadata": {},
   "source": [
    "<br>\n",
    "<h3>If we need space after the Hello word then</h3>"
   ]
  },
  {
   "cell_type": "code",
   "execution_count": 12,
   "id": "57489520-8893-4ad2-9db9-972467eae61e",
   "metadata": {},
   "outputs": [
    {
     "name": "stdout",
     "output_type": "stream",
     "text": [
      "Hello Ratul\n"
     ]
    }
   ],
   "source": [
    "print(\"Hello\", end=\" \")\n",
    "print(\"Ratul\")"
   ]
  }
 ],
 "metadata": {
  "kernelspec": {
   "display_name": "Python 3 (ipykernel)",
   "language": "python",
   "name": "python3"
  },
  "language_info": {
   "codemirror_mode": {
    "name": "ipython",
    "version": 3
   },
   "file_extension": ".py",
   "mimetype": "text/x-python",
   "name": "python",
   "nbconvert_exporter": "python",
   "pygments_lexer": "ipython3",
   "version": "3.11.3"
  }
 },
 "nbformat": 4,
 "nbformat_minor": 5
}
