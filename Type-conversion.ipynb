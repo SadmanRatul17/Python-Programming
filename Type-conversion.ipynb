{
 "cells": [
  {
   "cell_type": "markdown",
   "id": "b9782950-f63b-4a6a-91c7-294dbc15c8bc",
   "metadata": {},
   "source": [
    " <h1 style='text-align : center '>Type conversion</h1>\n",
    " <br>"
   ]
  },
  {
   "cell_type": "markdown",
   "id": "2e11808d-3418-4848-84bf-7d81ae9aa83d",
   "metadata": {},
   "source": [
    "<ul>\n",
    "    <h4>\n",
    "    <li>Implicit</li>\n",
    "    <li>Explicit</li>\n",
    "    </h4>\n",
    "</ul>"
   ]
  },
  {
   "cell_type": "code",
   "execution_count": 3,
   "id": "5e2817ba-e244-4cb8-b97a-1d8f6a71e6a0",
   "metadata": {},
   "outputs": [
    {
     "data": {
      "text/plain": [
       "9.5"
      ]
     },
     "execution_count": 3,
     "metadata": {},
     "output_type": "execute_result"
    }
   ],
   "source": [
    "#implicit\n",
    "\n",
    "4+5.5\n"
   ]
  },
  {
   "cell_type": "code",
   "execution_count": 5,
   "id": "fee1044c-e6ce-4307-bb98-c35d63500520",
   "metadata": {},
   "outputs": [
    {
     "data": {
      "text/plain": [
       "(9+8j)"
      ]
     },
     "execution_count": 5,
     "metadata": {},
     "output_type": "execute_result"
    }
   ],
   "source": [
    "4+5+8j\n"
   ]
  },
  {
   "cell_type": "code",
   "execution_count": 7,
   "id": "d34de938-dc5f-474a-880a-e10bc5eaced6",
   "metadata": {},
   "outputs": [
    {
     "data": {
      "text/plain": [
       "(10+9j)"
      ]
     },
     "execution_count": 7,
     "metadata": {},
     "output_type": "execute_result"
    }
   ],
   "source": [
    "4.5+5.5+9j"
   ]
  },
  {
   "cell_type": "markdown",
   "id": "1ca843f7-a567-4638-a666-bab1a70d4b34",
   "metadata": {},
   "source": [
    "<br>"
   ]
  },
  {
   "cell_type": "code",
   "execution_count": 9,
   "id": "37c1a8f1-6730-4a9b-870c-8ae58e832e37",
   "metadata": {},
   "outputs": [
    {
     "data": {
      "text/plain": [
       "4"
      ]
     },
     "execution_count": 9,
     "metadata": {},
     "output_type": "execute_result"
    }
   ],
   "source": [
    "#explicit\n",
    "\n",
    "# float --> int\n",
    "int(4.5)"
   ]
  },
  {
   "cell_type": "code",
   "execution_count": 11,
   "id": "bc91a66c-f2d8-4bca-9d0c-ab975a79d4cf",
   "metadata": {},
   "outputs": [
    {
     "data": {
      "text/plain": [
       "45"
      ]
     },
     "execution_count": 11,
     "metadata": {},
     "output_type": "execute_result"
    }
   ],
   "source": [
    "# string --> int\n",
    "int('45')"
   ]
  },
  {
   "cell_type": "code",
   "execution_count": 13,
   "id": "cea9ab64-2769-4bca-b421-ff0e1b19b564",
   "metadata": {},
   "outputs": [
    {
     "ename": "ValueError",
     "evalue": "invalid literal for int() with base 10: '4.5'",
     "output_type": "error",
     "traceback": [
      "\u001b[1;31m---------------------------------------------------------------------------\u001b[0m",
      "\u001b[1;31mValueError\u001b[0m                                Traceback (most recent call last)",
      "Cell \u001b[1;32mIn[13], line 1\u001b[0m\n\u001b[1;32m----> 1\u001b[0m \u001b[38;5;28;43mint\u001b[39;49m\u001b[43m(\u001b[49m\u001b[38;5;124;43m'\u001b[39;49m\u001b[38;5;124;43m4.5\u001b[39;49m\u001b[38;5;124;43m'\u001b[39;49m\u001b[43m)\u001b[49m\n",
      "\u001b[1;31mValueError\u001b[0m: invalid literal for int() with base 10: '4.5'"
     ]
    }
   ],
   "source": [
    "int('4.5')"
   ]
  },
  {
   "cell_type": "code",
   "execution_count": 16,
   "id": "e9fecced-4558-420b-898b-041c13f887d4",
   "metadata": {},
   "outputs": [
    {
     "data": {
      "text/plain": [
       "5.0"
      ]
     },
     "execution_count": 16,
     "metadata": {},
     "output_type": "execute_result"
    }
   ],
   "source": [
    "# int --> float\n",
    "float(5)"
   ]
  },
  {
   "cell_type": "code",
   "execution_count": 18,
   "id": "1c166714-11f3-4162-9dc0-41eeee74f7f7",
   "metadata": {},
   "outputs": [
    {
     "data": {
      "text/plain": [
       "'5'"
      ]
     },
     "execution_count": 18,
     "metadata": {},
     "output_type": "execute_result"
    }
   ],
   "source": [
    "# int --> string\n",
    "str(5)"
   ]
  },
  {
   "cell_type": "code",
   "execution_count": 22,
   "id": "a1054923-d4dc-4b6b-a21c-7092f66760ce",
   "metadata": {},
   "outputs": [
    {
     "data": {
      "text/plain": [
       "False"
      ]
     },
     "execution_count": 22,
     "metadata": {},
     "output_type": "execute_result"
    }
   ],
   "source": [
    "bool(0)"
   ]
  },
  {
   "cell_type": "code",
   "execution_count": 23,
   "id": "22247de0-1088-49da-971e-3da96c99f965",
   "metadata": {},
   "outputs": [
    {
     "data": {
      "text/plain": [
       "(9+0j)"
      ]
     },
     "execution_count": 23,
     "metadata": {},
     "output_type": "execute_result"
    }
   ],
   "source": [
    "complex(9)"
   ]
  },
  {
   "cell_type": "code",
   "execution_count": 25,
   "id": "82aace7c-8d49-4e2e-bebb-9a47f98a3512",
   "metadata": {},
   "outputs": [
    {
     "data": {
      "text/plain": [
       "['H', 'E', 'l', 'l', 'o']"
      ]
     },
     "execution_count": 25,
     "metadata": {},
     "output_type": "execute_result"
    }
   ],
   "source": [
    "list(\"HEllo\")"
   ]
  },
  {
   "cell_type": "markdown",
   "id": "a0ffeb3e-46ad-4c61-aa7d-3752c51ec20d",
   "metadata": {},
   "source": [
    " <h1 style='text-align : center '> Type conversion is not permanent operation</h1>\n",
    " <br>"
   ]
  },
  {
   "cell_type": "markdown",
   "id": "eb8d7b2f-be95-4c10-ba35-89da464a5005",
   "metadata": {},
   "source": [
    " <h3 style='text-align : center '> Type casting  is permanent operation but <b>Type conversion will not change tha main value</b></h3>\n",
    " <br>"
   ]
  },
  {
   "cell_type": "code",
   "execution_count": 27,
   "id": "f14be66f-2204-4fad-ac6f-423e1d03595b",
   "metadata": {},
   "outputs": [],
   "source": [
    "a=3.4"
   ]
  },
  {
   "cell_type": "code",
   "execution_count": 29,
   "id": "d0a92bd6-9a85-4798-87f2-8314a84064c3",
   "metadata": {},
   "outputs": [
    {
     "data": {
      "text/plain": [
       "3"
      ]
     },
     "execution_count": 29,
     "metadata": {},
     "output_type": "execute_result"
    }
   ],
   "source": [
    "int(a)"
   ]
  },
  {
   "cell_type": "code",
   "execution_count": 31,
   "id": "6ba87b14-5522-485f-ae1f-a2f64b2918d1",
   "metadata": {},
   "outputs": [
    {
     "name": "stdout",
     "output_type": "stream",
     "text": [
      "3.4\n"
     ]
    }
   ],
   "source": [
    "print(a)"
   ]
  },
  {
   "cell_type": "markdown",
   "id": "a5fdb698-0d2b-498d-8b85-14a5ac4e4b2a",
   "metadata": {},
   "source": [
    "<h3>Take two numbers from users and add them</h3>"
   ]
  },
  {
   "cell_type": "code",
   "execution_count": 35,
   "id": "9c4ed122-74f5-4d23-be2a-810b76f69220",
   "metadata": {},
   "outputs": [
    {
     "name": "stdin",
     "output_type": "stream",
     "text": [
      "Enter first number:  45\n",
      "Enter second number:  55\n"
     ]
    },
    {
     "name": "stdout",
     "output_type": "stream",
     "text": [
      "100\n"
     ]
    }
   ],
   "source": [
    "first = int(input(\"Enter first number: \"))\n",
    "second = int(input(\"Enter second number: \"))\n",
    "\n",
    "sum = first+second\n",
    "print(sum)"
   ]
  }
 ],
 "metadata": {
  "kernelspec": {
   "display_name": "Python 3 (ipykernel)",
   "language": "python",
   "name": "python3"
  },
  "language_info": {
   "codemirror_mode": {
    "name": "ipython",
    "version": 3
   },
   "file_extension": ".py",
   "mimetype": "text/x-python",
   "name": "python",
   "nbconvert_exporter": "python",
   "pygments_lexer": "ipython3",
   "version": "3.11.3"
  }
 },
 "nbformat": 4,
 "nbformat_minor": 5
}
