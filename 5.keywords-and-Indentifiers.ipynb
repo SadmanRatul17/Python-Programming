{
 "cells": [
  {
   "cell_type": "markdown",
   "id": "21b2f587-6a94-47d9-96f4-95d19c1a25bb",
   "metadata": {},
   "source": [
    " <h1 style='text-align : center '>Keywords</h1>"
   ]
  },
  {
   "cell_type": "markdown",
   "id": "def161c0-7e6a-4646-b456-83a61987ce67",
   "metadata": {},
   "source": [
    "<ul>\n",
    "    <li><h4>Python is a case-sensitive programming language.</h4></li>\n",
    "    <li><h4>python has <b>33 keywords.</b></h4></li>\n",
    "    <br>\n",
    "    <li><h4>In programming, a keyword is a word that is reserved by a program because the word has a special meaning. Keywords can be commands or        parameters. Every programming language has a set of keywords that cannot be used as variable names.</h4></li>\n",
    "</ul>\n",
    "<br>"
   ]
  },
  {
   "cell_type": "code",
   "execution_count": 5,
   "id": "c10341b6-3627-4861-8799-fb80b0232e43",
   "metadata": {},
   "outputs": [
    {
     "name": "stdout",
     "output_type": "stream",
     "text": [
      "['False', 'None', 'True', 'and', 'as', 'assert', 'async', 'await', 'break', 'class', 'continue', 'def', 'del', 'elif', 'else', 'except', 'finally', 'for', 'from', 'global', 'if', 'import', 'in', 'is', 'lambda', 'nonlocal', 'not', 'or', 'pass', 'raise', 'return', 'try', 'while', 'with', 'yield']\n"
     ]
    }
   ],
   "source": [
    "import keyword\n",
    "print(keyword.kwlist)"
   ]
  },
  {
   "cell_type": "markdown",
   "id": "b5537d80-b8d2-4743-830b-fbbac3b05280",
   "metadata": {},
   "source": [
    "<br>\n",
    "<h1 style='text-align : center '>Identifiers</h1>\n",
    "<br>"
   ]
  },
  {
   "cell_type": "markdown",
   "id": "3fab7e33-92e6-41d1-93b8-afd3f6781a6a",
   "metadata": {},
   "source": [
    "<p>A Python identifier is a name used to identify a variable, function, class, module or other object.</p>"
   ]
  },
  {
   "cell_type": "markdown",
   "id": "6d355065-706a-46e7-9396-40b3068b6881",
   "metadata": {},
   "source": [
    "<h3>Rules for setting Identifiers:</h3>"
   ]
  },
  {
   "cell_type": "markdown",
   "id": "a33fbae6-858a-4d62-b94b-9f20a13fdaad",
   "metadata": {},
   "source": [
    "\n",
    "<ul>\n",
    "    <li>can only start with an alphabet or _</li>\n",
    "    <li>Followed by 0 or more letter,_ and digits</li>\n",
    "    <li>keywords cannot be used as identifiers </li>\n",
    "</ul>\n",
    "<br>"
   ]
  },
  {
   "cell_type": "code",
   "execution_count": 7,
   "id": "13137ec0-80c6-4763-9dda-8d4082f34276",
   "metadata": {},
   "outputs": [
    {
     "ename": "SyntaxError",
     "evalue": "invalid syntax (3534825111.py, line 1)",
     "output_type": "error",
     "traceback": [
      "\u001b[1;36m  Cell \u001b[1;32mIn[7], line 1\u001b[1;36m\u001b[0m\n\u001b[1;33m    * = \"ratul\"\u001b[0m\n\u001b[1;37m      ^\u001b[0m\n\u001b[1;31mSyntaxError\u001b[0m\u001b[1;31m:\u001b[0m invalid syntax\n"
     ]
    }
   ],
   "source": [
    "* = \"ratul\"\n",
    "print(*)"
   ]
  },
  {
   "cell_type": "code",
   "execution_count": 12,
   "id": "8d847516-bf10-41bf-b525-8d21229eb24f",
   "metadata": {},
   "outputs": [
    {
     "ename": "SyntaxError",
     "evalue": "cannot assign to True (2275214517.py, line 1)",
     "output_type": "error",
     "traceback": [
      "\u001b[1;36m  Cell \u001b[1;32mIn[12], line 1\u001b[1;36m\u001b[0m\n\u001b[1;33m    True = \"Ratul\"\u001b[0m\n\u001b[1;37m    ^\u001b[0m\n\u001b[1;31mSyntaxError\u001b[0m\u001b[1;31m:\u001b[0m cannot assign to True\n"
     ]
    }
   ],
   "source": [
    "True = \"Ratul\"\n",
    "print(True)"
   ]
  },
  {
   "cell_type": "code",
   "execution_count": 13,
   "id": "7563a012-b2e0-481a-bbe2-7718f05dcd16",
   "metadata": {},
   "outputs": [
    {
     "name": "stdout",
     "output_type": "stream",
     "text": [
      "Ratul\n"
     ]
    }
   ],
   "source": [
    "true = \"Ratul\"\n",
    "print(true)"
   ]
  },
  {
   "cell_type": "code",
   "execution_count": 11,
   "id": "c7366363-2dfd-4c71-a36f-15cfba3ddf25",
   "metadata": {},
   "outputs": [
    {
     "name": "stdout",
     "output_type": "stream",
     "text": [
      "Ratul\n"
     ]
    }
   ],
   "source": [
    "__ = \"Ratul\"\n",
    "print(__)"
   ]
  }
 ],
 "metadata": {
  "kernelspec": {
   "display_name": "Python 3 (ipykernel)",
   "language": "python",
   "name": "python3"
  },
  "language_info": {
   "codemirror_mode": {
    "name": "ipython",
    "version": 3
   },
   "file_extension": ".py",
   "mimetype": "text/x-python",
   "name": "python",
   "nbconvert_exporter": "python",
   "pygments_lexer": "ipython3",
   "version": "3.11.3"
  }
 },
 "nbformat": 4,
 "nbformat_minor": 5
}
