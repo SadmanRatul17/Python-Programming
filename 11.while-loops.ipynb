{
 "cells": [
  {
   "cell_type": "markdown",
   "id": "8c9018a9-8544-46bf-93c3-296ad4d2f709",
   "metadata": {},
   "source": [
    "<h1 style='text-align : center '> while loops</h1>\n",
    "<br>"
   ]
  },
  {
   "cell_type": "code",
   "execution_count": null,
   "id": "06f5ebb7-14ad-42b3-a7f3-d12ec9d15816",
   "metadata": {},
   "outputs": [],
   "source": [
    "while condition:\n",
    "    code"
   ]
  },
  {
   "cell_type": "code",
   "execution_count": 1,
   "id": "48e01697-8d8a-4e47-9988-cc71093ab30c",
   "metadata": {},
   "outputs": [
    {
     "name": "stdin",
     "output_type": "stream",
     "text": [
      "Enter a number 11\n"
     ]
    },
    {
     "name": "stdout",
     "output_type": "stream",
     "text": [
      "11\n",
      "22\n",
      "33\n",
      "44\n",
      "55\n",
      "66\n",
      "77\n",
      "88\n",
      "99\n",
      "110\n"
     ]
    }
   ],
   "source": [
    "number = int(input(\"Enter a number\"))\n",
    "i=1\n",
    "while i<11:\n",
    "    print(number*i)\n",
    "    i+=1\n",
    "    \n"
   ]
  }
 ],
 "metadata": {
  "kernelspec": {
   "display_name": "Python 3 (ipykernel)",
   "language": "python",
   "name": "python3"
  },
  "language_info": {
   "codemirror_mode": {
    "name": "ipython",
    "version": 3
   },
   "file_extension": ".py",
   "mimetype": "text/x-python",
   "name": "python",
   "nbconvert_exporter": "python",
   "pygments_lexer": "ipython3",
   "version": "3.11.3"
  }
 },
 "nbformat": 4,
 "nbformat_minor": 5
}
