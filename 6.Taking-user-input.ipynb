{
 "cells": [
  {
   "cell_type": "code",
   "execution_count": 1,
   "id": "a96578bf-5dae-4b51-8019-ebad339cd910",
   "metadata": {},
   "outputs": [
    {
     "name": "stdin",
     "output_type": "stream",
     "text": [
      " Ratul\n"
     ]
    },
    {
     "data": {
      "text/plain": [
       "'Ratul'"
      ]
     },
     "execution_count": 1,
     "metadata": {},
     "output_type": "execute_result"
    }
   ],
   "source": [
    "input()"
   ]
  },
  {
   "cell_type": "code",
   "execution_count": 1,
   "id": "13dca6ef-37ea-4061-8be9-db982a28e16b",
   "metadata": {},
   "outputs": [
    {
     "name": "stdin",
     "output_type": "stream",
     "text": [
      "Enter Your Name: Ratul\n"
     ]
    },
    {
     "data": {
      "text/plain": [
       "'Ratul'"
      ]
     },
     "execution_count": 1,
     "metadata": {},
     "output_type": "execute_result"
    }
   ],
   "source": [
    "input(\"Enter Your Name:\")"
   ]
  },
  {
   "cell_type": "code",
   "execution_count": 4,
   "id": "e73b0882-cc23-4932-b329-c8c3883439db",
   "metadata": {},
   "outputs": [
    {
     "name": "stdin",
     "output_type": "stream",
     "text": [
      "Enter Your First Number: 56\n",
      "Enter Your second Number: 78\n"
     ]
    }
   ],
   "source": [
    "first_num  = input(\"Enter Your First Number:\")\n",
    "second_num  = input(\"Enter Your second Number:\")"
   ]
  },
  {
   "cell_type": "code",
   "execution_count": 6,
   "id": "ea856136-e612-48e1-994f-c90ed8705877",
   "metadata": {},
   "outputs": [
    {
     "name": "stdout",
     "output_type": "stream",
     "text": [
      "56\n"
     ]
    }
   ],
   "source": [
    "print(first_num)"
   ]
  },
  {
   "cell_type": "code",
   "execution_count": 9,
   "id": "2ef7f3a0-f4f8-4900-9097-d87cedd5ca96",
   "metadata": {},
   "outputs": [
    {
     "data": {
      "text/plain": [
       "str"
      ]
     },
     "execution_count": 9,
     "metadata": {},
     "output_type": "execute_result"
    }
   ],
   "source": [
    "#type\n",
    "\n",
    "type(first_num)"
   ]
  },
  {
   "cell_type": "code",
   "execution_count": 10,
   "id": "e9ee1d3c-9614-49e5-8012-8009021239d3",
   "metadata": {},
   "outputs": [
    {
     "data": {
      "text/plain": [
       "str"
      ]
     },
     "execution_count": 10,
     "metadata": {},
     "output_type": "execute_result"
    }
   ],
   "source": [
    "type(second_num)"
   ]
  }
 ],
 "metadata": {
  "kernelspec": {
   "display_name": "Python 3 (ipykernel)",
   "language": "python",
   "name": "python3"
  },
  "language_info": {
   "codemirror_mode": {
    "name": "ipython",
    "version": 3
   },
   "file_extension": ".py",
   "mimetype": "text/x-python",
   "name": "python",
   "nbconvert_exporter": "python",
   "pygments_lexer": "ipython3",
   "version": "3.11.3"
  }
 },
 "nbformat": 4,
 "nbformat_minor": 5
}
