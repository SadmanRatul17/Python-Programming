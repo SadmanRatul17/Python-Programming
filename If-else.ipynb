{
 "cells": [
  {
   "cell_type": "code",
   "execution_count": 6,
   "id": "2cd1381c-5b47-4755-bb2b-aee75c9dcbcd",
   "metadata": {},
   "outputs": [
    {
     "name": "stdin",
     "output_type": "stream",
     "text": [
      "Enter your mail : sadmanratul17gmail.com\n"
     ]
    },
    {
     "name": "stdout",
     "output_type": "stream",
     "text": [
      "Wrong email\n"
     ]
    }
   ],
   "source": [
    "#email - sadmanratul17@gmail.com\n",
    "#password - 1234\n",
    "email = input(\"Enter your mail :\")\n",
    "if \"@\" in email:\n",
    "    password = input(\"enter your password:\")\n",
    "    if email == \"sadmanratul17@gmail.com\" and password == \"1234\":\n",
    "        print(\"Welcome\")\n",
    "    elif email == \"sadmanratul17@gmail.com\" and password != \"1234\":\n",
    "        print(\"Wrong password\")\n",
    "        password = input(\"enter your password again:\")\n",
    "        if password == \"1234\":\n",
    "            print(\"Welcome\")\n",
    "        else:\n",
    "            print(\"Wrong password again\")\n",
    "    else:\n",
    "        print(\"Wrong email\")\n",
    "else:\n",
    "    print(\"Wrong email\")\n",
    "    "
   ]
  }
 ],
 "metadata": {
  "kernelspec": {
   "display_name": "Python 3 (ipykernel)",
   "language": "python",
   "name": "python3"
  },
  "language_info": {
   "codemirror_mode": {
    "name": "ipython",
    "version": 3
   },
   "file_extension": ".py",
   "mimetype": "text/x-python",
   "name": "python",
   "nbconvert_exporter": "python",
   "pygments_lexer": "ipython3",
   "version": "3.11.3"
  }
 },
 "nbformat": 4,
 "nbformat_minor": 5
}
