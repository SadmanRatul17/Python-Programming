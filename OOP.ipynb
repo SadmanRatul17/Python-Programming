{
 "cells": [
  {
   "cell_type": "markdown",
   "id": "3ef73295-1f2a-44f1-a88d-221f619e6f5c",
   "metadata": {},
   "source": [
    "<h1 style='text-align : center '>  Class  </h1>"
   ]
  },
  {
   "cell_type": "markdown",
   "id": "a7fe852d-70fd-4152-a2d4-5586259fbf46",
   "metadata": {},
   "source": [
    "<ul>\n",
    "    <li><h2>Class is blue print</h2></li>\n",
    "     <li><h3>The class has Data or Property AND Method or Behaviour</h3></li>\n",
    "    <li><h3>The name of the class should be in Pascal case(ThisIsPascalCase)</h3></li>\n",
    "    <li><h3>The name of the method should be in snake case(This_is_snake)</h3></li>\n",
    "</ul>\n",
    "<br>\n",
    "<br>"
   ]
  },
  {
   "cell_type": "markdown",
   "id": "b2048e03-9cb8-4aea-a6a1-539c9fdb6602",
   "metadata": {},
   "source": [
    "<h1 style='text-align : center '>  Object  </h1>"
   ]
  },
  {
   "cell_type": "markdown",
   "id": "bbe28bf2-f05d-476f-91d6-abba141931ed",
   "metadata": {},
   "source": [
    "<ul>\n",
    "    <li><h2>Object is an instance of the class </h2></li>\n",
    "</ul>\n",
    "<br>\n",
    "<h2>Example:  car(class) -----> bmw(object).</h2>\n",
    "<h2>Syntax: bmw = car()</h2>\n",
    "<br>\n",
    "<ul>\n",
    "    <li><h2>Objects are mutable</h2></li>\n",
    "</ul>\n",
    "\n",
    "<br>\n",
    "<br>\n"
   ]
  },
  {
   "cell_type": "markdown",
   "id": "2052996e-dd81-40f9-9054-dca1d0ae31e5",
   "metadata": {},
   "source": [
    "<h1 style='text-align : center '>  Function vs Method</h1>"
   ]
  },
  {
   "cell_type": "markdown",
   "id": "cc640f70-db78-4fc3-aa22-7cf77f2c36c6",
   "metadata": {},
   "source": [
    "<ul>\n",
    "    <li><h3>A function is defined outside of a class, while a method is defined within a class. </h3></li>\n",
    "     <li><h3> A function can be accessed by any part of the code, whereas a method can only be accessed through an instance of the class it belongs to.</h3></li>\n",
    "   \n",
    "</ul>\n",
    "<br>\n",
    "<br>"
   ]
  },
  {
   "cell_type": "markdown",
   "id": "2a659328-8680-4166-baaa-069b947df051",
   "metadata": {},
   "source": [
    "<h1 style='text-align : center '>  Constructor </h1>"
   ]
  },
  {
   "cell_type": "markdown",
   "id": "3f5ca417-29d2-4a0e-8712-1c005973cd72",
   "metadata": {},
   "source": [
    "<h2>Constructors(__init__) in Python is a special/ magical/ dunder method for creating and initializing an object instance at that class.</h2>\n",
    "<br>\n",
    "<br>"
   ]
  },
  {
   "cell_type": "markdown",
   "id": "fcaaa00a-eb5d-4f30-967c-d29a252d5408",
   "metadata": {},
   "source": [
    "<br>\n",
    "<h1 style='text-align : center '>Encapsulation</h1>\n",
    "<br>"
   ]
  },
  {
   "cell_type": "markdown",
   "id": "e699aa7c-950d-4435-a010-746d70f5fce8",
   "metadata": {},
   "source": [
    "<h2>What is instance variable?</h2>\n",
    "<h3>-> It is a kind of variable for which the value of the variable is different for every object</h3>\n"
   ]
  },
  {
   "cell_type": "markdown",
   "id": "701cf731-6018-45cb-9388-7c61e71e1b01",
   "metadata": {},
   "source": [
    "<h2>Example of instance variable:</h2>"
   ]
  },
  {
   "cell_type": "code",
   "execution_count": 28,
   "id": "18804dc8-06f7-43c2-a932-7ac05bbb9a3c",
   "metadata": {},
   "outputs": [],
   "source": [
    "# constructor( __init__)\n",
    "\n",
    "#    def __init__(self):\n",
    "#        self.pin=\"\"    <-- pin is instance variable\n",
    "#        self.balance = 0   <-- balance is instance variable"
   ]
  },
  {
   "cell_type": "markdown",
   "id": "5357a014-16c2-4b1d-9300-bea0cd9b850b",
   "metadata": {},
   "source": [
    "<br>\n",
    "<br>\n",
    "<h2>What is Static or Class Variable?</h2>\n",
    "<ul>\n",
    "    <li><h3>Static variables are created outside of methods but inside a class. </h3></li>\n",
    "     <li><h3>Static variables behavior doesn’t change for every object.</h3></li>\n",
    "   \n",
    "</ul>\n"
   ]
  },
  {
   "cell_type": "markdown",
   "id": "fcb96f92-9642-4cbe-b97f-f61b0528daab",
   "metadata": {},
   "source": [
    "<h2>Example of Static / class variable:</h2>"
   ]
  },
  {
   "cell_type": "code",
   "execution_count": 30,
   "id": "da917d43-c4d1-47ae-ae23-319ef7845545",
   "metadata": {},
   "outputs": [],
   "source": [
    "#  class customer:\n",
    "#\n",
    "#      counter = 1           <-- counter is Static or Class Variable\n",
    "#\n",
    "#     def __init__(self):\n",
    "#        self.pin=\"\"         <-- pin is instance variable\n",
    "#        self.balance = 0    <-- balance is instance variable"
   ]
  },
  {
   "cell_type": "markdown",
   "id": "afb740d7-c426-43c5-a43e-5ab5ca6dd226",
   "metadata": {},
   "source": [
    "<br>\n",
    "<ul>\n",
    "    <li><h2>If you want to private any instance variable -->  __menu, self.__pin, self.__balance</h2></li>\n",
    "</ul>\n",
    "<br>"
   ]
  },
  {
   "cell_type": "markdown",
   "id": "330d5a61-5b12-463d-a795-52cf36d3730e",
   "metadata": {},
   "source": [
    "<br>\n",
    "<ul>\n",
    "    <li><h2>Nothing is python is truly private .  </h2></li>\n",
    "</ul>\n",
    " <h3>--> If they know your variable name they can access that private variable.example: _className__variableName (_Atm__pin)</h3>\n",
    "<br>"
   ]
  },
  {
   "cell_type": "markdown",
   "id": "2d32412a-bce7-4a02-946c-fdf8412a5f84",
   "metadata": {},
   "source": [
    "<br>\n",
    "<h1 style='text-align : center '>Reference variable</h1>"
   ]
  },
  {
   "cell_type": "markdown",
   "id": "8b12e3f2-7077-4a84-8edf-99e0bba37815",
   "metadata": {},
   "source": [
    "<h3>A reference is a name that refers to the specific location in memory of a value (object).</h3>\n",
    "<h3>Example: acc1 = atm() , here <b>acc1</b> is <b>reference variable.</b></h3>\n",
    "<br>"
   ]
  },
  {
   "cell_type": "markdown",
   "id": "19879ed2-8010-47e9-a6d4-2532eb0b4e75",
   "metadata": {},
   "source": [
    "<h1 style='text-align : center '>Pass by reference</h1>"
   ]
  },
  {
   "cell_type": "code",
   "execution_count": 26,
   "id": "70b9ae53-aab0-4c08-9f29-44ae75208257",
   "metadata": {},
   "outputs": [
    {
     "name": "stdout",
     "output_type": "stream",
     "text": [
      "Hello Ratul sir\n"
     ]
    }
   ],
   "source": [
    "class customer:\n",
    "\n",
    "    def __init__(self,name,gender):\n",
    "        self.name = name\n",
    "        self.gender = gender\n",
    "\n",
    "def greet(customer):\n",
    "    if customer.gender == \"male\":\n",
    "        print(\"Hello\",customer.name,\"sir\")\n",
    "    else:\n",
    "        print(\"Hello\",customer.name,\"mam\")\n",
    "        \n",
    "cust = customer(\"Ratul\",\"male\")\n",
    "\n",
    "greet(cust) # giving Object as a argument"
   ]
  },
  {
   "cell_type": "markdown",
   "id": "ebd03587-e719-4c70-bc03-a94e1043a46a",
   "metadata": {},
   "source": [
    "<br>\n",
    "<h1 style='text-align : center '>Inheritance</h1>"
   ]
  },
  {
   "cell_type": "markdown",
   "id": "343b65f9-3d10-4dc7-a68b-c01143eda518",
   "metadata": {},
   "source": [
    "<ul>\n",
    "    <li><h3>Parent class is the class being inherited from, also called base class.</h3></li>\n",
    "    <li><h3>Child class is the class that inherits from another class, also called derived class.</h3></li>\n",
    "    <li><h3>You can inheritate data member, methods, constructor.</h3></li>\n",
    "    <li><h3>Private members are not accessable.</h3></li>\n",
    "</ul>"
   ]
  },
  {
   "cell_type": "markdown",
   "id": "07610880-b4f0-4b42-9fbf-6339e8ce9e6f",
   "metadata": {},
   "source": [
    "<br>\n",
    "<h2>Types of inheritance:</h2>\n",
    "<ol>\n",
    "    <li>Single level inheritance (parent <--- child)</li>\n",
    "    <li>Multi level inheritance (grandpa <---- parent <--- child )</li>\n",
    "    <li>Hierarchical inheritance ( one parent multiple children )</li>\n",
    "    <li>Multi inheritance ( one child has two parents)</li>\n",
    "</ol>\n",
    "<br>"
   ]
  },
  {
   "cell_type": "code",
   "execution_count": 1,
   "id": "7a3c75cc-9b97-4065-b21b-3c6f8594c044",
   "metadata": {},
   "outputs": [],
   "source": [
    "class user:\n",
    "    \n",
    "    def login(self):\n",
    "        print(\"Login\")\n",
    "        \n",
    "    def register(self):\n",
    "        print(\"Register\")\n",
    "\n",
    "class student(user): # student class is a sub class of user class. Example: child_class(parent_class)\n",
    "    \n",
    "    def enroll(self):\n",
    "        print(\"enroll\")\n",
    "        \n",
    "    def review(self):\n",
    "        print(\"Review\")\n"
   ]
  },
  {
   "cell_type": "code",
   "execution_count": 2,
   "id": "9f730506-ab6e-4eb0-90b9-abe91824389a",
   "metadata": {},
   "outputs": [
    {
     "name": "stdout",
     "output_type": "stream",
     "text": [
      "enroll\n",
      "Review\n",
      "Login\n",
      "Register\n"
     ]
    }
   ],
   "source": [
    "std1= student()\n",
    "std1.enroll()\n",
    "std1.review()\n",
    "std1.login()     # came from parent class\n",
    "std1.register()  # came from parent class"
   ]
  },
  {
   "cell_type": "code",
   "execution_count": 4,
   "id": "af9a0e96-10f6-4273-a7e0-6bb8ff3a5eed",
   "metadata": {},
   "outputs": [
    {
     "ename": "AttributeError",
     "evalue": "'user' object has no attribute 'enroll'",
     "output_type": "error",
     "traceback": [
      "\u001b[1;31m---------------------------------------------------------------------------\u001b[0m",
      "\u001b[1;31mAttributeError\u001b[0m                            Traceback (most recent call last)",
      "Cell \u001b[1;32mIn[4], line 2\u001b[0m\n\u001b[0;32m      1\u001b[0m usr1 \u001b[38;5;241m=\u001b[39m user()\n\u001b[1;32m----> 2\u001b[0m \u001b[43musr1\u001b[49m\u001b[38;5;241;43m.\u001b[39;49m\u001b[43menroll\u001b[49m()\n\u001b[0;32m      3\u001b[0m usr1\u001b[38;5;241m.\u001b[39mreview()\n",
      "\u001b[1;31mAttributeError\u001b[0m: 'user' object has no attribute 'enroll'"
     ]
    }
   ],
   "source": [
    "# parent class can not access child class\n",
    "usr1 = user()\n",
    "usr1.enroll()   \n",
    "usr1.review()   "
   ]
  },
  {
   "cell_type": "markdown",
   "id": "50f002b9-8dc2-4c69-9043-a73872fd1b6a",
   "metadata": {},
   "source": [
    "<br>\n",
    "<h1 style='text-align : center '>Polymorphism</h1>"
   ]
  },
  {
   "cell_type": "markdown",
   "id": "70dbdae9-c519-437b-86a8-0ab0b3bd08a7",
   "metadata": {},
   "source": [
    "<ul>\n",
    "    <li><h3>Method overriding</h3></li>\n",
    "    <li><h3>Method overloading.</h3></li>\n",
    "    <li><h3>Operator overloading.</h3></li>\n",
    "</ul>"
   ]
  },
  {
   "cell_type": "markdown",
   "id": "f865d044-1a98-467e-bfe4-2150a167a8cf",
   "metadata": {},
   "source": [
    "<br>\n",
    "<h4>Method overriding : Parent and child class has same name methods then child class methods will execute.</h4>"
   ]
  },
  {
   "cell_type": "markdown",
   "id": "160e2528-1789-473e-b3c0-a9b39b574939",
   "metadata": {},
   "source": [
    "<br>\n",
    "<h4>Method Overloading: \r\n",
    "Two or more methods have the same name but different numbers of parameters or different types of parameters, or both. </h4>"
   ]
  },
  {
   "cell_type": "code",
   "execution_count": 2,
   "id": "3beb3c52-858f-4193-81d6-29a652446293",
   "metadata": {},
   "outputs": [
    {
     "name": "stdout",
     "output_type": "stream",
     "text": [
      "Circle : 28.2744\n",
      "Rect 12\n"
     ]
    }
   ],
   "source": [
    "class geometry:\n",
    "\n",
    "    def area(self, a, b=0):\n",
    "        if b==0:\n",
    "            print(\"Circle :\",3.1416*a*a)\n",
    "        else:\n",
    "            print(\"Rect\",a*b)\n",
    "\n",
    "obj = geometry()\n",
    "obj.area(3)\n",
    "obj.area(3,4)\n",
    "            "
   ]
  },
  {
   "cell_type": "markdown",
   "id": "31c4d21a-383b-430c-b84b-150d4e489032",
   "metadata": {},
   "source": [
    "\n",
    "<h4><b>Operator Overloading </b>means giving extended meaning beyond their predefined operational meaning. For example operator + is used to add two integers as well as join two strings and merge two lists. </h4>\n"
   ]
  },
  {
   "cell_type": "markdown",
   "id": "0b9ef082-fb1d-4389-a312-a5733d6f98a0",
   "metadata": {},
   "source": [
    "<br>\n",
    "<h4>The super() function is used to refer to the parent class or superclass. It allows you to call methods defined in the superclass from the subclass.</h4>"
   ]
  },
  {
   "cell_type": "markdown",
   "id": "14da1743-c3e1-49b6-a138-aa9f089b8b62",
   "metadata": {},
   "source": [
    "<br>\n",
    "<h1 style='text-align : center '>class diagram</h1>"
   ]
  },
  {
   "cell_type": "code",
   "execution_count": 21,
   "id": "f6a69db2-1003-4e0a-b9b4-6521923eaca5",
   "metadata": {},
   "outputs": [],
   "source": [
    "#  ---------------------------\n",
    "#           Atm\n",
    "#  ---------------------------   \n",
    "#         - pin\n",
    "#         - balance\n",
    "#  ---------------------------\n",
    "#      \n",
    "#      -  __init__(input)   \n",
    "#      -  menu\n",
    "#      +  change_pin\n",
    "#      +  deposit\n",
    "#      +  withdraw\n",
    "#      +  check_balance\n",
    "#\n",
    "#  --------------------------\n",
    "#\n",
    "#\n",
    "# - = private\n",
    "# + = public"
   ]
  },
  {
   "cell_type": "markdown",
   "id": "0df651e0-6ac3-49ed-9567-b604f0ec2e64",
   "metadata": {},
   "source": [
    "<h2>Let's make a class:</h2>"
   ]
  },
  {
   "cell_type": "code",
   "execution_count": 31,
   "id": "6a13c5b2-a8d4-4c65-99cd-dd9cfcad6f6d",
   "metadata": {},
   "outputs": [],
   "source": [
    "class Atm:\n",
    "    \n",
    "    # static variable\n",
    "    __counter = 1\n",
    "\n",
    "    # constructor\n",
    "    def __init__(self):\n",
    "        \n",
    "        # instance variable\n",
    "        self.__pin=\"\"        # private\n",
    "        self.__balance = 0   # private\n",
    "\n",
    "        self.sno = Atm.__counter\n",
    "        Atm.__counter = Atm.__counter + 1\n",
    "        \n",
    "        self.__menu()\n",
    "\n",
    "    @static method\n",
    "    def get_counter(): # not need self in static methoo\n",
    "        return Atm.__counter\n",
    "\n",
    "    @static method\n",
    "    def set_counter(new):\n",
    "        if type(new) == int:\n",
    "            Atm.__counter = new\n",
    "        else:\n",
    "            print(\"Not Allowed\")\n",
    "        \n",
    "\n",
    "    def __menu(self):\n",
    "        user_input = input( '''\n",
    "                 Hello, how would you like to proceed?\n",
    "                  1. Enter 1 to Create Pin\n",
    "                  2. Enter 2 to Deposit\n",
    "                  3. Enter 3 to Withdraw\n",
    "                  4. Enter 4 to Check balance\n",
    "                  5. Enter 5 to exit.\n",
    "        ''')\n",
    "        \n",
    "        if user_input == '1':\n",
    "            self.create_pin()\n",
    "        elif user_input == '2':\n",
    "            self.deposit()\n",
    "        elif user_input == '3':\n",
    "            self.withdraw()\n",
    "        elif user_input == '4':\n",
    "            self.check_balance()\n",
    "        else:\n",
    "            print(\"Bye\")\n",
    "            \n",
    "\n",
    "    # method for create pin\n",
    "    def create_pin(self):\n",
    "        self.__pin = input(\"Enter your pin :\")\n",
    "        print(\"set successfully\")\n",
    "\n",
    "    # method for get pin\n",
    "    def get_pin(self):\n",
    "        return self.__pin\n",
    "\n",
    "    # method for changed pin\n",
    "    def set_pin(self,new_pin):\n",
    "        if type(new_pin) == str:\n",
    "            self.__pin = new_pin\n",
    "            print(\"Pin seccuessfully changed\")\n",
    "        else:\n",
    "            print(\"Not Allowed\")\n",
    "        \n",
    "\n",
    "    # method for deposit\n",
    "    def deposit(self):\n",
    "        temp = input(\"Enter your pin :\")\n",
    "        if temp == self.__pin:\n",
    "            amount = int(input(\"Enter your withdraw amount :\"))\n",
    "            self.__balance = self.__balance + amount\n",
    "            print(\"deposit successfully\")\n",
    "        else:\n",
    "            print(\"Invalid pin\")\n",
    "            \n",
    "\n",
    "    # method for withdraw\n",
    "    def withdraw(self):\n",
    "        temp = input(\"Enter your pin :\")\n",
    "        if temp == self.pin:\n",
    "            amount = int(input(\"Enter your withdraw amount :\"))\n",
    "            if amount < self.__balance:\n",
    "                self.__balance = self.__balance - amount\n",
    "                print(\"withdraw successfully\")\n",
    "            else:\n",
    "                print(\"Insufficient balance\")\n",
    "        else:\n",
    "            print(\"Invalid pin\")\n",
    "            \n",
    "\n",
    "    # method for check balance\n",
    "    def check_balance(self):\n",
    "        temp = input(\"Enter your pin :\")\n",
    "            \n",
    "        if temp == self.__pin:\n",
    "            print(self.__balance)\n",
    "        else:\n",
    "            print(\"Invalid pin\")\n",
    "        \n",
    "        \n",
    "                \n"
   ]
  },
  {
   "cell_type": "code",
   "execution_count": 2,
   "id": "2c3149da-c2f1-48e7-a5ff-64f007af1d75",
   "metadata": {},
   "outputs": [
    {
     "name": "stdin",
     "output_type": "stream",
     "text": [
      "\n",
      "                 Hello, how would you like to proceed?\n",
      "                  1. Enter 1 to Create Pin\n",
      "                  2. Enter 2 to Deposit\n",
      "                  3. Enter 3 to Withdraw\n",
      "                  4. Enter 4 to Check balance\n",
      "                  5. Enter 5 to exit.\n",
      "         1\n",
      "Enter your pin : 1234\n"
     ]
    },
    {
     "name": "stdout",
     "output_type": "stream",
     "text": [
      "set successfully\n"
     ]
    }
   ],
   "source": [
    "acc1=Atm()"
   ]
  },
  {
   "cell_type": "code",
   "execution_count": 3,
   "id": "e88739f0-18a1-4acc-8aee-c06cf936d0fb",
   "metadata": {},
   "outputs": [
    {
     "name": "stdin",
     "output_type": "stream",
     "text": [
      "Enter your pin : 1234\n",
      "Enter your withdraw amount : 50000\n"
     ]
    },
    {
     "name": "stdout",
     "output_type": "stream",
     "text": [
      "deposit successfully\n"
     ]
    }
   ],
   "source": [
    "acc1.deposit()"
   ]
  },
  {
   "cell_type": "code",
   "execution_count": 4,
   "id": "e8103aba-312d-4914-98e0-e9006b841733",
   "metadata": {},
   "outputs": [
    {
     "name": "stdin",
     "output_type": "stream",
     "text": [
      "Enter your pin : 1234\n"
     ]
    },
    {
     "name": "stdout",
     "output_type": "stream",
     "text": [
      "50000\n"
     ]
    }
   ],
   "source": [
    "acc1.check_balance()"
   ]
  },
  {
   "cell_type": "code",
   "execution_count": 5,
   "id": "f75b6d81-ed78-47be-a9eb-b1cd90e5bb91",
   "metadata": {},
   "outputs": [
    {
     "name": "stdin",
     "output_type": "stream",
     "text": [
      "Enter your pin : 1234\n",
      "Enter your withdraw amount : 24000\n"
     ]
    },
    {
     "name": "stdout",
     "output_type": "stream",
     "text": [
      "withdraw successfully\n"
     ]
    }
   ],
   "source": [
    "acc1.withdraw()"
   ]
  },
  {
   "cell_type": "code",
   "execution_count": 6,
   "id": "302ab669-5a92-45d5-ada7-da7957cfe794",
   "metadata": {},
   "outputs": [
    {
     "name": "stdin",
     "output_type": "stream",
     "text": [
      "Enter your pin : 1234\n"
     ]
    },
    {
     "name": "stdout",
     "output_type": "stream",
     "text": [
      "26000\n"
     ]
    }
   ],
   "source": [
    "acc1.check_balance()"
   ]
  },
  {
   "cell_type": "code",
   "execution_count": 7,
   "id": "f1f05dbb-a754-43a7-bbf5-822d6368b080",
   "metadata": {},
   "outputs": [
    {
     "name": "stdin",
     "output_type": "stream",
     "text": [
      "\n",
      "                 Hello, how would you like to proceed?\n",
      "                  1. Enter 1 to Create Pin\n",
      "                  2. Enter 2 to Deposit\n",
      "                  3. Enter 3 to Withdraw\n",
      "                  4. Enter 4 to Check balance\n",
      "                  5. Enter 5 to exit.\n",
      "         1\n",
      "Enter your pin : 2345\n"
     ]
    },
    {
     "name": "stdout",
     "output_type": "stream",
     "text": [
      "set successfully\n"
     ]
    }
   ],
   "source": [
    "acc2=Atm()"
   ]
  },
  {
   "cell_type": "code",
   "execution_count": 9,
   "id": "065e4153-579d-43a1-8423-e004566f2cf2",
   "metadata": {},
   "outputs": [
    {
     "name": "stdin",
     "output_type": "stream",
     "text": [
      "Enter your pin : 2345\n",
      "Enter your withdraw amount : 100000\n"
     ]
    },
    {
     "name": "stdout",
     "output_type": "stream",
     "text": [
      "deposit successfully\n"
     ]
    }
   ],
   "source": [
    "acc2.deposit()"
   ]
  },
  {
   "cell_type": "code",
   "execution_count": 10,
   "id": "fbdcd6f4-96e5-4e40-8261-514e19531ef3",
   "metadata": {},
   "outputs": [
    {
     "name": "stdin",
     "output_type": "stream",
     "text": [
      "Enter your pin : 1234\n"
     ]
    },
    {
     "name": "stdout",
     "output_type": "stream",
     "text": [
      "26000\n"
     ]
    }
   ],
   "source": [
    "acc1.check_balance() # balance of account 1"
   ]
  },
  {
   "cell_type": "code",
   "execution_count": 11,
   "id": "09ee0a60-12d9-4c6a-84e3-c7d7e54ea0c1",
   "metadata": {},
   "outputs": [
    {
     "name": "stdin",
     "output_type": "stream",
     "text": [
      "Enter your pin : 2345\n"
     ]
    },
    {
     "name": "stdout",
     "output_type": "stream",
     "text": [
      "100000\n"
     ]
    }
   ],
   "source": [
    "acc2.check_balance() # balance of account 2"
   ]
  },
  {
   "cell_type": "code",
   "execution_count": 7,
   "id": "7fe8d11d-6319-45ef-8048-b2af3f86866e",
   "metadata": {},
   "outputs": [
    {
     "name": "stdin",
     "output_type": "stream",
     "text": [
      "\n",
      "                 Hello, how would you like to proceed?\n",
      "                  1. Enter 1 to Create Pin\n",
      "                  2. Enter 2 to Deposit\n",
      "                  3. Enter 3 to Withdraw\n",
      "                  4. Enter 4 to Check balance\n",
      "                  5. Enter 5 to exit.\n",
      "         1\n",
      "Enter your pin : 1234\n"
     ]
    },
    {
     "name": "stdout",
     "output_type": "stream",
     "text": [
      "set successfully\n"
     ]
    }
   ],
   "source": [
    "acc3=Atm()"
   ]
  },
  {
   "cell_type": "code",
   "execution_count": 9,
   "id": "34851d0c-b317-403e-8cb4-b09ed3c99ef8",
   "metadata": {},
   "outputs": [
    {
     "data": {
      "text/plain": [
       "'1234'"
      ]
     },
     "execution_count": 9,
     "metadata": {},
     "output_type": "execute_result"
    }
   ],
   "source": [
    "acc3.get_pin()"
   ]
  },
  {
   "cell_type": "code",
   "execution_count": 10,
   "id": "72594b65-c042-497a-b005-cbbf82d7e640",
   "metadata": {},
   "outputs": [
    {
     "name": "stdout",
     "output_type": "stream",
     "text": [
      "Pin seccuessfully changed\n"
     ]
    }
   ],
   "source": [
    "acc3.set_pin(\"5678\")"
   ]
  }
 ],
 "metadata": {
  "kernelspec": {
   "display_name": "Python 3 (ipykernel)",
   "language": "python",
   "name": "python3"
  },
  "language_info": {
   "codemirror_mode": {
    "name": "ipython",
    "version": 3
   },
   "file_extension": ".py",
   "mimetype": "text/x-python",
   "name": "python",
   "nbconvert_exporter": "python",
   "pygments_lexer": "ipython3",
   "version": "3.11.3"
  }
 },
 "nbformat": 4,
 "nbformat_minor": 5
}
