{
 "cells": [
  {
   "cell_type": "markdown",
   "id": "131830d3-0399-4a74-a03f-f4b1a39594f3",
   "metadata": {},
   "source": [
    "<h2>1. print</h2>"
   ]
  },
  {
   "cell_type": "code",
   "execution_count": 1,
   "id": "eedaa040-1b17-4f04-9086-76981679ccfa",
   "metadata": {},
   "outputs": [
    {
     "name": "stdout",
     "output_type": "stream",
     "text": [
      "Hello world\n"
     ]
    }
   ],
   "source": [
    "print(\"Hello world\")"
   ]
  },
  {
   "cell_type": "markdown",
   "id": "b13bfbf0-db50-4521-9f27-ae90b728bda4",
   "metadata": {},
   "source": [
    "<h2>2. input</h2>"
   ]
  },
  {
   "cell_type": "code",
   "execution_count": null,
   "id": "5274d084-a82e-4cd6-a8a2-1074d6f0793d",
   "metadata": {},
   "outputs": [],
   "source": [
    "input(\"Enter your name: \")"
   ]
  },
  {
   "cell_type": "markdown",
   "id": "79eb53d7-708c-42c4-97f8-691f5c500b31",
   "metadata": {},
   "source": [
    "<h2>3. type</h2>"
   ]
  },
  {
   "cell_type": "code",
   "execution_count": 5,
   "id": "ce89bfd9-d92b-4e84-aa8e-e57f0fdfd75f",
   "metadata": {},
   "outputs": [
    {
     "data": {
      "text/plain": [
       "float"
      ]
     },
     "execution_count": 5,
     "metadata": {},
     "output_type": "execute_result"
    }
   ],
   "source": [
    "type(4.5)"
   ]
  },
  {
   "cell_type": "code",
   "execution_count": 6,
   "id": "6541094e-c340-42b6-9ff4-db06b48b9d3a",
   "metadata": {},
   "outputs": [
    {
     "data": {
      "text/plain": [
       "bool"
      ]
     },
     "execution_count": 6,
     "metadata": {},
     "output_type": "execute_result"
    }
   ],
   "source": [
    "type(True)"
   ]
  },
  {
   "cell_type": "markdown",
   "id": "858c06ee-f69c-4603-9dc3-1fdfecd2a509",
   "metadata": {},
   "source": [
    "<h2>4. int,float,str etc</h2>"
   ]
  },
  {
   "cell_type": "code",
   "execution_count": 7,
   "id": "1ed714db-dfa0-4690-ba75-d9d38ae13d08",
   "metadata": {},
   "outputs": [
    {
     "data": {
      "text/plain": [
       "5"
      ]
     },
     "execution_count": 7,
     "metadata": {},
     "output_type": "execute_result"
    }
   ],
   "source": [
    "int('5')"
   ]
  },
  {
   "cell_type": "code",
   "execution_count": 8,
   "id": "e2243fb0-89bf-453a-ab82-5ad09b2c2405",
   "metadata": {},
   "outputs": [
    {
     "data": {
      "text/plain": [
       "5.0"
      ]
     },
     "execution_count": 8,
     "metadata": {},
     "output_type": "execute_result"
    }
   ],
   "source": [
    "float(5)"
   ]
  },
  {
   "cell_type": "markdown",
   "id": "507331a7-cb99-4dba-8478-09c7dfd15306",
   "metadata": {},
   "source": [
    "<h2>5. abs</h2>"
   ]
  },
  {
   "cell_type": "code",
   "execution_count": 9,
   "id": "20c5b478-4ba7-48b1-90d3-e0ec86911134",
   "metadata": {},
   "outputs": [
    {
     "data": {
      "text/plain": [
       "5"
      ]
     },
     "execution_count": 9,
     "metadata": {},
     "output_type": "execute_result"
    }
   ],
   "source": [
    "abs(-5)"
   ]
  },
  {
   "cell_type": "markdown",
   "id": "b4e578b2-ad7a-4a74-989b-7dac56db7dfd",
   "metadata": {},
   "source": [
    "<h2>6. pow</h2>"
   ]
  },
  {
   "cell_type": "code",
   "execution_count": 10,
   "id": "ecb750be-a1b4-4f63-8b4f-1b59e948c2fb",
   "metadata": {},
   "outputs": [
    {
     "data": {
      "text/plain": [
       "8"
      ]
     },
     "execution_count": 10,
     "metadata": {},
     "output_type": "execute_result"
    }
   ],
   "source": [
    "pow(2,3)"
   ]
  },
  {
   "cell_type": "markdown",
   "id": "75408113-0dce-49e7-ade0-11daff9a766a",
   "metadata": {},
   "source": [
    "<h2>7. min/max</h2>"
   ]
  },
  {
   "cell_type": "code",
   "execution_count": 12,
   "id": "8c893680-2ea0-4572-97da-d12fd4389f8a",
   "metadata": {},
   "outputs": [
    {
     "data": {
      "text/plain": [
       "0"
      ]
     },
     "execution_count": 12,
     "metadata": {},
     "output_type": "execute_result"
    }
   ],
   "source": [
    "min([1,2,3,0])"
   ]
  },
  {
   "cell_type": "code",
   "execution_count": 14,
   "id": "b7b542d2-e211-4ade-be8b-308df48b8e3d",
   "metadata": {},
   "outputs": [
    {
     "data": {
      "text/plain": [
       "3"
      ]
     },
     "execution_count": 14,
     "metadata": {},
     "output_type": "execute_result"
    }
   ],
   "source": [
    "max([1,2,3,0])"
   ]
  },
  {
   "cell_type": "code",
   "execution_count": 15,
   "id": "c6d8f471-3a71-4d80-bb1e-ebb364649ce6",
   "metadata": {},
   "outputs": [
    {
     "data": {
      "text/plain": [
       "'k'"
      ]
     },
     "execution_count": 15,
     "metadata": {},
     "output_type": "execute_result"
    }
   ],
   "source": [
    "max(\"Dhaka\") #it checks ascii value"
   ]
  },
  {
   "cell_type": "markdown",
   "id": "02fc61be-9e53-424e-b11c-3cf5d9aac082",
   "metadata": {},
   "source": [
    "<h2>8. round</h2>"
   ]
  },
  {
   "cell_type": "code",
   "execution_count": 17,
   "id": "212953b0-9cb3-4424-a106-da85cafe190d",
   "metadata": {},
   "outputs": [
    {
     "data": {
      "text/plain": [
       "3"
      ]
     },
     "execution_count": 17,
     "metadata": {},
     "output_type": "execute_result"
    }
   ],
   "source": [
    "c=22/7\n",
    "round(c)"
   ]
  },
  {
   "cell_type": "code",
   "execution_count": 19,
   "id": "879b79a0-f0c2-42ea-b4b4-528b07254a68",
   "metadata": {},
   "outputs": [
    {
     "data": {
      "text/plain": [
       "3.14"
      ]
     },
     "execution_count": 19,
     "metadata": {},
     "output_type": "execute_result"
    }
   ],
   "source": [
    "round(c,2)"
   ]
  },
  {
   "cell_type": "code",
   "execution_count": 21,
   "id": "9e6383eb-9dcb-46ec-b591-fcaa6a08b317",
   "metadata": {},
   "outputs": [
    {
     "data": {
      "text/plain": [
       "3.143"
      ]
     },
     "execution_count": 21,
     "metadata": {},
     "output_type": "execute_result"
    }
   ],
   "source": [
    "round(c,3)"
   ]
  },
  {
   "cell_type": "markdown",
   "id": "df51cc21-a207-45a9-982e-90c3278a006e",
   "metadata": {},
   "source": [
    "<h2>9. divmod</h2>"
   ]
  },
  {
   "cell_type": "code",
   "execution_count": 22,
   "id": "a41c1d5a-e7d0-4ff9-8d70-8943e89e44b2",
   "metadata": {},
   "outputs": [
    {
     "data": {
      "text/plain": [
       "(2, 1)"
      ]
     },
     "execution_count": 22,
     "metadata": {},
     "output_type": "execute_result"
    }
   ],
   "source": [
    "divmod(5,2) #Return the tuple (x//y, x%y)."
   ]
  },
  {
   "cell_type": "markdown",
   "id": "e655aec0-09f1-4035-9d0e-dc51e4a33bde",
   "metadata": {},
   "source": [
    "<h2>10 bin/oct/hex</h2>"
   ]
  },
  {
   "cell_type": "code",
   "execution_count": 24,
   "id": "445c062a-8efa-432b-91d6-caa8690d162d",
   "metadata": {},
   "outputs": [
    {
     "data": {
      "text/plain": [
       "'0b100'"
      ]
     },
     "execution_count": 24,
     "metadata": {},
     "output_type": "execute_result"
    }
   ],
   "source": [
    "bin(4)"
   ]
  },
  {
   "cell_type": "code",
   "execution_count": 26,
   "id": "943430ed-3e09-4c8f-8ebf-a6f85e11319d",
   "metadata": {},
   "outputs": [
    {
     "data": {
      "text/plain": [
       "'0o4'"
      ]
     },
     "execution_count": 26,
     "metadata": {},
     "output_type": "execute_result"
    }
   ],
   "source": [
    "oct(4)"
   ]
  },
  {
   "cell_type": "code",
   "execution_count": 27,
   "id": "c261603d-eaee-408d-9bd7-b3c7b6653100",
   "metadata": {},
   "outputs": [
    {
     "data": {
      "text/plain": [
       "'0xb'"
      ]
     },
     "execution_count": 27,
     "metadata": {},
     "output_type": "execute_result"
    }
   ],
   "source": [
    "hex(11)"
   ]
  },
  {
   "cell_type": "markdown",
   "id": "7725c056-e14b-47de-9921-60cdd8b4dfa7",
   "metadata": {},
   "source": [
    "<h2>11. id</h2>"
   ]
  },
  {
   "cell_type": "code",
   "execution_count": 28,
   "id": "14585f52-b90d-4a81-b4a2-bdb902805dea",
   "metadata": {},
   "outputs": [
    {
     "data": {
      "text/plain": [
       "140711541073000"
      ]
     },
     "execution_count": 28,
     "metadata": {},
     "output_type": "execute_result"
    }
   ],
   "source": [
    "a = 11\n",
    "id(a)"
   ]
  },
  {
   "cell_type": "markdown",
   "id": "8a9f8bd0-a944-443d-927c-a301afcc7f75",
   "metadata": {},
   "source": [
    "<h2>12. ord</h2>"
   ]
  },
  {
   "cell_type": "code",
   "execution_count": 30,
   "id": "4c29a848-a7e8-404f-9b1f-862dec648de0",
   "metadata": {},
   "outputs": [
    {
     "data": {
      "text/plain": [
       "65"
      ]
     },
     "execution_count": 30,
     "metadata": {},
     "output_type": "execute_result"
    }
   ],
   "source": [
    "ord(\"A\") #return the ascii value"
   ]
  },
  {
   "cell_type": "code",
   "execution_count": 31,
   "id": "18550982-7df8-4749-ab6e-009b1ea328b5",
   "metadata": {},
   "outputs": [
    {
     "data": {
      "text/plain": [
       "97"
      ]
     },
     "execution_count": 31,
     "metadata": {},
     "output_type": "execute_result"
    }
   ],
   "source": [
    "ord(\"a\")"
   ]
  },
  {
   "cell_type": "markdown",
   "id": "5d4a6781-f19c-49d5-bcba-4527c7053bf9",
   "metadata": {},
   "source": [
    "<h2>13. len</h2>"
   ]
  },
  {
   "cell_type": "code",
   "execution_count": 33,
   "id": "db5072ed-9017-4fc8-83d5-34f5991621e4",
   "metadata": {},
   "outputs": [
    {
     "data": {
      "text/plain": [
       "4"
      ]
     },
     "execution_count": 33,
     "metadata": {},
     "output_type": "execute_result"
    }
   ],
   "source": [
    "len([1,2,3,4])"
   ]
  },
  {
   "cell_type": "code",
   "execution_count": 34,
   "id": "d335dc10-b681-4262-b289-2cde8cd1e8d6",
   "metadata": {},
   "outputs": [
    {
     "data": {
      "text/plain": [
       "5"
      ]
     },
     "execution_count": 34,
     "metadata": {},
     "output_type": "execute_result"
    }
   ],
   "source": [
    "len(\"dhaka\")"
   ]
  },
  {
   "cell_type": "markdown",
   "id": "afd1cf14-5226-4516-9237-0cc6264cb319",
   "metadata": {},
   "source": [
    "<h2>14. sum</h2>"
   ]
  },
  {
   "cell_type": "code",
   "execution_count": 35,
   "id": "c13cf9b9-97e7-485c-a8c8-25f234c94b14",
   "metadata": {},
   "outputs": [
    {
     "data": {
      "text/plain": [
       "10"
      ]
     },
     "execution_count": 35,
     "metadata": {},
     "output_type": "execute_result"
    }
   ],
   "source": [
    "sum({1,2,3,4})"
   ]
  },
  {
   "cell_type": "markdown",
   "id": "800950df-9346-42ee-a277-1dbb68498b83",
   "metadata": {},
   "source": [
    "<h2>15. help</h2>"
   ]
  },
  {
   "cell_type": "code",
   "execution_count": 37,
   "id": "796e28df-e330-4613-9ab7-7802c0d87f26",
   "metadata": {},
   "outputs": [
    {
     "name": "stdout",
     "output_type": "stream",
     "text": [
      "Help on built-in function ord in module builtins:\n",
      "\n",
      "ord(c, /)\n",
      "    Return the Unicode code point for a one-character string.\n",
      "\n"
     ]
    }
   ],
   "source": [
    "help(\"ord\")"
   ]
  },
  {
   "cell_type": "code",
   "execution_count": 38,
   "id": "b8e64709-9395-4a25-9736-bbcb5cd6b1c4",
   "metadata": {},
   "outputs": [
    {
     "name": "stdout",
     "output_type": "stream",
     "text": [
      "Help on built-in function abs in module builtins:\n",
      "\n",
      "abs(x, /)\n",
      "    Return the absolute value of the argument.\n",
      "\n"
     ]
    }
   ],
   "source": [
    "help(\"abs\")"
   ]
  }
 ],
 "metadata": {
  "kernelspec": {
   "display_name": "Python 3 (ipykernel)",
   "language": "python",
   "name": "python3"
  },
  "language_info": {
   "codemirror_mode": {
    "name": "ipython",
    "version": 3
   },
   "file_extension": ".py",
   "mimetype": "text/x-python",
   "name": "python",
   "nbconvert_exporter": "python",
   "pygments_lexer": "ipython3",
   "version": "3.11.3"
  }
 },
 "nbformat": 4,
 "nbformat_minor": 5
}
