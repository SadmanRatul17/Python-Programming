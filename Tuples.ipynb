{
 "cells": [
  {
   "cell_type": "markdown",
   "id": "ca28111f-c72b-487f-aa31-a0158051a597",
   "metadata": {},
   "source": [
    "\n",
    "<h2>Create tuples</h2>"
   ]
  },
  {
   "cell_type": "code",
   "execution_count": 2,
   "id": "07f82720-53b7-4149-b514-d141d95901cc",
   "metadata": {},
   "outputs": [
    {
     "data": {
      "text/plain": [
       "()"
      ]
     },
     "execution_count": 2,
     "metadata": {},
     "output_type": "execute_result"
    }
   ],
   "source": [
    "t1=() # empty tuples\n",
    "t1"
   ]
  },
  {
   "cell_type": "code",
   "execution_count": 4,
   "id": "7cc81832-96ec-4166-be5e-16b394fe1fd2",
   "metadata": {},
   "outputs": [
    {
     "data": {
      "text/plain": [
       "(1, 2, 3, 4, 5)"
      ]
     },
     "execution_count": 4,
     "metadata": {},
     "output_type": "execute_result"
    }
   ],
   "source": [
    "t2=(1,2,3,4,5) # homogenous tuples\n",
    "t2"
   ]
  },
  {
   "cell_type": "code",
   "execution_count": 5,
   "id": "a5b21b7e-2800-47cf-8084-c8a55b3c32df",
   "metadata": {},
   "outputs": [
    {
     "data": {
      "text/plain": [
       "(1, 2, 'Ratul', True)"
      ]
     },
     "execution_count": 5,
     "metadata": {},
     "output_type": "execute_result"
    }
   ],
   "source": [
    "t3=(1,2,\"Ratul\",True) # hetrogenous tuples\n",
    "t3"
   ]
  },
  {
   "cell_type": "code",
   "execution_count": 6,
   "id": "f2057078-edac-471a-804b-437d8d185051",
   "metadata": {},
   "outputs": [
    {
     "data": {
      "text/plain": [
       "(1, 2, 3, (4, 5))"
      ]
     },
     "execution_count": 6,
     "metadata": {},
     "output_type": "execute_result"
    }
   ],
   "source": [
    "t4=(1,2,3,(4,5)) # 2D tuples\n",
    "t4"
   ]
  },
  {
   "cell_type": "code",
   "execution_count": 8,
   "id": "f4dd5b7c-bcae-4789-8f40-6509f7da3dda",
   "metadata": {},
   "outputs": [
    {
     "data": {
      "text/plain": [
       "1"
      ]
     },
     "execution_count": 8,
     "metadata": {},
     "output_type": "execute_result"
    }
   ],
   "source": [
    "t5=(1) # this is not tuple\n",
    "t5"
   ]
  },
  {
   "cell_type": "code",
   "execution_count": 9,
   "id": "48c15d01-7baf-4c11-9b40-3c9419378a03",
   "metadata": {},
   "outputs": [
    {
     "data": {
      "text/plain": [
       "int"
      ]
     },
     "execution_count": 9,
     "metadata": {},
     "output_type": "execute_result"
    }
   ],
   "source": [
    "type(t5)"
   ]
  },
  {
   "cell_type": "code",
   "execution_count": 10,
   "id": "d47ae4c5-3539-4ca8-9bc3-2228b13c22b4",
   "metadata": {},
   "outputs": [
    {
     "data": {
      "text/plain": [
       "str"
      ]
     },
     "execution_count": 10,
     "metadata": {},
     "output_type": "execute_result"
    }
   ],
   "source": [
    "t6=\"Hello\"\n",
    "type(t6)"
   ]
  },
  {
   "cell_type": "markdown",
   "id": "5aab4e0f-a937-44d0-b1db-05b052bbbcdb",
   "metadata": {},
   "source": [
    "<h2>Then How we will create single item tuple? </h2>"
   ]
  },
  {
   "cell_type": "code",
   "execution_count": 11,
   "id": "36eb1c30-2b88-4e98-aa03-ca49dcab049f",
   "metadata": {},
   "outputs": [
    {
     "data": {
      "text/plain": [
       "tuple"
      ]
     },
     "execution_count": 11,
     "metadata": {},
     "output_type": "execute_result"
    }
   ],
   "source": [
    "t7=(1,)\n",
    "type(t7)"
   ]
  },
  {
   "cell_type": "code",
   "execution_count": 12,
   "id": "f792d64c-8914-4c78-8b5a-6a9460c9d46f",
   "metadata": {},
   "outputs": [
    {
     "data": {
      "text/plain": [
       "tuple"
      ]
     },
     "execution_count": 12,
     "metadata": {},
     "output_type": "execute_result"
    }
   ],
   "source": [
    "t8=(\"Hello\",)\n",
    "type(t8)"
   ]
  },
  {
   "cell_type": "code",
   "execution_count": 14,
   "id": "ec8edcd3-deb5-4595-87a5-a3446f2450f3",
   "metadata": {},
   "outputs": [
    {
     "data": {
      "text/plain": [
       "('D', 'h', 'a', 'k', 'a')"
      ]
     },
     "execution_count": 14,
     "metadata": {},
     "output_type": "execute_result"
    }
   ],
   "source": [
    "t6=tuple(\"Dhaka\") # string to tuple\n",
    "t6"
   ]
  },
  {
   "cell_type": "code",
   "execution_count": 15,
   "id": "071c0d71-2d88-4ea5-8d86-f36ff6abd1a3",
   "metadata": {},
   "outputs": [
    {
     "data": {
      "text/plain": [
       "(1, 2, 3, 4, 5)"
      ]
     },
     "execution_count": 15,
     "metadata": {},
     "output_type": "execute_result"
    }
   ],
   "source": [
    "t7=tuple([1,2,3,4,5]) # list to tuple\n",
    "t7"
   ]
  },
  {
   "cell_type": "code",
   "execution_count": 16,
   "id": "1fd86aa5-3a49-4da4-b6da-d769601c8b93",
   "metadata": {},
   "outputs": [
    {
     "data": {
      "text/plain": [
       "tuple"
      ]
     },
     "execution_count": 16,
     "metadata": {},
     "output_type": "execute_result"
    }
   ],
   "source": [
    "type(t7)"
   ]
  },
  {
   "cell_type": "markdown",
   "id": "236ccef1-7d03-4196-808e-8b47f075d32b",
   "metadata": {},
   "source": [
    "<br>\n",
    "<h2>Access item from a Tuple</h2>"
   ]
  },
  {
   "cell_type": "code",
   "execution_count": 17,
   "id": "9c6468ed-9598-4eb1-aa0c-96c70fde9aec",
   "metadata": {},
   "outputs": [
    {
     "data": {
      "text/plain": [
       "1"
      ]
     },
     "execution_count": 17,
     "metadata": {},
     "output_type": "execute_result"
    }
   ],
   "source": [
    "t2=(1,2,3,4,5)\n",
    "t2[0]"
   ]
  },
  {
   "cell_type": "code",
   "execution_count": 18,
   "id": "bcd55244-bee1-46de-97c5-da114c0eb15c",
   "metadata": {},
   "outputs": [
    {
     "data": {
      "text/plain": [
       "5"
      ]
     },
     "execution_count": 18,
     "metadata": {},
     "output_type": "execute_result"
    }
   ],
   "source": [
    "t2[-1]"
   ]
  },
  {
   "cell_type": "code",
   "execution_count": 19,
   "id": "4f7fdf38-5e74-4f4b-8ee1-0e21ad659412",
   "metadata": {},
   "outputs": [
    {
     "data": {
      "text/plain": [
       "(2, 3, 4)"
      ]
     },
     "execution_count": 19,
     "metadata": {},
     "output_type": "execute_result"
    }
   ],
   "source": [
    "t2[1:4]"
   ]
  },
  {
   "cell_type": "code",
   "execution_count": 20,
   "id": "21cb9772-8f1a-4e60-b3fe-c74b282c5cf8",
   "metadata": {},
   "outputs": [
    {
     "data": {
      "text/plain": [
       "4"
      ]
     },
     "execution_count": 20,
     "metadata": {},
     "output_type": "execute_result"
    }
   ],
   "source": [
    "t4=(1,2,3,(4,5)) # want to access 4 from 2D tuple\n",
    "t4[-1][0]"
   ]
  },
  {
   "cell_type": "markdown",
   "id": "49dec79e-39f2-4142-ba3d-4e155910f925",
   "metadata": {},
   "source": [
    "<br>\n",
    "<h2>Edit in tuple</h2>"
   ]
  },
  {
   "cell_type": "code",
   "execution_count": 21,
   "id": "6395a2aa-8de3-47d5-b75f-aa8d7c99977b",
   "metadata": {},
   "outputs": [
    {
     "ename": "TypeError",
     "evalue": "'tuple' object does not support item assignment",
     "output_type": "error",
     "traceback": [
      "\u001b[1;31m---------------------------------------------------------------------------\u001b[0m",
      "\u001b[1;31mTypeError\u001b[0m                                 Traceback (most recent call last)",
      "Cell \u001b[1;32mIn[21], line 2\u001b[0m\n\u001b[0;32m      1\u001b[0m t2\u001b[38;5;241m=\u001b[39m(\u001b[38;5;241m1\u001b[39m,\u001b[38;5;241m2\u001b[39m,\u001b[38;5;241m3\u001b[39m,\u001b[38;5;241m4\u001b[39m,\u001b[38;5;241m5\u001b[39m)\n\u001b[1;32m----> 2\u001b[0m \u001b[43mt2\u001b[49m\u001b[43m[\u001b[49m\u001b[38;5;241;43m0\u001b[39;49m\u001b[43m]\u001b[49m \u001b[38;5;241m=\u001b[39m \u001b[38;5;241m100\u001b[39m\n\u001b[0;32m      3\u001b[0m t2\n",
      "\u001b[1;31mTypeError\u001b[0m: 'tuple' object does not support item assignment"
     ]
    }
   ],
   "source": [
    "t2=(1,2,3,4,5)\n",
    "t2[0] = 100\n",
    "t2"
   ]
  },
  {
   "cell_type": "markdown",
   "id": "a769a65d-d67f-4dad-8ea9-53ca8845bf5c",
   "metadata": {},
   "source": [
    "<h1 style='text-align : center '>NB: <b>Tuples</b> just like <b>strings</b> are <b>immutable</b></h1>"
   ]
  },
  {
   "cell_type": "markdown",
   "id": "9875d06e-5526-4a81-80ab-03b075cff697",
   "metadata": {},
   "source": [
    "<br>\n",
    "<h2> Delete in tuple</h2>"
   ]
  },
  {
   "cell_type": "code",
   "execution_count": 23,
   "id": "59c596dc-76c0-4de3-9122-3008a8d96f3a",
   "metadata": {},
   "outputs": [
    {
     "data": {
      "text/plain": [
       "(1, 2, 3, 4, 5)"
      ]
     },
     "execution_count": 23,
     "metadata": {},
     "output_type": "execute_result"
    }
   ],
   "source": [
    "t2=(1,2,3,4,5)\n",
    "t2"
   ]
  },
  {
   "cell_type": "code",
   "execution_count": 27,
   "id": "8755a312-15d5-499a-b3b2-ffd6b799c634",
   "metadata": {},
   "outputs": [
    {
     "ename": "TypeError",
     "evalue": "'tuple' object doesn't support item deletion",
     "output_type": "error",
     "traceback": [
      "\u001b[1;31m---------------------------------------------------------------------------\u001b[0m",
      "\u001b[1;31mTypeError\u001b[0m                                 Traceback (most recent call last)",
      "Cell \u001b[1;32mIn[27], line 2\u001b[0m\n\u001b[0;32m      1\u001b[0m t2\u001b[38;5;241m=\u001b[39m(\u001b[38;5;241m1\u001b[39m,\u001b[38;5;241m2\u001b[39m,\u001b[38;5;241m3\u001b[39m,\u001b[38;5;241m4\u001b[39m,\u001b[38;5;241m5\u001b[39m)\n\u001b[1;32m----> 2\u001b[0m \u001b[38;5;28;01mdel\u001b[39;00m \u001b[43mt2\u001b[49m\u001b[43m[\u001b[49m\u001b[38;5;241;43m-\u001b[39;49m\u001b[38;5;241;43m1\u001b[39;49m\u001b[43m]\u001b[49m \u001b[38;5;66;03m# this is possible in list but not in Tuples bcz Tuples are immutable\u001b[39;00m\n",
      "\u001b[1;31mTypeError\u001b[0m: 'tuple' object doesn't support item deletion"
     ]
    }
   ],
   "source": [
    "t2=(1,2,3,4,5)\n",
    "del t2[-1] # this is possible in list but not in Tuples bcz Tuples are immutable"
   ]
  },
  {
   "cell_type": "code",
   "execution_count": 24,
   "id": "7fe01d59-0d48-4e8b-a4c3-4f72f02e47ec",
   "metadata": {},
   "outputs": [],
   "source": [
    "del t2 # You can delete full tuples but not any items"
   ]
  },
  {
   "cell_type": "code",
   "execution_count": 25,
   "id": "bdcdc8da-fa29-4699-aef8-386478dd59b9",
   "metadata": {},
   "outputs": [
    {
     "ename": "NameError",
     "evalue": "name 't2' is not defined",
     "output_type": "error",
     "traceback": [
      "\u001b[1;31m---------------------------------------------------------------------------\u001b[0m",
      "\u001b[1;31mNameError\u001b[0m                                 Traceback (most recent call last)",
      "Cell \u001b[1;32mIn[25], line 1\u001b[0m\n\u001b[1;32m----> 1\u001b[0m \u001b[43mt2\u001b[49m\n",
      "\u001b[1;31mNameError\u001b[0m: name 't2' is not defined"
     ]
    }
   ],
   "source": [
    "t2"
   ]
  },
  {
   "cell_type": "markdown",
   "id": "65287140-6233-460a-94d4-81afeb09cfd0",
   "metadata": {},
   "source": [
    "<br>\n",
    "<h2> Operation</h2>"
   ]
  },
  {
   "cell_type": "code",
   "execution_count": 29,
   "id": "bdbe7d22-6a8c-4321-8a66-89394dbf9315",
   "metadata": {},
   "outputs": [
    {
     "data": {
      "text/plain": [
       "(1, 2, 3, 4, 'hello', 5, 6)"
      ]
     },
     "execution_count": 29,
     "metadata": {},
     "output_type": "execute_result"
    }
   ],
   "source": [
    "t2=(1,2,3,4)\n",
    "t3=(\"hello\",5,6)\n",
    "t2+t3"
   ]
  },
  {
   "cell_type": "code",
   "execution_count": 30,
   "id": "be07baa7-e812-4a7c-b7e9-c35b4c673567",
   "metadata": {},
   "outputs": [
    {
     "data": {
      "text/plain": [
       "('hello', 5, 6, 'hello', 5, 6)"
      ]
     },
     "execution_count": 30,
     "metadata": {},
     "output_type": "execute_result"
    }
   ],
   "source": [
    "t3*2"
   ]
  },
  {
   "cell_type": "code",
   "execution_count": 31,
   "id": "125dc6f7-8964-4b7b-87b9-f2a47960bf88",
   "metadata": {},
   "outputs": [
    {
     "name": "stdout",
     "output_type": "stream",
     "text": [
      "1\n",
      "2\n",
      "3\n",
      "4\n"
     ]
    }
   ],
   "source": [
    "for i in t2:\n",
    "    print(i)"
   ]
  },
  {
   "cell_type": "code",
   "execution_count": 32,
   "id": "e017c64f-54ad-48e2-b755-2480ef8a7d80",
   "metadata": {},
   "outputs": [
    {
     "data": {
      "text/plain": [
       "True"
      ]
     },
     "execution_count": 32,
     "metadata": {},
     "output_type": "execute_result"
    }
   ],
   "source": [
    "1 in t2"
   ]
  },
  {
   "cell_type": "code",
   "execution_count": 33,
   "id": "aa9af8a3-1fa2-4b83-8fed-5468e85a2beb",
   "metadata": {},
   "outputs": [
    {
     "data": {
      "text/plain": [
       "False"
      ]
     },
     "execution_count": 33,
     "metadata": {},
     "output_type": "execute_result"
    }
   ],
   "source": [
    "1 not in t2"
   ]
  },
  {
   "cell_type": "code",
   "execution_count": 34,
   "id": "039087d2-e109-4412-9a62-0cf5ea3e0d40",
   "metadata": {},
   "outputs": [
    {
     "data": {
      "text/plain": [
       "True"
      ]
     },
     "execution_count": 34,
     "metadata": {},
     "output_type": "execute_result"
    }
   ],
   "source": [
    "5 not in t2"
   ]
  },
  {
   "cell_type": "markdown",
   "id": "7938764e-e6a6-48fa-9354-75b2ea4b60b1",
   "metadata": {},
   "source": [
    "<br>\n",
    "<h2> Functions</h2>"
   ]
  },
  {
   "cell_type": "code",
   "execution_count": 35,
   "id": "cb748a00-d893-4712-84ff-8ec82c28bac9",
   "metadata": {},
   "outputs": [
    {
     "data": {
      "text/plain": [
       "4"
      ]
     },
     "execution_count": 35,
     "metadata": {},
     "output_type": "execute_result"
    }
   ],
   "source": [
    "len(t2)"
   ]
  },
  {
   "cell_type": "code",
   "execution_count": 36,
   "id": "c532c1fe-14c1-42f3-933b-2761f18c32cc",
   "metadata": {},
   "outputs": [
    {
     "data": {
      "text/plain": [
       "4"
      ]
     },
     "execution_count": 36,
     "metadata": {},
     "output_type": "execute_result"
    }
   ],
   "source": [
    "max(t2)"
   ]
  },
  {
   "cell_type": "code",
   "execution_count": 37,
   "id": "6d746cd0-2af9-492e-b00d-fceb2ae3922f",
   "metadata": {},
   "outputs": [
    {
     "data": {
      "text/plain": [
       "1"
      ]
     },
     "execution_count": 37,
     "metadata": {},
     "output_type": "execute_result"
    }
   ],
   "source": [
    "min(t2)"
   ]
  },
  {
   "cell_type": "code",
   "execution_count": 38,
   "id": "76bd70e9-bef4-4d3e-b661-0ae095a461e0",
   "metadata": {},
   "outputs": [
    {
     "data": {
      "text/plain": [
       "[1, 2, 3, 4]"
      ]
     },
     "execution_count": 38,
     "metadata": {},
     "output_type": "execute_result"
    }
   ],
   "source": [
    "sorted(t2) # changed into list"
   ]
  },
  {
   "cell_type": "code",
   "execution_count": 39,
   "id": "ecdbf2e9-0746-4c97-be27-f42eb486fdc4",
   "metadata": {},
   "outputs": [
    {
     "data": {
      "text/plain": [
       "[4, 3, 2, 1]"
      ]
     },
     "execution_count": 39,
     "metadata": {},
     "output_type": "execute_result"
    }
   ],
   "source": [
    "sorted(t2,reverse=True)"
   ]
  },
  {
   "cell_type": "markdown",
   "id": "996781ac-8a58-4b73-b7d2-f571ff353809",
   "metadata": {},
   "source": [
    "<h1 style='text-align : center '>NB: <b>Tuples</b> are <b>read-only</b> data type</h1>"
   ]
  }
 ],
 "metadata": {
  "kernelspec": {
   "display_name": "Python 3 (ipykernel)",
   "language": "python",
   "name": "python3"
  },
  "language_info": {
   "codemirror_mode": {
    "name": "ipython",
    "version": 3
   },
   "file_extension": ".py",
   "mimetype": "text/x-python",
   "name": "python",
   "nbconvert_exporter": "python",
   "pygments_lexer": "ipython3",
   "version": "3.11.3"
  }
 },
 "nbformat": 4,
 "nbformat_minor": 5
}
