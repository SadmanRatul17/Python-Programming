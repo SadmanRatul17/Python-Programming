{
 "cells": [
  {
   "cell_type": "markdown",
   "id": "0fec0629-8485-4b7d-9dd3-fd646e5aa17c",
   "metadata": {},
   "source": [
    "\n",
    "<h1>Create</h1>"
   ]
  },
  {
   "cell_type": "code",
   "execution_count": 4,
   "id": "e33943b7-5504-43be-bab6-cf6bd81e2494",
   "metadata": {},
   "outputs": [
    {
     "name": "stdout",
     "output_type": "stream",
     "text": [
      "1   Odd\n",
      "2   Even\n",
      "3   Odd\n",
      "4   Even\n",
      "5   Odd\n",
      "6   Even\n",
      "7   Odd\n",
      "8   Even\n",
      "9   Odd\n",
      "10   Even\n",
      "\n",
      "     This function tells if a given number even/odd\n",
      "     Input - Any valid integer\n",
      "     Output - Even / Odd\n",
      "     created by - Ratul\n",
      "     Last update - 18 july 2024\n",
      "    \n"
     ]
    }
   ],
   "source": [
    "def is_even(num):\n",
    "    \"\"\"\n",
    "     This function tells if a given number even/odd\n",
    "     Input - Any valid integer\n",
    "     Output - Even / Odd\n",
    "     created by - Ratul\n",
    "     Last update - 18 july 2024\n",
    "    \"\"\"\n",
    "    if num%2 == 0 :\n",
    "        return \"Even\"\n",
    "    else:\n",
    "        return \"Odd\"\n",
    "\n",
    "for i in range(1,11):\n",
    "    print(i,\" \",is_even(i))\n",
    "print(is_even.__doc__) # documentation"
   ]
  },
  {
   "cell_type": "code",
   "execution_count": 5,
   "id": "8dca8c37-3f5b-4cc0-b3ca-b33af1f78cdd",
   "metadata": {},
   "outputs": [
    {
     "data": {
      "text/plain": [
       "'Prints the values to a stream, or to sys.stdout by default.\\n\\n  sep\\n    string inserted between values, default a space.\\n  end\\n    string appended after the last value, default a newline.\\n  file\\n    a file-like object (stream); defaults to the current sys.stdout.\\n  flush\\n    whether to forcibly flush the stream.'"
      ]
     },
     "execution_count": 5,
     "metadata": {},
     "output_type": "execute_result"
    }
   ],
   "source": [
    "print.__doc__  # documentation of python"
   ]
  },
  {
   "cell_type": "markdown",
   "id": "0b512fbf-f520-46cf-84cb-f560c4dd43be",
   "metadata": {},
   "source": [
    "<br.\n",
    "<h1 style='text-align : center '>  Parameters\n",
    "    vs Arguments</h1>"
   ]
  },
  {
   "cell_type": "code",
   "execution_count": null,
   "id": "e4dc752e-03a6-4e9e-adb6-21e6798c4906",
   "metadata": {},
   "outputs": [],
   "source": [
    "def is_even(a):  # a is parameters\n",
    "    pass"
   ]
  },
  {
   "cell_type": "code",
   "execution_count": 7,
   "id": "cb46e645-98f2-4864-abdd-77504b77bab7",
   "metadata": {},
   "outputs": [
    {
     "data": {
      "text/plain": [
       "'Even'"
      ]
     },
     "execution_count": 7,
     "metadata": {},
     "output_type": "execute_result"
    }
   ],
   "source": [
    "is_even(12) # 12 is arguments"
   ]
  },
  {
   "cell_type": "markdown",
   "id": "216afb4d-18a6-4106-9adb-e70eba9fc004",
   "metadata": {},
   "source": [
    "<h2>Types of arguments:</h2>\n",
    "<ol>\n",
    "    <li>Default arguments </li>\n",
    "    <li>Positional arguments </li>\n",
    "    <li>keyword arguments </li>\n",
    "    <li>Arbitary arguments </li>\n",
    "</ol>"
   ]
  },
  {
   "cell_type": "code",
   "execution_count": 8,
   "id": "874f1be7-4f4e-4ca2-90c9-18707a2fe747",
   "metadata": {},
   "outputs": [
    {
     "data": {
      "text/plain": [
       "8"
      ]
     },
     "execution_count": 8,
     "metadata": {},
     "output_type": "execute_result"
    }
   ],
   "source": [
    "def power(a,b):\n",
    "    return a**b\n",
    "power(2,3)"
   ]
  },
  {
   "cell_type": "code",
   "execution_count": 9,
   "id": "5f397713-e98d-4364-bd3d-fe4e6e1481fb",
   "metadata": {},
   "outputs": [
    {
     "ename": "TypeError",
     "evalue": "power() missing 1 required positional argument: 'b'",
     "output_type": "error",
     "traceback": [
      "\u001b[1;31m---------------------------------------------------------------------------\u001b[0m",
      "\u001b[1;31mTypeError\u001b[0m                                 Traceback (most recent call last)",
      "Cell \u001b[1;32mIn[9], line 1\u001b[0m\n\u001b[1;32m----> 1\u001b[0m \u001b[43mpower\u001b[49m\u001b[43m(\u001b[49m\u001b[38;5;241;43m2\u001b[39;49m\u001b[43m)\u001b[49m\n",
      "\u001b[1;31mTypeError\u001b[0m: power() missing 1 required positional argument: 'b'"
     ]
    }
   ],
   "source": [
    "power(2)"
   ]
  },
  {
   "cell_type": "code",
   "execution_count": 10,
   "id": "4a16b95b-a9e6-4b03-8295-5729cacc89d6",
   "metadata": {},
   "outputs": [
    {
     "data": {
      "text/plain": [
       "2"
      ]
     },
     "execution_count": 10,
     "metadata": {},
     "output_type": "execute_result"
    }
   ],
   "source": [
    "# 1.default arguments\n",
    "def power(a=1,b=1):\n",
    "    return a**b\n",
    "\n",
    "power(2)"
   ]
  },
  {
   "cell_type": "code",
   "execution_count": 11,
   "id": "40681e55-5db2-4744-9153-5f95d7a71eed",
   "metadata": {},
   "outputs": [
    {
     "data": {
      "text/plain": [
       "1"
      ]
     },
     "execution_count": 11,
     "metadata": {},
     "output_type": "execute_result"
    }
   ],
   "source": [
    "power()"
   ]
  },
  {
   "cell_type": "code",
   "execution_count": 12,
   "id": "8a5edad6-e886-4e46-abf2-d2dcd2e2c84e",
   "metadata": {},
   "outputs": [
    {
     "data": {
      "text/plain": [
       "8"
      ]
     },
     "execution_count": 12,
     "metadata": {},
     "output_type": "execute_result"
    }
   ],
   "source": [
    "power(2,3)"
   ]
  },
  {
   "cell_type": "code",
   "execution_count": 13,
   "id": "a995cf2e-94c3-4712-a43d-b9672958663d",
   "metadata": {},
   "outputs": [
    {
     "data": {
      "text/plain": [
       "9"
      ]
     },
     "execution_count": 13,
     "metadata": {},
     "output_type": "execute_result"
    }
   ],
   "source": [
    "# 2.positional arguments\n",
    "power(b=2,a=3)"
   ]
  },
  {
   "cell_type": "code",
   "execution_count": 3,
   "id": "b7b1a184-07b3-4272-8cec-801c8f7eda78",
   "metadata": {},
   "outputs": [
    {
     "name": "stdout",
     "output_type": "stream",
     "text": [
      "The youngest child is Linus\n"
     ]
    }
   ],
   "source": [
    "#3.keyword arguments\n",
    "def my_function(child3, child2, child1):\n",
    "  print(\"The youngest child is \" + child3)\n",
    "\n",
    "my_function(child1 = \"Emil\",  child3 = \"Linus\",child2 = \"Tobias\") #This way the order of the arguments does not matter."
   ]
  },
  {
   "cell_type": "markdown",
   "id": "3d1747fc-f294-46ae-9a0a-1622ed3676b7",
   "metadata": {},
   "source": [
    "<br>\n",
    "<h2>Python Arbitrary Arguments –\r\n",
    "In this, we use the asterisk (*) to denote this method before the parameter in the function.</h2>"
   ]
  },
  {
   "cell_type": "code",
   "execution_count": null,
   "id": "c9efee37-b312-481d-8b3f-961a227844b9",
   "metadata": {},
   "outputs": [],
   "source": [
    "#3.Arbitary arguments"
   ]
  },
  {
   "cell_type": "code",
   "execution_count": 4,
   "id": "9d3a1389-fb10-49ec-a527-0984a395f9ff",
   "metadata": {},
   "outputs": [
    {
     "name": "stdout",
     "output_type": "stream",
     "text": [
      "1\n",
      "1 2 3\n"
     ]
    }
   ],
   "source": [
    "print(1)\n",
    "print(1,2,3) "
   ]
  },
  {
   "cell_type": "markdown",
   "id": "e33b02f6-3b51-44c5-8072-e92424a6ae25",
   "metadata": {},
   "source": [
    "<h2>print function are felxible with one input or more. But when we make functions that functions are not flexible. we need to declare it first</h2>"
   ]
  },
  {
   "cell_type": "code",
   "execution_count": 7,
   "id": "476ac524-edfb-4bec-92c9-df38330d2597",
   "metadata": {},
   "outputs": [
    {
     "name": "stdout",
     "output_type": "stream",
     "text": [
      "(1,)\n",
      "<class 'tuple'>\n",
      "1\n"
     ]
    }
   ],
   "source": [
    "def flexi(*number):\n",
    "    product=1\n",
    "    for i in number:\n",
    "        print(number)\n",
    "        print(type(number)) # number vaiarable change to tuple to take multiple inputs.\n",
    "        product=product*i\n",
    "    print(product)\n",
    "\n",
    "flexi(1)  #it can take one input"
   ]
  },
  {
   "cell_type": "code",
   "execution_count": 6,
   "id": "0644a3f9-a0eb-4000-bb43-567008f7625b",
   "metadata": {},
   "outputs": [
    {
     "name": "stdout",
     "output_type": "stream",
     "text": [
      "6\n"
     ]
    }
   ],
   "source": [
    "flexi(1,2,3) # it can also take more inputs"
   ]
  },
  {
   "cell_type": "markdown",
   "id": "4b07a9db-8d44-4553-b6a4-1cf903ec11f6",
   "metadata": {},
   "source": [
    "<h1>Functions as object </h1>"
   ]
  },
  {
   "cell_type": "code",
   "execution_count": 8,
   "id": "8ab6df30-7be8-4ba1-ae76-447f8b75fbbd",
   "metadata": {},
   "outputs": [
    {
     "data": {
      "text/plain": [
       "4"
      ]
     },
     "execution_count": 8,
     "metadata": {},
     "output_type": "execute_result"
    }
   ],
   "source": [
    "def f(num):\n",
    "    return num **2\n",
    "f(2)"
   ]
  },
  {
   "cell_type": "code",
   "execution_count": 9,
   "id": "c21368ab-ca8d-4ea4-b0ab-b9abf1891c26",
   "metadata": {},
   "outputs": [],
   "source": [
    "x = f"
   ]
  },
  {
   "cell_type": "code",
   "execution_count": 10,
   "id": "a677e97a-0747-41d2-a2f8-0215f4d1eaad",
   "metadata": {},
   "outputs": [
    {
     "data": {
      "text/plain": [
       "4"
      ]
     },
     "execution_count": 10,
     "metadata": {},
     "output_type": "execute_result"
    }
   ],
   "source": [
    "x(2)"
   ]
  },
  {
   "cell_type": "code",
   "execution_count": 11,
   "id": "a8938891-80e2-4626-88fd-b2395a23c43c",
   "metadata": {},
   "outputs": [],
   "source": [
    "del f #function will be delete"
   ]
  },
  {
   "cell_type": "code",
   "execution_count": 12,
   "id": "5d938fe5-f3dc-4d81-858c-d0a207aea710",
   "metadata": {},
   "outputs": [
    {
     "ename": "NameError",
     "evalue": "name 'f' is not defined",
     "output_type": "error",
     "traceback": [
      "\u001b[1;31m---------------------------------------------------------------------------\u001b[0m",
      "\u001b[1;31mNameError\u001b[0m                                 Traceback (most recent call last)",
      "Cell \u001b[1;32mIn[12], line 1\u001b[0m\n\u001b[1;32m----> 1\u001b[0m \u001b[43mf\u001b[49m(\u001b[38;5;241m2\u001b[39m)\n",
      "\u001b[1;31mNameError\u001b[0m: name 'f' is not defined"
     ]
    }
   ],
   "source": [
    "f(2)"
   ]
  },
  {
   "cell_type": "code",
   "execution_count": 13,
   "id": "cdbe6d29-b4d1-4942-ab32-6ebb0f1bb665",
   "metadata": {},
   "outputs": [
    {
     "data": {
      "text/plain": [
       "function"
      ]
     },
     "execution_count": 13,
     "metadata": {},
     "output_type": "execute_result"
    }
   ],
   "source": [
    "type(x)"
   ]
  },
  {
   "cell_type": "code",
   "execution_count": 14,
   "id": "b41567d3-ae6a-459a-aad3-2e20cb8d2ed1",
   "metadata": {},
   "outputs": [
    {
     "data": {
      "text/plain": [
       "[1, 2, 3, 4, <function __main__.f(num)>]"
      ]
     },
     "execution_count": 14,
     "metadata": {},
     "output_type": "execute_result"
    }
   ],
   "source": [
    "l=[1,2,3,4,x]\n",
    "l"
   ]
  },
  {
   "cell_type": "code",
   "execution_count": 16,
   "id": "52a5f43a-b8be-4cf1-bf76-0b632c5ef231",
   "metadata": {},
   "outputs": [
    {
     "data": {
      "text/plain": [
       "9"
      ]
     },
     "execution_count": 16,
     "metadata": {},
     "output_type": "execute_result"
    }
   ],
   "source": [
    "l[-1](3) #using x named function inside a list"
   ]
  },
  {
   "cell_type": "code",
   "execution_count": 17,
   "id": "7e7ada4a-3d5a-49b4-877a-606dfb10caf0",
   "metadata": {},
   "outputs": [
    {
     "data": {
      "text/plain": [
       "[1, 2, 3, 4, 25]"
      ]
     },
     "execution_count": 17,
     "metadata": {},
     "output_type": "execute_result"
    }
   ],
   "source": [
    "l=[1,2,3,4,x(5)]\n",
    "l"
   ]
  }
 ],
 "metadata": {
  "kernelspec": {
   "display_name": "Python 3 (ipykernel)",
   "language": "python",
   "name": "python3"
  },
  "language_info": {
   "codemirror_mode": {
    "name": "ipython",
    "version": 3
   },
   "file_extension": ".py",
   "mimetype": "text/x-python",
   "name": "python",
   "nbconvert_exporter": "python",
   "pygments_lexer": "ipython3",
   "version": "3.11.3"
  }
 },
 "nbformat": 4,
 "nbformat_minor": 5
}
