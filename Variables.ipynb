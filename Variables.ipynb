{
 "cells": [
  {
   "cell_type": "markdown",
   "id": "655d41c7-e0ca-4064-b536-eb39618dea2a",
   "metadata": {},
   "source": [
    " <h1 style='text-align : center '>1. No variables declaration in <b>Python</b></h1>\n",
    " <br>"
   ]
  },
  {
   "cell_type": "markdown",
   "id": "d3804eb4-114d-4fa7-8c8b-43fc900ca4c5",
   "metadata": {},
   "source": [
    " <h1 style='text-align : center '>2. Dynamic Typing --> Python, PHP </h1>\n",
    " <h1 style='text-align : center '>   Static Typing --> C, C++, JAVA </h1>\n",
    " <br>"
   ]
  },
  {
   "cell_type": "markdown",
   "id": "4eba53ca-d79f-4c86-bc06-b6beca7d0d36",
   "metadata": {},
   "source": [
    "  <h4>In <b>c</b> language,</h4> <h5>int age = 34;<br> string name = \"Ratul\"</h5>\n",
    "  <br>"
   ]
  },
  {
   "cell_type": "code",
   "execution_count": 2,
   "id": "49422856-393b-4282-b3d6-10b1319be9c9",
   "metadata": {},
   "outputs": [
    {
     "name": "stdout",
     "output_type": "stream",
     "text": [
      "Ratul\n"
     ]
    }
   ],
   "source": [
    "#python\n",
    "name = \"Ratul\"\n",
    "print(name)"
   ]
  },
  {
   "cell_type": "code",
   "execution_count": 4,
   "id": "a343ae71-fac3-4060-a727-dee6eccd8a3b",
   "metadata": {},
   "outputs": [
    {
     "name": "stdout",
     "output_type": "stream",
     "text": [
      "34\n"
     ]
    }
   ],
   "source": [
    "age = 34\n",
    "print(age)"
   ]
  },
  {
   "cell_type": "markdown",
   "id": "cb416b11-767e-4e13-9c70-1a54338468b1",
   "metadata": {},
   "source": [
    "<br>\n",
    " <h1 style='text-align : center '>3.Dynamic Binding: One variable is not bound with one data type</h1>\n",
    " <br>"
   ]
  },
  {
   "cell_type": "code",
   "execution_count": 7,
   "id": "d9dfaea3-e6de-4229-9673-2dd5049db5fc",
   "metadata": {},
   "outputs": [
    {
     "name": "stdout",
     "output_type": "stream",
     "text": [
      "ratul\n"
     ]
    }
   ],
   "source": [
    "name=\"ratul\"\n",
    "print(name)"
   ]
  },
  {
   "cell_type": "code",
   "execution_count": 9,
   "id": "5769afdf-f4fd-4b99-bd7c-e29c8ec59b76",
   "metadata": {},
   "outputs": [
    {
     "name": "stdout",
     "output_type": "stream",
     "text": [
      "ratul\n"
     ]
    }
   ],
   "source": [
    "print(name)"
   ]
  },
  {
   "cell_type": "code",
   "execution_count": 11,
   "id": "8a4036b8-7426-47f8-904f-5d906bc4d010",
   "metadata": {},
   "outputs": [
    {
     "name": "stdout",
     "output_type": "stream",
     "text": [
      "8\n"
     ]
    }
   ],
   "source": [
    "name=8\n",
    "print(name)"
   ]
  },
  {
   "cell_type": "code",
   "execution_count": 14,
   "id": "8176b59f-7b6d-4e51-8bbc-faaaa22c8e61",
   "metadata": {},
   "outputs": [
    {
     "name": "stdout",
     "output_type": "stream",
     "text": [
      "True\n"
     ]
    }
   ],
   "source": [
    "name= True\n",
    "print(name)"
   ]
  },
  {
   "cell_type": "markdown",
   "id": "c8cfd0d4-5f2e-4009-a77f-50bd101c63d8",
   "metadata": {},
   "source": [
    "<br>\n",
    " <h1 style='text-align : center '>Special syntax</h1>\n",
    " <br>"
   ]
  },
  {
   "cell_type": "code",
   "execution_count": 16,
   "id": "2fe28c13-575f-47f3-a600-f7aefd0dd900",
   "metadata": {},
   "outputs": [
    {
     "name": "stdout",
     "output_type": "stream",
     "text": [
      "6\n",
      "7\n",
      "8\n"
     ]
    }
   ],
   "source": [
    "a=6;b=7;c=8\n",
    "\n",
    "print(a)\n",
    "print(b)\n",
    "print(c)"
   ]
  },
  {
   "cell_type": "code",
   "execution_count": 18,
   "id": "60002ee5-62fc-4bbb-a081-23404c6a69f2",
   "metadata": {},
   "outputs": [
    {
     "name": "stdout",
     "output_type": "stream",
     "text": [
      "6\n",
      "7\n",
      "8\n"
     ]
    }
   ],
   "source": [
    "a,b,c = 6,7,8\n",
    "\n",
    "print(a)\n",
    "print(b)\n",
    "print(c)"
   ]
  },
  {
   "cell_type": "code",
   "execution_count": 19,
   "id": "18f662e0-92cc-420a-9f52-f2fc368058fb",
   "metadata": {},
   "outputs": [
    {
     "name": "stdout",
     "output_type": "stream",
     "text": [
      "7\n",
      "7\n",
      "7\n"
     ]
    }
   ],
   "source": [
    "a=b=c = 7\n",
    "print(a)\n",
    "print(b)\n",
    "print(c)"
   ]
  }
 ],
 "metadata": {
  "kernelspec": {
   "display_name": "Python 3 (ipykernel)",
   "language": "python",
   "name": "python3"
  },
  "language_info": {
   "codemirror_mode": {
    "name": "ipython",
    "version": 3
   },
   "file_extension": ".py",
   "mimetype": "text/x-python",
   "name": "python",
   "nbconvert_exporter": "python",
   "pygments_lexer": "ipython3",
   "version": "3.11.3"
  }
 },
 "nbformat": 4,
 "nbformat_minor": 5
}
