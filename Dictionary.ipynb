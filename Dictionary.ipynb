{
 "cells": [
  {
   "cell_type": "markdown",
   "id": "fc1c1be0-4100-4e16-912e-d8bcaac6fe94",
   "metadata": {},
   "source": [
    "<h1>Mutable ->Lists,Sets, Dictionary. </h1>\n",
    "<h1>Immutable ->strings, Tuples, Int, Float, Boolean, Complex. </h1>\n",
    "<br>\n",
    "<br>"
   ]
  },
  {
   "cell_type": "markdown",
   "id": "8f9c9ac2-f447-4906-a901-3c591b25b7cf",
   "metadata": {},
   "source": [
    "<h1 style='text-align : center '>  Dictionary  </h1>"
   ]
  },
  {
   "cell_type": "markdown",
   "id": "e2e30f5a-b83b-4b26-91a5-4683285215b2",
   "metadata": {},
   "source": [
    "<h2>Important rules for dictionary:</h2>\n",
    "<ol>\n",
    "    <li>Dictionary have no indexing.</li>\n",
    "    <li>Dictionary  is a mutable types.</li>\n",
    "    <li>Keys are immutable, Values can be mutable.</li>\n",
    "    <li>keys should be unique.</li>\n",
    "</ol>"
   ]
  },
  {
   "cell_type": "markdown",
   "id": "a38f38c4-31e7-4fb9-a996-1cafe794e9a1",
   "metadata": {},
   "source": [
    "<br>\n",
    "<h1>Create</h1>"
   ]
  },
  {
   "cell_type": "code",
   "execution_count": 4,
   "id": "9891d03d-12c8-4746-83be-8536fbe1ba7f",
   "metadata": {},
   "outputs": [
    {
     "data": {
      "text/plain": [
       "{}"
      ]
     },
     "execution_count": 4,
     "metadata": {},
     "output_type": "execute_result"
    }
   ],
   "source": [
    "d={} empty dictionary\n",
    "d"
   ]
  },
  {
   "cell_type": "code",
   "execution_count": 5,
   "id": "c0778f5d-d813-475f-85eb-319822d54571",
   "metadata": {},
   "outputs": [
    {
     "data": {
      "text/plain": [
       "{'Name': 'Ratul', 'Gender': 'Male'}"
      ]
     },
     "execution_count": 5,
     "metadata": {},
     "output_type": "execute_result"
    }
   ],
   "source": [
    "d1={\n",
    "    \"Name\":\"Ratul\",\n",
    "   \"Gender\":\"Male\"\n",
    "   }\n",
    "d1"
   ]
  },
  {
   "cell_type": "code",
   "execution_count": 6,
   "id": "8ae07e5e-2a67-4d04-b7f2-da42bfe3ab86",
   "metadata": {},
   "outputs": [
    {
     "ename": "TypeError",
     "evalue": "unhashable type: 'list'",
     "output_type": "error",
     "traceback": [
      "\u001b[1;31m---------------------------------------------------------------------------\u001b[0m",
      "\u001b[1;31mTypeError\u001b[0m                                 Traceback (most recent call last)",
      "Cell \u001b[1;32mIn[6], line 1\u001b[0m\n\u001b[1;32m----> 1\u001b[0m d2\u001b[38;5;241m=\u001b[39m{\n\u001b[0;32m      2\u001b[0m     [\u001b[38;5;241m1\u001b[39m,\u001b[38;5;241m2\u001b[39m,\u001b[38;5;241m3\u001b[39m]:\u001b[38;5;124m\"\u001b[39m\u001b[38;5;124mme\u001b[39m\u001b[38;5;124m\"\u001b[39m\n\u001b[0;32m      3\u001b[0m }\n\u001b[0;32m      4\u001b[0m d2\n",
      "\u001b[1;31mTypeError\u001b[0m: unhashable type: 'list'"
     ]
    }
   ],
   "source": [
    "d2={\n",
    "    [1,2,3]:\"me\" # lists are mutable\n",
    "}\n",
    "d2"
   ]
  },
  {
   "cell_type": "code",
   "execution_count": 7,
   "id": "48d8286e-728c-4115-8215-99564e458140",
   "metadata": {},
   "outputs": [
    {
     "data": {
      "text/plain": [
       "{(1, 2, 3): 'me'}"
      ]
     },
     "execution_count": 7,
     "metadata": {},
     "output_type": "execute_result"
    }
   ],
   "source": [
    "d2={\n",
    "    (1,2,3):\"me\" # tuple are immutable\n",
    "}\n",
    "d2"
   ]
  },
  {
   "cell_type": "code",
   "execution_count": 9,
   "id": "adf0f37c-1e64-48b8-ba81-bd4eac6bfe3e",
   "metadata": {},
   "outputs": [
    {
     "data": {
      "text/plain": [
       "{'Name': 'Rion', 'Gender': 'Male'}"
      ]
     },
     "execution_count": 9,
     "metadata": {},
     "output_type": "execute_result"
    }
   ],
   "source": [
    "d1={\n",
    "    \"Name\":\"Ratul\",\n",
    "      \"Name\":\"Rion\",\n",
    "     \"Gender\":\"Male\"\n",
    "   }\n",
    "d1  #last duplicate value will be printed"
   ]
  },
  {
   "cell_type": "code",
   "execution_count": 10,
   "id": "840aae0a-72d3-4173-8a39-697afb2bcd42",
   "metadata": {},
   "outputs": [
    {
     "data": {
      "text/plain": [
       "{'Name': 'Ratul', 'college': 'UITS', 'marks': {'DS': 99, 'oop': 78}}"
      ]
     },
     "execution_count": 10,
     "metadata": {},
     "output_type": "execute_result"
    }
   ],
   "source": [
    "#2D dictionary\n",
    "d3={\n",
    "    \"Name\":\"Ratul\",\"college\":\"UITS\",\"marks\":{\"DS\":99,\"oop\":78}\n",
    "   }\n",
    "d3"
   ]
  },
  {
   "cell_type": "markdown",
   "id": "8432abe4-c5c6-43d0-954c-c01c218adcd9",
   "metadata": {},
   "source": [
    "<br>\n",
    "<h1>Access items from dict</h1>"
   ]
  },
  {
   "cell_type": "code",
   "execution_count": 11,
   "id": "737f4cae-dfe6-42a1-8cf7-75f70dd2ce50",
   "metadata": {},
   "outputs": [
    {
     "data": {
      "text/plain": [
       "{'Name': 'Ratul', 'college': 'UITS', 'marks': {'DS': 99, 'oop': 78}}"
      ]
     },
     "execution_count": 11,
     "metadata": {},
     "output_type": "execute_result"
    }
   ],
   "source": [
    "d3"
   ]
  },
  {
   "cell_type": "code",
   "execution_count": 13,
   "id": "64036a1d-0b47-42cd-ad82-34136f97ef36",
   "metadata": {},
   "outputs": [
    {
     "data": {
      "text/plain": [
       "'Ratul'"
      ]
     },
     "execution_count": 13,
     "metadata": {},
     "output_type": "execute_result"
    }
   ],
   "source": [
    "d3[\"Name\"]"
   ]
  },
  {
   "cell_type": "code",
   "execution_count": 15,
   "id": "8a560e46-b87f-4fee-ae21-7ddffc5ed66c",
   "metadata": {},
   "outputs": [
    {
     "data": {
      "text/plain": [
       "'UITS'"
      ]
     },
     "execution_count": 15,
     "metadata": {},
     "output_type": "execute_result"
    }
   ],
   "source": [
    "d3[\"college\"]"
   ]
  },
  {
   "cell_type": "markdown",
   "id": "ea7cd2d3-37ce-4f0c-9033-01238306f2c6",
   "metadata": {},
   "source": [
    "<br>\n",
    "<h1>Access items from dict</h1>"
   ]
  },
  {
   "cell_type": "code",
   "execution_count": 17,
   "id": "22b828e2-551c-4437-95c7-411baf0e7e17",
   "metadata": {},
   "outputs": [
    {
     "data": {
      "text/plain": [
       "{'Name': 'Ratul', 'college': 'UITS', 'marks': {'DS': 99, 'oop': 78}}"
      ]
     },
     "execution_count": 17,
     "metadata": {},
     "output_type": "execute_result"
    }
   ],
   "source": [
    "d3"
   ]
  },
  {
   "cell_type": "code",
   "execution_count": 18,
   "id": "23a8e20a-4ea8-4fd9-a3b9-a069ac993858",
   "metadata": {},
   "outputs": [
    {
     "data": {
      "text/plain": [
       "99"
      ]
     },
     "execution_count": 18,
     "metadata": {},
     "output_type": "execute_result"
    }
   ],
   "source": [
    "# we want DS marks?\n",
    "d3[\"marks\"][\"DS\"]"
   ]
  },
  {
   "cell_type": "markdown",
   "id": "af70822e-296c-4895-a5eb-074a31fb38c6",
   "metadata": {},
   "source": [
    "<br>\n",
    "<h1>Edit items from dict</h1>"
   ]
  },
  {
   "cell_type": "code",
   "execution_count": 20,
   "id": "47753f78-40af-426c-a60b-fcd7fd4bce55",
   "metadata": {},
   "outputs": [
    {
     "data": {
      "text/plain": [
       "{'Name': 'Ratul', 'college': 'UITS', 'marks': {'DS': 99, 'oop': 78}}"
      ]
     },
     "execution_count": 20,
     "metadata": {},
     "output_type": "execute_result"
    }
   ],
   "source": [
    "d3"
   ]
  },
  {
   "cell_type": "code",
   "execution_count": 21,
   "id": "f65a69ca-6dd3-44c1-93c8-0d606358ddbc",
   "metadata": {},
   "outputs": [
    {
     "data": {
      "text/plain": [
       "{'Name': 'Rion', 'college': 'UITS', 'marks': {'DS': 99, 'oop': 78}}"
      ]
     },
     "execution_count": 21,
     "metadata": {},
     "output_type": "execute_result"
    }
   ],
   "source": [
    "d3[\"Name\"] = \"Rion\"\n",
    "d3"
   ]
  },
  {
   "cell_type": "code",
   "execution_count": 22,
   "id": "d0a944fa-0ab5-4b8f-b8dd-835a13900f23",
   "metadata": {},
   "outputs": [
    {
     "data": {
      "text/plain": [
       "{'Name': 'Rion', 'college': 'UITS', 'marks': {'DS': 99, 'oop': 98}}"
      ]
     },
     "execution_count": 22,
     "metadata": {},
     "output_type": "execute_result"
    }
   ],
   "source": [
    "d3[\"marks\"][\"oop\"] = 98\n",
    "d3"
   ]
  },
  {
   "cell_type": "markdown",
   "id": "0853626a-1df4-4f11-9727-36c66d90125c",
   "metadata": {},
   "source": [
    "<br>\n",
    "<h1>Add new key-value in dict</h1>"
   ]
  },
  {
   "cell_type": "code",
   "execution_count": 23,
   "id": "95d3c61d-6080-4de5-a896-6d651d67ee1e",
   "metadata": {},
   "outputs": [
    {
     "data": {
      "text/plain": [
       "{'Name': 'Rion', 'college': 'UITS', 'marks': {'DS': 99, 'oop': 98}}"
      ]
     },
     "execution_count": 23,
     "metadata": {},
     "output_type": "execute_result"
    }
   ],
   "source": [
    "d3"
   ]
  },
  {
   "cell_type": "code",
   "execution_count": 25,
   "id": "9227b941-c445-4f15-9692-a116cfaa8dc6",
   "metadata": {},
   "outputs": [
    {
     "data": {
      "text/plain": [
       "{'Name': 'Rion', 'college': 'UITS', 'marks': {'DS': 99, 'oop': 98}, 'age': 23}"
      ]
     },
     "execution_count": 25,
     "metadata": {},
     "output_type": "execute_result"
    }
   ],
   "source": [
    "d3[\"age\"] = 23 # want to add age = 23\n",
    "d3"
   ]
  },
  {
   "cell_type": "code",
   "execution_count": 26,
   "id": "d07317b4-15b6-42c5-846c-f26b53c6a182",
   "metadata": {},
   "outputs": [
    {
     "data": {
      "text/plain": [
       "{'Name': 'Rion',\n",
       " 'college': 'UITS',\n",
       " 'marks': {'DS': 99, 'oop': 98, 'English': 90},\n",
       " 'age': 23}"
      ]
     },
     "execution_count": 26,
     "metadata": {},
     "output_type": "execute_result"
    }
   ],
   "source": [
    "# want to add english = 90 in marks\n",
    "d3[\"marks\"][\"English\"] = 90\n",
    "d3"
   ]
  },
  {
   "cell_type": "markdown",
   "id": "2800e875-f43e-49c3-9185-17ef74980ebb",
   "metadata": {},
   "source": [
    "<br>\n",
    "<h1>Delete</h1>"
   ]
  },
  {
   "cell_type": "code",
   "execution_count": 28,
   "id": "3b738ac4-b586-4d61-90ca-b2ce8ecb69bc",
   "metadata": {},
   "outputs": [
    {
     "data": {
      "text/plain": [
       "{'Name': 'Rion', 'Gender': 'Male'}"
      ]
     },
     "execution_count": 28,
     "metadata": {},
     "output_type": "execute_result"
    }
   ],
   "source": [
    "d1"
   ]
  },
  {
   "cell_type": "code",
   "execution_count": 29,
   "id": "d94f4b86-b4fe-481f-bdb8-591893eab481",
   "metadata": {},
   "outputs": [],
   "source": [
    "del d1"
   ]
  },
  {
   "cell_type": "code",
   "execution_count": 30,
   "id": "7ecdf36f-8ef9-49f7-876e-b28a6bd3f221",
   "metadata": {},
   "outputs": [
    {
     "ename": "NameError",
     "evalue": "name 'd1' is not defined",
     "output_type": "error",
     "traceback": [
      "\u001b[1;31m---------------------------------------------------------------------------\u001b[0m",
      "\u001b[1;31mNameError\u001b[0m                                 Traceback (most recent call last)",
      "Cell \u001b[1;32mIn[30], line 1\u001b[0m\n\u001b[1;32m----> 1\u001b[0m \u001b[43md1\u001b[49m\n",
      "\u001b[1;31mNameError\u001b[0m: name 'd1' is not defined"
     ]
    }
   ],
   "source": [
    "d1"
   ]
  },
  {
   "cell_type": "code",
   "execution_count": 32,
   "id": "46f7f7f4-17e8-46a6-9553-e1ced7f301ac",
   "metadata": {},
   "outputs": [
    {
     "data": {
      "text/plain": [
       "{'Name': 'Rion',\n",
       " 'college': 'UITS',\n",
       " 'marks': {'DS': 99, 'oop': 98, 'English': 90},\n",
       " 'age': 23}"
      ]
     },
     "execution_count": 32,
     "metadata": {},
     "output_type": "execute_result"
    }
   ],
   "source": [
    "d3"
   ]
  },
  {
   "cell_type": "code",
   "execution_count": 33,
   "id": "780725fa-e32f-4358-b68e-90af43709a39",
   "metadata": {},
   "outputs": [
    {
     "data": {
      "text/plain": [
       "{'Name': 'Rion',\n",
       " 'college': 'UITS',\n",
       " 'marks': {'DS': 99, 'oop': 98, 'English': 90}}"
      ]
     },
     "execution_count": 33,
     "metadata": {},
     "output_type": "execute_result"
    }
   ],
   "source": [
    "del d3[\"age\"]\n",
    "d3"
   ]
  },
  {
   "cell_type": "code",
   "execution_count": 35,
   "id": "916026b2-0dac-460c-846b-feb9f4632ff8",
   "metadata": {},
   "outputs": [
    {
     "data": {
      "text/plain": [
       "{}"
      ]
     },
     "execution_count": 35,
     "metadata": {},
     "output_type": "execute_result"
    }
   ],
   "source": [
    "d1={'Name': 'Rion', 'Gender': 'Male'}\n",
    "d1.clear() # will be empty\n",
    "d1"
   ]
  },
  {
   "cell_type": "markdown",
   "id": "0392972c-5a02-4398-9d51-f1ca8e91a721",
   "metadata": {},
   "source": [
    "<br>\n",
    "<h1>Operation</h1>"
   ]
  },
  {
   "cell_type": "code",
   "execution_count": null,
   "id": "dbcca4bf-435f-4d1a-a48e-715068ad4d0a",
   "metadata": {},
   "outputs": [],
   "source": [
    "d1={'Name': 'Rion', 'Gender': 'Male'}"
   ]
  },
  {
   "cell_type": "code",
   "execution_count": 36,
   "id": "3470f445-040a-4943-8775-54c09022a99b",
   "metadata": {},
   "outputs": [
    {
     "data": {
      "text/plain": [
       "{(1, 2, 3): 'me'}"
      ]
     },
     "execution_count": 36,
     "metadata": {},
     "output_type": "execute_result"
    }
   ],
   "source": [
    "d2"
   ]
  },
  {
   "cell_type": "code",
   "execution_count": 37,
   "id": "9cbbc657-2b60-4c3b-97aa-0e8e4ff9be7e",
   "metadata": {},
   "outputs": [
    {
     "ename": "TypeError",
     "evalue": "unsupported operand type(s) for +: 'dict' and 'dict'",
     "output_type": "error",
     "traceback": [
      "\u001b[1;31m---------------------------------------------------------------------------\u001b[0m",
      "\u001b[1;31mTypeError\u001b[0m                                 Traceback (most recent call last)",
      "Cell \u001b[1;32mIn[37], line 1\u001b[0m\n\u001b[1;32m----> 1\u001b[0m \u001b[43md1\u001b[49m\u001b[38;5;241;43m+\u001b[39;49m\u001b[43md2\u001b[49m\n",
      "\u001b[1;31mTypeError\u001b[0m: unsupported operand type(s) for +: 'dict' and 'dict'"
     ]
    }
   ],
   "source": [
    "d1+d2 # not allowed"
   ]
  },
  {
   "cell_type": "code",
   "execution_count": 38,
   "id": "9f9244b8-6ae2-41d0-97d8-6355555de3f9",
   "metadata": {},
   "outputs": [
    {
     "ename": "TypeError",
     "evalue": "unsupported operand type(s) for *: 'dict' and 'int'",
     "output_type": "error",
     "traceback": [
      "\u001b[1;31m---------------------------------------------------------------------------\u001b[0m",
      "\u001b[1;31mTypeError\u001b[0m                                 Traceback (most recent call last)",
      "Cell \u001b[1;32mIn[38], line 1\u001b[0m\n\u001b[1;32m----> 1\u001b[0m \u001b[43md1\u001b[49m\u001b[38;5;241;43m*\u001b[39;49m\u001b[38;5;241;43m3\u001b[39;49m\n",
      "\u001b[1;31mTypeError\u001b[0m: unsupported operand type(s) for *: 'dict' and 'int'"
     ]
    }
   ],
   "source": [
    "d1*3 # not allowed"
   ]
  },
  {
   "cell_type": "code",
   "execution_count": 40,
   "id": "a91a207c-1c94-48ad-8c9c-b1054601292e",
   "metadata": {},
   "outputs": [
    {
     "name": "stdout",
     "output_type": "stream",
     "text": [
      "Name\n",
      "college\n",
      "marks\n"
     ]
    }
   ],
   "source": [
    "for i in d3:\n",
    "    print(i) # only get keys"
   ]
  },
  {
   "cell_type": "code",
   "execution_count": 41,
   "id": "9cca27d0-175b-41a6-a9e3-988fc0dded92",
   "metadata": {},
   "outputs": [
    {
     "name": "stdout",
     "output_type": "stream",
     "text": [
      "Name Rion\n",
      "college UITS\n",
      "marks {'DS': 99, 'oop': 98, 'English': 90}\n"
     ]
    }
   ],
   "source": [
    "# if you need values\n",
    "for i in d3:\n",
    "    print(i,d3[i]) # get keys and values both"
   ]
  },
  {
   "cell_type": "code",
   "execution_count": 42,
   "id": "255ed2a0-8c38-434d-b1f4-619cd7045623",
   "metadata": {},
   "outputs": [
    {
     "data": {
      "text/plain": [
       "False"
      ]
     },
     "execution_count": 42,
     "metadata": {},
     "output_type": "execute_result"
    }
   ],
   "source": [
    "\"Rion\" in d3 # checks only keys"
   ]
  },
  {
   "cell_type": "code",
   "execution_count": 43,
   "id": "aa7041e1-3797-40d0-8994-f446392f079f",
   "metadata": {},
   "outputs": [
    {
     "data": {
      "text/plain": [
       "True"
      ]
     },
     "execution_count": 43,
     "metadata": {},
     "output_type": "execute_result"
    }
   ],
   "source": [
    "\"Name\" in d3"
   ]
  },
  {
   "cell_type": "markdown",
   "id": "2cc663cd-7109-43ef-817d-9e3ab3aca3ca",
   "metadata": {},
   "source": [
    "<br>\n",
    "<h1>Function</h1>"
   ]
  },
  {
   "cell_type": "code",
   "execution_count": 44,
   "id": "ea24431d-cea0-4438-8c15-06992a588553",
   "metadata": {},
   "outputs": [
    {
     "data": {
      "text/plain": [
       "3"
      ]
     },
     "execution_count": 44,
     "metadata": {},
     "output_type": "execute_result"
    }
   ],
   "source": [
    "len(d3) # get keys number"
   ]
  },
  {
   "cell_type": "code",
   "execution_count": 45,
   "id": "e1caf4a8-be90-4d51-9094-7bc9159fc6fb",
   "metadata": {},
   "outputs": [
    {
     "data": {
      "text/plain": [
       "'marks'"
      ]
     },
     "execution_count": 45,
     "metadata": {},
     "output_type": "execute_result"
    }
   ],
   "source": [
    "max(d3) #lexicographically"
   ]
  },
  {
   "cell_type": "code",
   "execution_count": 48,
   "id": "78030de9-ffc0-45ec-9887-3ff0b0367b6d",
   "metadata": {},
   "outputs": [
    {
     "data": {
      "text/plain": [
       "['Name', 'college', 'marks']"
      ]
     },
     "execution_count": 48,
     "metadata": {},
     "output_type": "execute_result"
    }
   ],
   "source": [
    "sorted(d3)"
   ]
  },
  {
   "cell_type": "code",
   "execution_count": 49,
   "id": "f3afca10-f7e1-42ee-b4a1-747e47c26440",
   "metadata": {},
   "outputs": [
    {
     "data": {
      "text/plain": [
       "{'Name': 'Rion',\n",
       " 'college': 'UITS',\n",
       " 'marks': {'DS': 99, 'oop': 98, 'English': 90}}"
      ]
     },
     "execution_count": 49,
     "metadata": {},
     "output_type": "execute_result"
    }
   ],
   "source": [
    "d3"
   ]
  },
  {
   "cell_type": "code",
   "execution_count": 51,
   "id": "7a630d23-266d-4d11-9e58-1fc1fe04e752",
   "metadata": {},
   "outputs": [
    {
     "data": {
      "text/plain": [
       "dict_keys(['Name', 'college', 'marks'])"
      ]
     },
     "execution_count": 51,
     "metadata": {},
     "output_type": "execute_result"
    }
   ],
   "source": [
    "d3.keys() # list of keys"
   ]
  },
  {
   "cell_type": "code",
   "execution_count": 52,
   "id": "3e3747c3-86f7-47ab-afc4-f152ff386e61",
   "metadata": {},
   "outputs": [
    {
     "data": {
      "text/plain": [
       "dict_values(['Rion', 'UITS', {'DS': 99, 'oop': 98, 'English': 90}])"
      ]
     },
     "execution_count": 52,
     "metadata": {},
     "output_type": "execute_result"
    }
   ],
   "source": [
    "d3.values()  # list of values"
   ]
  }
 ],
 "metadata": {
  "kernelspec": {
   "display_name": "Python 3 (ipykernel)",
   "language": "python",
   "name": "python3"
  },
  "language_info": {
   "codemirror_mode": {
    "name": "ipython",
    "version": 3
   },
   "file_extension": ".py",
   "mimetype": "text/x-python",
   "name": "python",
   "nbconvert_exporter": "python",
   "pygments_lexer": "ipython3",
   "version": "3.11.3"
  }
 },
 "nbformat": 4,
 "nbformat_minor": 5
}
