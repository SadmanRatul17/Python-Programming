{
 "cells": [
  {
   "cell_type": "markdown",
   "id": "cc18eacd-bb07-4f3b-a80c-7b70d51c654f",
   "metadata": {},
   "source": [
    "<h1 style='text-align : center '>Operators </h1>\n",
    "<br>"
   ]
  },
  {
   "cell_type": "markdown",
   "id": "3f00717b-dec7-4d47-8b91-1a584399c137",
   "metadata": {},
   "source": [
    "<h4>Operators are used to perform operations on variables and values. Python has the following operators:</h4>\n",
    "<ul>\n",
    "    <h4>\n",
    "          <li>Arithmetic operators</li>\n",
    "         <li>Comparison operators</li>\n",
    "         <li>Logical operators</li>\n",
    "         <li>Bitwise operators</li>\n",
    "         <li>Assignment operators</li>\n",
    "         <li>Identity operators</li>\n",
    "         <li>Membership operators</li>\n",
    "    </h4>\n",
    "</ul>"
   ]
  },
  {
   "cell_type": "markdown",
   "id": "1c202727-8907-41a5-8c95-728c0eab09eb",
   "metadata": {},
   "source": [
    "<h3>Arithmetic operators</h3>"
   ]
  },
  {
   "cell_type": "code",
   "execution_count": 2,
   "id": "e7aa52b2-f510-442b-9a56-e74c438ae42c",
   "metadata": {},
   "outputs": [
    {
     "name": "stdout",
     "output_type": "stream",
     "text": [
      "7\n"
     ]
    }
   ],
   "source": [
    "x = 5\n",
    "y = 2\n",
    "\n",
    "print(x + y)"
   ]
  },
  {
   "cell_type": "code",
   "execution_count": 4,
   "id": "a77a7b6d-f796-4891-bb88-79694c74995a",
   "metadata": {},
   "outputs": [
    {
     "name": "stdout",
     "output_type": "stream",
     "text": [
      "3\n"
     ]
    }
   ],
   "source": [
    "print(x - y)"
   ]
  },
  {
   "cell_type": "code",
   "execution_count": 6,
   "id": "9a401c0b-19e4-4bcc-a00e-4d8f987e149e",
   "metadata": {},
   "outputs": [
    {
     "name": "stdout",
     "output_type": "stream",
     "text": [
      "10\n"
     ]
    }
   ],
   "source": [
    "print(x * y)"
   ]
  },
  {
   "cell_type": "code",
   "execution_count": 8,
   "id": "5b70a740-7043-4d03-a490-523b3d05396e",
   "metadata": {},
   "outputs": [
    {
     "name": "stdout",
     "output_type": "stream",
     "text": [
      "2.5\n"
     ]
    }
   ],
   "source": [
    "print(x / y)"
   ]
  },
  {
   "cell_type": "code",
   "execution_count": 10,
   "id": "1d78bf2f-ea8e-43c6-b7e0-467aef8d0f25",
   "metadata": {},
   "outputs": [
    {
     "name": "stdout",
     "output_type": "stream",
     "text": [
      "1\n"
     ]
    }
   ],
   "source": [
    "print(x % y)  #Modulus"
   ]
  },
  {
   "cell_type": "code",
   "execution_count": 12,
   "id": "e1c44a0b-1326-4311-b849-b058b739e21c",
   "metadata": {},
   "outputs": [
    {
     "name": "stdout",
     "output_type": "stream",
     "text": [
      "2\n"
     ]
    }
   ],
   "source": [
    "print(x // y)  #Integer Division --> float to integer ( 5/2 = 2.5 --> 2 )"
   ]
  },
  {
   "cell_type": "code",
   "execution_count": 14,
   "id": "71de956b-63bf-4572-86ca-65d2ed6f5ff6",
   "metadata": {},
   "outputs": [
    {
     "name": "stdout",
     "output_type": "stream",
     "text": [
      "25\n"
     ]
    }
   ],
   "source": [
    "print(x ** y)  #power --> 5^2 = 25"
   ]
  },
  {
   "cell_type": "markdown",
   "id": "ae8ffff2-9626-48b7-a984-d04e73abba62",
   "metadata": {},
   "source": [
    "<br>\n",
    "<h3>Comparison operators</h3>"
   ]
  },
  {
   "cell_type": "code",
   "execution_count": 16,
   "id": "adae44bb-f3d1-4814-a1c9-fc66c0ab03ea",
   "metadata": {},
   "outputs": [
    {
     "name": "stdout",
     "output_type": "stream",
     "text": [
      "True\n"
     ]
    }
   ],
   "source": [
    "print(x > y)  #greather than"
   ]
  },
  {
   "cell_type": "code",
   "execution_count": 18,
   "id": "34b15902-4530-49ff-8a10-4458363e3c97",
   "metadata": {},
   "outputs": [
    {
     "name": "stdout",
     "output_type": "stream",
     "text": [
      "False\n"
     ]
    }
   ],
   "source": [
    "print(x < y)  #less than"
   ]
  },
  {
   "cell_type": "code",
   "execution_count": 20,
   "id": "c267c039-b5f8-4e7b-94da-25ee0d4314f7",
   "metadata": {},
   "outputs": [
    {
     "name": "stdout",
     "output_type": "stream",
     "text": [
      "True\n"
     ]
    }
   ],
   "source": [
    "print(x >= y) #greather than or equal"
   ]
  },
  {
   "cell_type": "code",
   "execution_count": 22,
   "id": "d3d2a8a6-5f7e-4b29-8165-3d7e5414d476",
   "metadata": {},
   "outputs": [
    {
     "name": "stdout",
     "output_type": "stream",
     "text": [
      "False\n"
     ]
    }
   ],
   "source": [
    "print(x <= y) #less than or equal"
   ]
  },
  {
   "cell_type": "code",
   "execution_count": 24,
   "id": "e488bcaf-7990-4083-b85d-e8221f1dfc6b",
   "metadata": {},
   "outputs": [
    {
     "name": "stdout",
     "output_type": "stream",
     "text": [
      "False\n"
     ]
    }
   ],
   "source": [
    "print(x == y)  #equal to"
   ]
  },
  {
   "cell_type": "code",
   "execution_count": 26,
   "id": "bd729520-d629-4f41-ae69-508e8d46fa68",
   "metadata": {},
   "outputs": [
    {
     "name": "stdout",
     "output_type": "stream",
     "text": [
      "True\n"
     ]
    }
   ],
   "source": [
    "print(x != y)  # not equal to"
   ]
  },
  {
   "cell_type": "markdown",
   "id": "76ebc775-2f90-40c4-b3c6-b44d1bc7266b",
   "metadata": {},
   "source": [
    "<br>\n",
    "<h3>Logical operators</h3>"
   ]
  },
  {
   "cell_type": "code",
   "execution_count": 28,
   "id": "08e54e30-cd0b-4045-8d5e-21886632979c",
   "metadata": {},
   "outputs": [
    {
     "name": "stdout",
     "output_type": "stream",
     "text": [
      "True\n"
     ]
    }
   ],
   "source": [
    "x = True #1\n",
    "y = False #0\n",
    "print(x or y)  # 1 or 0 = 1 , 0 or 0 = 0"
   ]
  },
  {
   "cell_type": "code",
   "execution_count": 30,
   "id": "92ece7c0-9c31-4d56-92c4-584bcb8dedfd",
   "metadata": {},
   "outputs": [
    {
     "name": "stdout",
     "output_type": "stream",
     "text": [
      "False\n"
     ]
    }
   ],
   "source": [
    "print(x and y) # 1 and 1 = 1 , 1 and 0 = 0"
   ]
  },
  {
   "cell_type": "code",
   "execution_count": 32,
   "id": "f755daf8-86e7-48df-85fd-6735bc09002b",
   "metadata": {},
   "outputs": [
    {
     "name": "stdout",
     "output_type": "stream",
     "text": [
      "False\n"
     ]
    }
   ],
   "source": [
    "print(not x) # 1 not = 0 , 0 not = 1"
   ]
  },
  {
   "cell_type": "markdown",
   "id": "0c9d86d3-0500-448a-90c0-abb22116e721",
   "metadata": {},
   "source": [
    "<br>\n",
    "<h3>Bitwise operators</h3>"
   ]
  },
  {
   "cell_type": "code",
   "execution_count": 1,
   "id": "6a72f74f-60fd-4a2b-9ee9-739ef644751e",
   "metadata": {},
   "outputs": [],
   "source": [
    "x = 2 \n",
    "y = 3"
   ]
  },
  {
   "cell_type": "code",
   "execution_count": 6,
   "id": "0aced062-f0c8-450f-ab94-08cb4f267f2d",
   "metadata": {},
   "outputs": [
    {
     "name": "stdout",
     "output_type": "stream",
     "text": [
      "2\n"
     ]
    }
   ],
   "source": [
    "print(x & y) #bitwise and"
   ]
  },
  {
   "cell_type": "markdown",
   "id": "67b281ae-73b0-4a05-937d-4def76c39944",
   "metadata": {},
   "source": [
    "2 = 010\n",
    "3 = 011\n",
    "---------\n",
    "    010 = 2"
   ]
  },
  {
   "cell_type": "code",
   "execution_count": 5,
   "id": "81840c84-2a5e-4173-9d91-b24b9e118f4d",
   "metadata": {},
   "outputs": [
    {
     "name": "stdout",
     "output_type": "stream",
     "text": [
      "3\n"
     ]
    }
   ],
   "source": [
    "print(x | y) #bitwise or"
   ]
  },
  {
   "cell_type": "markdown",
   "id": "d16edf5a-ad4d-4dbb-a9ee-91018e3a7d3a",
   "metadata": {},
   "source": [
    "2 = 010\n",
    "3 = 011\n",
    "---------\n",
    "    011 = 3"
   ]
  },
  {
   "cell_type": "code",
   "execution_count": 8,
   "id": "87b0fb84-a023-487d-abf6-5aa9dc2889ab",
   "metadata": {},
   "outputs": [
    {
     "name": "stdout",
     "output_type": "stream",
     "text": [
      "1\n"
     ]
    }
   ],
   "source": [
    "print( x >> 1) #Right shift "
   ]
  },
  {
   "cell_type": "code",
   "execution_count": 11,
   "id": "298cdd80-945f-4852-82fa-a008adf7c207",
   "metadata": {},
   "outputs": [
    {
     "name": "stdout",
     "output_type": "stream",
     "text": [
      "4\n"
     ]
    }
   ],
   "source": [
    "print( x << 1) #leftt shift"
   ]
  },
  {
   "cell_type": "code",
   "execution_count": 13,
   "id": "4688a919-4488-4c2f-99dd-b7bf6603888f",
   "metadata": {},
   "outputs": [
    {
     "name": "stdout",
     "output_type": "stream",
     "text": [
      "-3\n"
     ]
    }
   ],
   "source": [
    "print(~x) #Bitwise NOT"
   ]
  },
  {
   "cell_type": "markdown",
   "id": "110948f3-0ba1-44e9-88e5-0a12cbb3e50b",
   "metadata": {},
   "source": [
    "<br>\n",
    "<h3>Assignment operators</h3>"
   ]
  },
  {
   "cell_type": "code",
   "execution_count": 16,
   "id": "bdbe4705-a1cb-497a-a359-27ebbc567aac",
   "metadata": {},
   "outputs": [
    {
     "name": "stdout",
     "output_type": "stream",
     "text": [
      "3\n"
     ]
    }
   ],
   "source": [
    "a = 3\n",
    "print(a)"
   ]
  },
  {
   "cell_type": "code",
   "execution_count": 18,
   "id": "9ca43bbc-186e-4124-ac73-b00b8581beb3",
   "metadata": {},
   "outputs": [
    {
     "name": "stdout",
     "output_type": "stream",
     "text": [
      "9\n"
     ]
    }
   ],
   "source": [
    "a += 3  # a = a + 3\n",
    "print(a)"
   ]
  },
  {
   "cell_type": "code",
   "execution_count": null,
   "id": "6aaf6d91-1efa-4a83-9c35-599d3369572f",
   "metadata": {},
   "outputs": [],
   "source": [
    "#work\n",
    "a -= 3\n",
    "a *= 3\n",
    "a &= 3\n",
    "a /= 3"
   ]
  },
  {
   "cell_type": "markdown",
   "id": "8e17dcde-1689-4eda-8692-5962f2406e5d",
   "metadata": {},
   "source": [
    " <h3> Not working a++ or ++a in python</h3>"
   ]
  },
  {
   "cell_type": "code",
   "execution_count": null,
   "id": "886a14e2-f784-4c5e-87f5-8e153a77f7ad",
   "metadata": {},
   "outputs": [],
   "source": [
    "#work\n",
    "a = a + 1\n",
    "a += 1"
   ]
  },
  {
   "cell_type": "markdown",
   "id": "72d264c6-50b5-449a-b3a3-9392d0e234f3",
   "metadata": {},
   "source": [
    "<br>\n",
    "<h3>Identity operators</h3>"
   ]
  },
  {
   "cell_type": "code",
   "execution_count": 22,
   "id": "e2d2e709-bfb9-4800-9ca2-b7e3b8753851",
   "metadata": {},
   "outputs": [
    {
     "name": "stdout",
     "output_type": "stream",
     "text": [
      "True\n"
     ]
    }
   ],
   "source": [
    " a = 3 \n",
    " b = 3\n",
    "print( a is b)"
   ]
  },
  {
   "cell_type": "code",
   "execution_count": 39,
   "id": "7b2743e2-061a-4a7b-ab31-45d25fcac0a7",
   "metadata": {},
   "outputs": [
    {
     "name": "stdout",
     "output_type": "stream",
     "text": [
      "True\n"
     ]
    }
   ],
   "source": [
    "a = \"Hello\"\n",
    "b = \"Hello\"\n",
    "print(a is b)"
   ]
  },
  {
   "cell_type": "code",
   "execution_count": 40,
   "id": "e5143848-356b-4633-92b0-c71939c56fde",
   "metadata": {},
   "outputs": [
    {
     "name": "stdout",
     "output_type": "stream",
     "text": [
      "False\n"
     ]
    }
   ],
   "source": [
    "print(a is not b)"
   ]
  },
  {
   "cell_type": "markdown",
   "id": "44326517-389d-448a-a4e3-fda2d41df004",
   "metadata": {},
   "source": [
    " <ul>\n",
    "     <li> <h4>If two variables are the same memory location then it will be true</h4></li>\n",
    "  <li><h4>If two values are the same that's not mean the location will be the same too</h4></li>\n",
    " </ul>"
   ]
  },
  {
   "cell_type": "code",
   "execution_count": 27,
   "id": "59522e9f-56a2-443c-a1d3-ebeeb3370b65",
   "metadata": {},
   "outputs": [
    {
     "name": "stdout",
     "output_type": "stream",
     "text": [
      "False\n"
     ]
    }
   ],
   "source": [
    "a = \"Hello-world\"\n",
    "b = \"Hello-world\"\n",
    "print(a is b)"
   ]
  },
  {
   "cell_type": "code",
   "execution_count": 29,
   "id": "c1ed1965-d0f5-4dbb-9d9a-ed107b2d4330",
   "metadata": {},
   "outputs": [
    {
     "name": "stdout",
     "output_type": "stream",
     "text": [
      "False\n"
     ]
    }
   ],
   "source": [
    "a = [1,2,3]\n",
    "b = [1,2,3]\n",
    "print(a is b)"
   ]
  },
  {
   "cell_type": "markdown",
   "id": "2260a6cd-438a-42bc-af6e-e1085487c68e",
   "metadata": {},
   "source": [
    "<br>\n",
    "<h3>Membership operators</h3>"
   ]
  },
  {
   "cell_type": "code",
   "execution_count": 33,
   "id": "b614b1d8-5790-4b9d-8e3c-36b253b0f145",
   "metadata": {},
   "outputs": [
    {
     "name": "stdout",
     "output_type": "stream",
     "text": [
      "True\n"
     ]
    }
   ],
   "source": [
    "x = \"Bangladesh\"\n",
    "print(\"a\" in x)"
   ]
  },
  {
   "cell_type": "code",
   "execution_count": 35,
   "id": "90e0536d-388e-45af-aa73-324213fe7a0e",
   "metadata": {},
   "outputs": [
    {
     "name": "stdout",
     "output_type": "stream",
     "text": [
      "False\n"
     ]
    }
   ],
   "source": [
    "print(\"a\" not in x)"
   ]
  },
  {
   "cell_type": "code",
   "execution_count": 37,
   "id": "f34c9a29-9204-4633-8927-1bedf8881ed9",
   "metadata": {},
   "outputs": [
    {
     "name": "stdout",
     "output_type": "stream",
     "text": [
      "True\n"
     ]
    }
   ],
   "source": [
    "a =[ 1,2,3,4]\n",
    "print( 2 in a)"
   ]
  },
  {
   "cell_type": "code",
   "execution_count": 38,
   "id": "e98e46b3-6198-4073-8093-a7b7a77e413b",
   "metadata": {},
   "outputs": [
    {
     "name": "stdout",
     "output_type": "stream",
     "text": [
      "False\n"
     ]
    }
   ],
   "source": [
    "print( 5 in a)"
   ]
  }
 ],
 "metadata": {
  "kernelspec": {
   "display_name": "Python 3 (ipykernel)",
   "language": "python",
   "name": "python3"
  },
  "language_info": {
   "codemirror_mode": {
    "name": "ipython",
    "version": 3
   },
   "file_extension": ".py",
   "mimetype": "text/x-python",
   "name": "python",
   "nbconvert_exporter": "python",
   "pygments_lexer": "ipython3",
   "version": "3.11.3"
  }
 },
 "nbformat": 4,
 "nbformat_minor": 5
}
