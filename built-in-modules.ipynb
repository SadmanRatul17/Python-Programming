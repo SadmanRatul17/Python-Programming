{
 "cells": [
  {
   "cell_type": "markdown",
   "id": "6f6acd49-d09b-440e-b65a-10eea2c5d09f",
   "metadata": {},
   "source": [
    "<h2><b>What are modules?</b></h2>\n",
    "<h4>Consider a module to be the same as a code library.</h4>\n",
    "<h4>A file containing a set of functions you want to include in your application.</h4>\n",
    "<h4><b>Examples of python modules</b></h4>\n",
    "<ul>\n",
    "        <li>Math</li>\n",
    "    <li>Random</li>\n",
    "     <li>os</li>\n",
    "    <li>time</li>\n",
    "    \n",
    "</ul>"
   ]
  },
  {
   "cell_type": "markdown",
   "id": "9afaf7f8-9889-4c31-a1fb-b0b99e4e1afe",
   "metadata": {},
   "source": [
    "<h3>If you want to see the all functions of modules then first import that module and type module_name. + tab_button.exm: math.(tab_button)</h3>"
   ]
  },
  {
   "cell_type": "markdown",
   "id": "a11fdbf2-5df9-4714-be7f-8925ffd4100a",
   "metadata": {},
   "source": [
    "<br>\n",
    "<h1 style='text-align : center '>Math</h1>"
   ]
  },
  {
   "cell_type": "code",
   "execution_count": 3,
   "id": "54943ae0-a594-4ebe-a76a-42e6c09c8ad1",
   "metadata": {},
   "outputs": [],
   "source": [
    "import math"
   ]
  },
  {
   "cell_type": "code",
   "execution_count": 5,
   "id": "9e32c7fa-9ce8-432e-8b1b-df6029b84e73",
   "metadata": {},
   "outputs": [
    {
     "data": {
      "text/plain": [
       "3.141592653589793"
      ]
     },
     "execution_count": 5,
     "metadata": {},
     "output_type": "execute_result"
    }
   ],
   "source": [
    "math.pi"
   ]
  },
  {
   "cell_type": "code",
   "execution_count": 7,
   "id": "86400444-b045-4f66-89be-189ee79f7bef",
   "metadata": {},
   "outputs": [
    {
     "data": {
      "text/plain": [
       "2.718281828459045"
      ]
     },
     "execution_count": 7,
     "metadata": {},
     "output_type": "execute_result"
    }
   ],
   "source": [
    "math.e"
   ]
  },
  {
   "cell_type": "code",
   "execution_count": 9,
   "id": "44346b9b-6c17-49f1-8578-d1101ba7954b",
   "metadata": {},
   "outputs": [
    {
     "data": {
      "text/plain": [
       "3628800"
      ]
     },
     "execution_count": 9,
     "metadata": {},
     "output_type": "execute_result"
    }
   ],
   "source": [
    "math.factorial(10)"
   ]
  },
  {
   "cell_type": "code",
   "execution_count": 11,
   "id": "f2cf9f29-f9d6-4ded-bbab-0ffd7727c34f",
   "metadata": {},
   "outputs": [
    {
     "data": {
      "text/plain": [
       "7"
      ]
     },
     "execution_count": 11,
     "metadata": {},
     "output_type": "execute_result"
    }
   ],
   "source": [
    "math.ceil(6.4)"
   ]
  },
  {
   "cell_type": "code",
   "execution_count": 13,
   "id": "c6377fcb-e6a5-49f6-8bf3-ab7174dc2a9a",
   "metadata": {},
   "outputs": [
    {
     "data": {
      "text/plain": [
       "6"
      ]
     },
     "execution_count": 13,
     "metadata": {},
     "output_type": "execute_result"
    }
   ],
   "source": [
    "math.floor(6.9)"
   ]
  },
  {
   "cell_type": "markdown",
   "id": "830bd630-68b2-4e19-9925-004abe7bd2f4",
   "metadata": {},
   "source": [
    "<br>\n",
    "<h1 style='text-align : center '>Random</h1>"
   ]
  },
  {
   "cell_type": "code",
   "execution_count": 15,
   "id": "e8c76888-b28f-482d-a7ae-1ec243424394",
   "metadata": {},
   "outputs": [],
   "source": [
    "import random"
   ]
  },
  {
   "cell_type": "code",
   "execution_count": 26,
   "id": "b747cc82-52a0-4c72-8b65-358d76b72c5d",
   "metadata": {},
   "outputs": [
    {
     "data": {
      "text/plain": [
       "9"
      ]
     },
     "execution_count": 26,
     "metadata": {},
     "output_type": "execute_result"
    }
   ],
   "source": [
    "random.randint(1,100)"
   ]
  },
  {
   "cell_type": "code",
   "execution_count": 36,
   "id": "191f2049-848b-4cc9-8a9a-ed179488774e",
   "metadata": {},
   "outputs": [
    {
     "data": {
      "text/plain": [
       "[5, 2, 1, 3, 4]"
      ]
     },
     "execution_count": 36,
     "metadata": {},
     "output_type": "execute_result"
    }
   ],
   "source": [
    "a = [1,2,3,4,5]\n",
    "random.shuffle(a)\n",
    "a"
   ]
  },
  {
   "cell_type": "markdown",
   "id": "383838b3-1b44-4813-9d54-3eaf9194bfe5",
   "metadata": {},
   "source": [
    "<br>\n",
    "<h1 style='text-align : center '>Time</h1>"
   ]
  },
  {
   "cell_type": "code",
   "execution_count": 38,
   "id": "53843a18-ffb5-4faf-ad82-f09c0b2970bd",
   "metadata": {},
   "outputs": [],
   "source": [
    "import time"
   ]
  },
  {
   "cell_type": "code",
   "execution_count": 41,
   "id": "55c301e3-744a-48dd-bc35-f6d4821a57f2",
   "metadata": {},
   "outputs": [
    {
     "data": {
      "text/plain": [
       "1720547980.4053025"
      ]
     },
     "execution_count": 41,
     "metadata": {},
     "output_type": "execute_result"
    }
   ],
   "source": [
    "time.time()  # it gives all seconds from 1st january 1970 mid night to now"
   ]
  },
  {
   "cell_type": "code",
   "execution_count": 45,
   "id": "54f45f0a-fb92-420b-854a-ffaad58c7d7a",
   "metadata": {},
   "outputs": [
    {
     "data": {
      "text/plain": [
       "'Wed Jul 10 00:01:15 2024'"
      ]
     },
     "execution_count": 45,
     "metadata": {},
     "output_type": "execute_result"
    }
   ],
   "source": [
    "time.ctime() #current time"
   ]
  },
  {
   "cell_type": "code",
   "execution_count": 48,
   "id": "72eb1ebf-6417-4fdd-8907-acec1208b359",
   "metadata": {},
   "outputs": [
    {
     "name": "stdout",
     "output_type": "stream",
     "text": [
      "Hello\n",
      "World\n"
     ]
    }
   ],
   "source": [
    "print(\"Hello\")\n",
    "time.sleep(5)\n",
    "print(\"World\") #first it will print \"Hello\" then wait 5 sec and then print(\"World\")"
   ]
  },
  {
   "cell_type": "markdown",
   "id": "9f9c60ce-6784-4315-8075-294b5236db6a",
   "metadata": {},
   "source": [
    "<br>\n",
    "<h1 style='text-align : center '>OS</h1>"
   ]
  },
  {
   "cell_type": "code",
   "execution_count": 50,
   "id": "495ee720-1882-4964-9a1c-faabc40320c2",
   "metadata": {},
   "outputs": [],
   "source": [
    "import os"
   ]
  },
  {
   "cell_type": "code",
   "execution_count": 55,
   "id": "9868c65a-3b2b-4ff7-9f6b-137034b3bfbb",
   "metadata": {},
   "outputs": [
    {
     "data": {
      "text/plain": [
       "'D:\\\\pyhton'"
      ]
     },
     "execution_count": 55,
     "metadata": {},
     "output_type": "execute_result"
    }
   ],
   "source": [
    "os.getcwd() #current working directory"
   ]
  },
  {
   "cell_type": "code",
   "execution_count": 56,
   "id": "966e6e1e-0a7e-4254-a33b-c9d673c2859d",
   "metadata": {},
   "outputs": [
    {
     "data": {
      "text/plain": [
       "['.ipynb_checkpoints',\n",
       " 'Break-continue-pass.ipynb',\n",
       " 'built-in-function.ipynb',\n",
       " 'built-in-modules.ipynb',\n",
       " 'Comments.ipynb',\n",
       " 'Datatypes.ipynb',\n",
       " 'For-loops.ipynb',\n",
       " 'guessing-game.ipynb',\n",
       " 'If-else.ipynb',\n",
       " 'keywords-and-Indentifiers.ipynb',\n",
       " 'Literals.ipynb',\n",
       " 'Nested-loops.ipynb',\n",
       " 'Operators.ipynb',\n",
       " 'Print.ipynb',\n",
       " 'Taking-user-input.ipynb',\n",
       " 'Type-conversion.ipynb',\n",
       " 'Variables.ipynb',\n",
       " 'while-loops.ipynb']"
      ]
     },
     "execution_count": 56,
     "metadata": {},
     "output_type": "execute_result"
    }
   ],
   "source": [
    "os.listdir() # all files of current working directory"
   ]
  },
  {
   "cell_type": "code",
   "execution_count": null,
   "id": "39854465-8d88-4774-90b2-87f302c002a3",
   "metadata": {},
   "outputs": [],
   "source": []
  }
 ],
 "metadata": {
  "kernelspec": {
   "display_name": "Python 3 (ipykernel)",
   "language": "python",
   "name": "python3"
  },
  "language_info": {
   "codemirror_mode": {
    "name": "ipython",
    "version": 3
   },
   "file_extension": ".py",
   "mimetype": "text/x-python",
   "name": "python",
   "nbconvert_exporter": "python",
   "pygments_lexer": "ipython3",
   "version": "3.11.3"
  }
 },
 "nbformat": 4,
 "nbformat_minor": 5
}
