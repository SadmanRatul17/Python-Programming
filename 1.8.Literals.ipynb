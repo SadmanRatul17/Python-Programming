{
 "cells": [
  {
   "cell_type": "markdown",
   "id": "172296d4-390b-4fc0-9b66-ab01cab92c1d",
   "metadata": {},
   "source": [
    " <h1 style='text-align : center '> Literals</h1>\n",
    " <br>"
   ]
  },
  {
   "cell_type": "markdown",
   "id": "07714d4a-1b03-4b8f-85c3-40a43db408f4",
   "metadata": {},
   "source": [
    "<h4>Literal is a raw data given in a variable. In Python, there are various types of literals they are as follows:</h4>"
   ]
  },
  {
   "cell_type": "markdown",
   "id": "08c0ff6c-f058-42a0-9d44-39c14308f130",
   "metadata": {},
   "source": [
    "<ul>\n",
    "    <li>Numeric Literals</li>\n",
    "    <li>String Literals</li>\n",
    "    <li>Boolean Literals</li>\n",
    "    <li>Special Literals</li>\n",
    "</ul>\n",
    "<br>"
   ]
  },
  {
   "cell_type": "markdown",
   "id": "99455782-b12d-439a-84df-2a7c0d87ff82",
   "metadata": {},
   "source": [
    "<h3>1. Numeric Literals</h3>\n"
   ]
  },
  {
   "cell_type": "code",
   "execution_count": 1,
   "id": "b150a9cb-e0d8-4e96-ab33-6676faac739a",
   "metadata": {},
   "outputs": [
    {
     "name": "stdout",
     "output_type": "stream",
     "text": [
      "10 100 200 300\n",
      "10.5 150.0 0.0015\n",
      "3.14j 3.14 0.0\n"
     ]
    }
   ],
   "source": [
    "a = 0b1010 #Binary Literals.(0b is for Binary)\n",
    "b = 100 #Decimal Literal \n",
    "c = 0o310 #Octal Literal.(0c is for octal)\n",
    "d = 0x12c #Hexadecimal Literal.(0x is for hexadecimal)\n",
    "\n",
    "#Float Literal\n",
    "float_1 = 10.5 \n",
    "float_2 = 1.5e2\n",
    "float_3 = 1.5e-3\n",
    "\n",
    "#Complex Literal \n",
    "x = 3.14j\n",
    "\n",
    "print(a, b, c, d)\n",
    "print(float_1, float_2,float_3)\n",
    "\n",
    "print(x, x.imag, x.real)"
   ]
  },
  {
   "cell_type": "markdown",
   "id": "38138c17-4ce6-484d-896d-13c8c7d9d1cd",
   "metadata": {},
   "source": [
    "<br>\n",
    "<h3>2. String Literals</h3>"
   ]
  },
  {
   "cell_type": "code",
   "execution_count": 3,
   "id": "19efc04a-5895-4d6c-96fe-237158f384ee",
   "metadata": {},
   "outputs": [
    {
     "name": "stdout",
     "output_type": "stream",
     "text": [
      "This is Python\n",
      "This is Python\n",
      "C\n",
      "This is a multiline string with more than one line code.\n",
      "😀😆🤣\n",
      "raw \\n string\n"
     ]
    }
   ],
   "source": [
    "string = 'This is Python'\n",
    "strings = \"This is Python\"\n",
    "char = \"C\"\n",
    "multiline_str = \"\"\"This is a multiline string with more than one line code.\"\"\"\n",
    "unicode = u\"\\U0001f600\\U0001F606\\U0001F923\"\n",
    "raw_str = r\"raw \\n string\"\n",
    "\n",
    "print(string)\n",
    "print(strings)\n",
    "print(char)\n",
    "print(multiline_str)\n",
    "print(unicode)\n",
    "print(raw_str)"
   ]
  },
  {
   "cell_type": "markdown",
   "id": "b6486f23-d464-4082-907f-666a4352838c",
   "metadata": {},
   "source": [
    "<br>\n",
    "<h3>3. Boolean Literal</h3>"
   ]
  },
  {
   "cell_type": "code",
   "execution_count": 4,
   "id": "19f05500-6703-4752-9e65-ea190c292709",
   "metadata": {},
   "outputs": [
    {
     "name": "stdout",
     "output_type": "stream",
     "text": [
      "a: 5\n",
      "b: 10\n"
     ]
    }
   ],
   "source": [
    "a = True + 4\n",
    "b = False + 10\n",
    "\n",
    "print(\"a:\", a)\n",
    "print(\"b:\", b)"
   ]
  },
  {
   "cell_type": "markdown",
   "id": "e67f00e0-d389-4087-9913-8ed4a1d64534",
   "metadata": {},
   "source": [
    "<h3>4. Special Literal</h3>"
   ]
  },
  {
   "cell_type": "markdown",
   "id": "567716ac-4b10-4e93-9c87-5e6ebcfe0510",
   "metadata": {},
   "source": [
    "<ul>\n",
    "    <li>If we need to declare any variable then we use<b> None</b></li>\n",
    "</ul>"
   ]
  },
  {
   "cell_type": "code",
   "execution_count": 8,
   "id": "9d91fa0c-ac96-46eb-be57-00f69f51a5d3",
   "metadata": {},
   "outputs": [
    {
     "name": "stdout",
     "output_type": "stream",
     "text": [
      "None\n"
     ]
    }
   ],
   "source": [
    "a = None\n",
    "print(a)"
   ]
  },
  {
   "cell_type": "code",
   "execution_count": 10,
   "id": "2f2e9075-fd24-4f48-947d-38847047bde7",
   "metadata": {},
   "outputs": [
    {
     "ename": "NameError",
     "evalue": "name 'k' is not defined",
     "output_type": "error",
     "traceback": [
      "\u001b[1;31m---------------------------------------------------------------------------\u001b[0m",
      "\u001b[1;31mNameError\u001b[0m                                 Traceback (most recent call last)",
      "Cell \u001b[1;32mIn[10], line 1\u001b[0m\n\u001b[1;32m----> 1\u001b[0m \u001b[43mk\u001b[49m\n",
      "\u001b[1;31mNameError\u001b[0m: name 'k' is not defined"
     ]
    }
   ],
   "source": [
    "k"
   ]
  },
  {
   "cell_type": "code",
   "execution_count": 13,
   "id": "925ecf8c-9d58-4b27-939a-6fd5e1e3f77e",
   "metadata": {},
   "outputs": [
    {
     "name": "stdout",
     "output_type": "stream",
     "text": [
      "None\n"
     ]
    }
   ],
   "source": [
    "k = None\n",
    "print(k)\n"
   ]
  }
 ],
 "metadata": {
  "kernelspec": {
   "display_name": "Python 3 (ipykernel)",
   "language": "python",
   "name": "python3"
  },
  "language_info": {
   "codemirror_mode": {
    "name": "ipython",
    "version": 3
   },
   "file_extension": ".py",
   "mimetype": "text/x-python",
   "name": "python",
   "nbconvert_exporter": "python",
   "pygments_lexer": "ipython3",
   "version": "3.11.3"
  }
 },
 "nbformat": 4,
 "nbformat_minor": 5
}
