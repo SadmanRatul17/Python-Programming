{
 "cells": [
  {
   "cell_type": "markdown",
   "id": "5ed3fd41-189e-49ba-a60b-0d6223f106da",
   "metadata": {},
   "source": [
    "<h2>Common Functions</h2>\n",
    "<ul>\n",
    "    <li>len</li>\n",
    "    <li>max</li>\n",
    "    <li>min</li>\n",
    "    <li>sorted</li>\n",
    "</ul>"
   ]
  },
  {
   "cell_type": "code",
   "execution_count": 1,
   "id": "1edcb6b7-4bb5-43df-a2f6-110a703b9e6f",
   "metadata": {},
   "outputs": [
    {
     "data": {
      "text/plain": [
       "5"
      ]
     },
     "execution_count": 1,
     "metadata": {},
     "output_type": "execute_result"
    }
   ],
   "source": [
    "c=\"dhaka\"\n",
    "len(c)"
   ]
  },
  {
   "cell_type": "code",
   "execution_count": 2,
   "id": "b2e25419-c72b-45b0-bebc-72600c2e8fbf",
   "metadata": {},
   "outputs": [
    {
     "data": {
      "text/plain": [
       "'k'"
      ]
     },
     "execution_count": 2,
     "metadata": {},
     "output_type": "execute_result"
    }
   ],
   "source": [
    "max(c) # max ascii value"
   ]
  },
  {
   "cell_type": "code",
   "execution_count": 3,
   "id": "56918458-b5fd-4244-8b87-e62581ad1d5b",
   "metadata": {},
   "outputs": [
    {
     "data": {
      "text/plain": [
       "'a'"
      ]
     },
     "execution_count": 3,
     "metadata": {},
     "output_type": "execute_result"
    }
   ],
   "source": [
    "min(c) # min ascii value"
   ]
  },
  {
   "cell_type": "code",
   "execution_count": 4,
   "id": "1b9c527a-cca2-4536-a019-bcd1abf6aca5",
   "metadata": {},
   "outputs": [
    {
     "data": {
      "text/plain": [
       "['a', 'a', 'd', 'h', 'k']"
      ]
     },
     "execution_count": 4,
     "metadata": {},
     "output_type": "execute_result"
    }
   ],
   "source": [
    "sorted(c) # ascending order"
   ]
  },
  {
   "cell_type": "code",
   "execution_count": 5,
   "id": "efdd5907-c834-4bcf-86a7-76ab97b83408",
   "metadata": {},
   "outputs": [
    {
     "data": {
      "text/plain": [
       "['k', 'h', 'd', 'a', 'a']"
      ]
     },
     "execution_count": 5,
     "metadata": {},
     "output_type": "execute_result"
    }
   ],
   "source": [
    "sorted(c,reverse=True) # decending order"
   ]
  },
  {
   "cell_type": "markdown",
   "id": "2a9be48a-80b5-47fc-858d-1111a959cb67",
   "metadata": {},
   "source": [
    "<br>\n",
    "<h1>1. Capitalize/Title/Upper/Lower/Swapcase</h1>"
   ]
  },
  {
   "cell_type": "code",
   "execution_count": 7,
   "id": "cb81b581-72bb-437b-b8d0-c580111ee6ef",
   "metadata": {},
   "outputs": [
    {
     "data": {
      "text/plain": [
       "'Dhaka'"
      ]
     },
     "execution_count": 7,
     "metadata": {},
     "output_type": "execute_result"
    }
   ],
   "source": [
    "#c=\"dhaka\"\n",
    "c.capitalize()"
   ]
  },
  {
   "cell_type": "code",
   "execution_count": 12,
   "id": "d812c802-762a-45da-8591-3893a6d5f224",
   "metadata": {},
   "outputs": [
    {
     "data": {
      "text/plain": [
       "'It is raining today'"
      ]
     },
     "execution_count": 12,
     "metadata": {},
     "output_type": "execute_result"
    }
   ],
   "source": [
    "\"it is raining today\".capitalize() # only first word will be capitalize"
   ]
  },
  {
   "cell_type": "code",
   "execution_count": 11,
   "id": "c87fd3cf-39a8-49ab-b733-683608f8bd82",
   "metadata": {},
   "outputs": [
    {
     "data": {
      "text/plain": [
       "'It Is Raining Today'"
      ]
     },
     "execution_count": 11,
     "metadata": {},
     "output_type": "execute_result"
    }
   ],
   "source": [
    "\"it is raining today\".title() # Every first word will be capitalize"
   ]
  },
  {
   "cell_type": "code",
   "execution_count": 14,
   "id": "271696ec-d097-4652-afe6-ac5ff8643d32",
   "metadata": {},
   "outputs": [
    {
     "data": {
      "text/plain": [
       "'DHAKA'"
      ]
     },
     "execution_count": 14,
     "metadata": {},
     "output_type": "execute_result"
    }
   ],
   "source": [
    "#c=\"dhaka\"\n",
    "c.upper()"
   ]
  },
  {
   "cell_type": "code",
   "execution_count": 16,
   "id": "8b87ca9c-2de9-41cc-bea7-ec72678a0cf1",
   "metadata": {},
   "outputs": [
    {
     "data": {
      "text/plain": [
       "'dhaka'"
      ]
     },
     "execution_count": 16,
     "metadata": {},
     "output_type": "execute_result"
    }
   ],
   "source": [
    "c.lower()"
   ]
  },
  {
   "cell_type": "code",
   "execution_count": 18,
   "id": "4fa7d2e9-31f4-490b-95b8-cda48b8013f1",
   "metadata": {},
   "outputs": [
    {
     "data": {
      "text/plain": [
       "'dHaKA'"
      ]
     },
     "execution_count": 18,
     "metadata": {},
     "output_type": "execute_result"
    }
   ],
   "source": [
    "\"DhAka\".swapcase() # upper will be lower,lower will be upper"
   ]
  },
  {
   "cell_type": "markdown",
   "id": "9244ff64-2ceb-4888-a552-247b485b5c06",
   "metadata": {},
   "source": [
    "<br>\n",
    "<h1>2. Count</h1>"
   ]
  },
  {
   "cell_type": "code",
   "execution_count": 21,
   "id": "6e66153b-6954-4e05-9627-a4b308cb5275",
   "metadata": {},
   "outputs": [
    {
     "data": {
      "text/plain": [
       "2"
      ]
     },
     "execution_count": 21,
     "metadata": {},
     "output_type": "execute_result"
    }
   ],
   "source": [
    "\"it is raining today\".count(\"a\") #count() takes at least 1 argument"
   ]
  },
  {
   "cell_type": "markdown",
   "id": "a398468a-9deb-4da5-b305-eb739dea7ff5",
   "metadata": {},
   "source": [
    "<br>\n",
    "<h1>3. Find/Index</h1>"
   ]
  },
  {
   "cell_type": "code",
   "execution_count": 22,
   "id": "4f479053-6374-421d-83dc-d60d3ea29fa7",
   "metadata": {},
   "outputs": [
    {
     "data": {
      "text/plain": [
       "7"
      ]
     },
     "execution_count": 22,
     "metadata": {},
     "output_type": "execute_result"
    }
   ],
   "source": [
    "\"it is raining today\".find(\"a\") # for multiple results gives you first occurence"
   ]
  },
  {
   "cell_type": "code",
   "execution_count": 23,
   "id": "1b3767bc-97f9-4290-ba70-1abe2825c762",
   "metadata": {},
   "outputs": [
    {
     "data": {
      "text/plain": [
       "-1"
      ]
     },
     "execution_count": 23,
     "metadata": {},
     "output_type": "execute_result"
    }
   ],
   "source": [
    "\"it is raining today\".find(\"x\") # if that is not present gives you -1"
   ]
  },
  {
   "cell_type": "code",
   "execution_count": 26,
   "id": "d63a40b1-1397-4e7e-a0b6-b0ddd8b1c347",
   "metadata": {},
   "outputs": [
    {
     "data": {
      "text/plain": [
       "6"
      ]
     },
     "execution_count": 26,
     "metadata": {},
     "output_type": "execute_result"
    }
   ],
   "source": [
    "\"it is raining today\".index(\"r\")"
   ]
  },
  {
   "cell_type": "code",
   "execution_count": 27,
   "id": "ae1d905d-49b6-4308-90ed-7dca920cdd9e",
   "metadata": {},
   "outputs": [
    {
     "ename": "ValueError",
     "evalue": "substring not found",
     "output_type": "error",
     "traceback": [
      "\u001b[1;31m---------------------------------------------------------------------------\u001b[0m",
      "\u001b[1;31mValueError\u001b[0m                                Traceback (most recent call last)",
      "Cell \u001b[1;32mIn[27], line 1\u001b[0m\n\u001b[1;32m----> 1\u001b[0m \u001b[38;5;124;43m\"\u001b[39;49m\u001b[38;5;124;43mit is raining today\u001b[39;49m\u001b[38;5;124;43m\"\u001b[39;49m\u001b[38;5;241;43m.\u001b[39;49m\u001b[43mindex\u001b[49m\u001b[43m(\u001b[49m\u001b[38;5;124;43m\"\u001b[39;49m\u001b[38;5;124;43mx\u001b[39;49m\u001b[38;5;124;43m\"\u001b[39;49m\u001b[43m)\u001b[49m \u001b[38;5;66;03m# error\u001b[39;00m\n",
      "\u001b[1;31mValueError\u001b[0m: substring not found"
     ]
    }
   ],
   "source": [
    "\"it is raining today\".index(\"x\") # if that is not present gives you error"
   ]
  },
  {
   "cell_type": "markdown",
   "id": "364eb60c-b8f6-4686-ab55-c487a46516a8",
   "metadata": {},
   "source": [
    "<br>\n",
    "<h1>4.endswith/startswith</h1>"
   ]
  },
  {
   "cell_type": "code",
   "execution_count": 32,
   "id": "bd12ab12-8de0-4a2d-bf67-7a80b8e94bc8",
   "metadata": {},
   "outputs": [
    {
     "data": {
      "text/plain": [
       "True"
      ]
     },
     "execution_count": 32,
     "metadata": {},
     "output_type": "execute_result"
    }
   ],
   "source": [
    "\"it is raining today\".startswith(\"it\")"
   ]
  },
  {
   "cell_type": "code",
   "execution_count": 34,
   "id": "6bb1dd9a-e2bd-408a-acd0-762e38588eb6",
   "metadata": {},
   "outputs": [
    {
     "data": {
      "text/plain": [
       "False"
      ]
     },
     "execution_count": 34,
     "metadata": {},
     "output_type": "execute_result"
    }
   ],
   "source": [
    "\"it is raining today\".endswith(\"ing\")"
   ]
  },
  {
   "cell_type": "code",
   "execution_count": 35,
   "id": "a84d66a4-2495-4b04-8ac1-24f80e1389ea",
   "metadata": {},
   "outputs": [
    {
     "data": {
      "text/plain": [
       "True"
      ]
     },
     "execution_count": 35,
     "metadata": {},
     "output_type": "execute_result"
    }
   ],
   "source": [
    "\"it is raining today\".endswith(\"ay\")"
   ]
  },
  {
   "cell_type": "markdown",
   "id": "8f9c56e3-f888-4b3a-bd05-a1c27181f3fa",
   "metadata": {},
   "source": [
    "<br>\n",
    "<h1>5. format</h1>"
   ]
  },
  {
   "cell_type": "code",
   "execution_count": 36,
   "id": "9286b845-1e0c-4607-8d0a-2100640e8d05",
   "metadata": {},
   "outputs": [
    {
     "data": {
      "text/plain": [
       "'Hello my name is Ratul and I am 21'"
      ]
     },
     "execution_count": 36,
     "metadata": {},
     "output_type": "execute_result"
    }
   ],
   "source": [
    "\"Hello my name is {} and I am {}\".format(\"Ratul\",21)"
   ]
  },
  {
   "cell_type": "code",
   "execution_count": 37,
   "id": "c1ae4d45-3edc-4716-bfcd-2c82bdc4d882",
   "metadata": {},
   "outputs": [
    {
     "data": {
      "text/plain": [
       "'Hello my name is 21 and I am Ratul'"
      ]
     },
     "execution_count": 37,
     "metadata": {},
     "output_type": "execute_result"
    }
   ],
   "source": [
    "\"Hello my name is {1} and I am {0}\".format(\"Ratul\",21)"
   ]
  },
  {
   "cell_type": "code",
   "execution_count": 38,
   "id": "01d23ddd-1c15-4c8a-a497-7a37de359742",
   "metadata": {},
   "outputs": [
    {
     "data": {
      "text/plain": [
       "'Hello my name is Ratul and I am 21'"
      ]
     },
     "execution_count": 38,
     "metadata": {},
     "output_type": "execute_result"
    }
   ],
   "source": [
    "\"Hello my name is {name} and I am {age}\".format(name=\"Ratul\",age=21)"
   ]
  },
  {
   "cell_type": "code",
   "execution_count": 39,
   "id": "ff44267c-22c7-46b7-b8cf-dbe828911747",
   "metadata": {},
   "outputs": [
    {
     "data": {
      "text/plain": [
       "'Hello my name is Ratul and I am Ratul'"
      ]
     },
     "execution_count": 39,
     "metadata": {},
     "output_type": "execute_result"
    }
   ],
   "source": [
    "\"Hello my name is {name} and I am {name}\".format(name=\"Ratul\",age=21,weight=64)"
   ]
  },
  {
   "cell_type": "markdown",
   "id": "71acb36c-0b90-4d73-8e65-8637a8024c05",
   "metadata": {},
   "source": [
    "<br>\n",
    "<h1>6. isalnum/ isalpha/ isdecimal/ isdigit/ isidentifier</h1>"
   ]
  },
  {
   "cell_type": "code",
   "execution_count": 40,
   "id": "751af4b7-530f-46fd-808f-435b422ef459",
   "metadata": {},
   "outputs": [
    {
     "data": {
      "text/plain": [
       "True"
      ]
     },
     "execution_count": 40,
     "metadata": {},
     "output_type": "execute_result"
    }
   ],
   "source": [
    "\"Flat20\".isalnum() # all alphabet or number"
   ]
  },
  {
   "cell_type": "code",
   "execution_count": 43,
   "id": "6e1e0a15-12ca-42c1-9301-1f09fb4a92b2",
   "metadata": {},
   "outputs": [
    {
     "data": {
      "text/plain": [
       "True"
      ]
     },
     "execution_count": 43,
     "metadata": {},
     "output_type": "execute_result"
    }
   ],
   "source": [
    "\"flat\".isalpha() # only alphabet\n"
   ]
  },
  {
   "cell_type": "code",
   "execution_count": 44,
   "id": "3cf545a5-927b-4240-8865-e05b61d189f1",
   "metadata": {},
   "outputs": [
    {
     "data": {
      "text/plain": [
       "False"
      ]
     },
     "execution_count": 44,
     "metadata": {},
     "output_type": "execute_result"
    }
   ],
   "source": [
    "\"flat20\".isalpha()"
   ]
  },
  {
   "cell_type": "code",
   "execution_count": 47,
   "id": "12abf20f-095f-4d68-933e-74924248f2f3",
   "metadata": {},
   "outputs": [
    {
     "data": {
      "text/plain": [
       "True"
      ]
     },
     "execution_count": 47,
     "metadata": {},
     "output_type": "execute_result"
    }
   ],
   "source": [
    "\"20\".isdigit()"
   ]
  },
  {
   "cell_type": "code",
   "execution_count": 48,
   "id": "290473d5-42e2-43b9-af4b-722762ebcd68",
   "metadata": {},
   "outputs": [
    {
     "data": {
      "text/plain": [
       "True"
      ]
     },
     "execution_count": 48,
     "metadata": {},
     "output_type": "execute_result"
    }
   ],
   "source": [
    "\"20\".isdecimal()"
   ]
  },
  {
   "cell_type": "code",
   "execution_count": 49,
   "id": "e4de061f-aae8-4f73-9190-3277d10231a6",
   "metadata": {},
   "outputs": [
    {
     "data": {
      "text/plain": [
       "False"
      ]
     },
     "execution_count": 49,
     "metadata": {},
     "output_type": "execute_result"
    }
   ],
   "source": [
    "\"Hello wolrd\".isidentifier()"
   ]
  },
  {
   "cell_type": "code",
   "execution_count": 51,
   "id": "4deb57cd-0f69-43e3-9888-e5c26087ed74",
   "metadata": {},
   "outputs": [
    {
     "data": {
      "text/plain": [
       "True"
      ]
     },
     "execution_count": 51,
     "metadata": {},
     "output_type": "execute_result"
    }
   ],
   "source": [
    "\"Hello_wolrd\".isidentifier()"
   ]
  },
  {
   "cell_type": "markdown",
   "id": "376032ef-50bb-4eb3-b55c-44fe15ef7309",
   "metadata": {},
   "source": [
    "<br>\n",
    "<h1>7.Split</h1>"
   ]
  },
  {
   "cell_type": "code",
   "execution_count": 52,
   "id": "8a561f12-f6a5-4bc4-a681-d55ef72e426e",
   "metadata": {},
   "outputs": [
    {
     "data": {
      "text/plain": [
       "['My', 'name', 'is', 'ratul']"
      ]
     },
     "execution_count": 52,
     "metadata": {},
     "output_type": "execute_result"
    }
   ],
   "source": [
    "\"My name is ratul\".split() # word break and add in list"
   ]
  },
  {
   "cell_type": "code",
   "execution_count": 55,
   "id": "7b4e0c1a-1498-4312-8b82-96a1a7fd1259",
   "metadata": {},
   "outputs": [
    {
     "data": {
      "text/plain": [
       "['My name ', ' ratul']"
      ]
     },
     "execution_count": 55,
     "metadata": {},
     "output_type": "execute_result"
    }
   ],
   "source": [
    "\"My name is ratul\".split(\"is\") "
   ]
  },
  {
   "cell_type": "code",
   "execution_count": 56,
   "id": "570328b7-5355-444e-b63b-1062533b1d1e",
   "metadata": {},
   "outputs": [
    {
     "data": {
      "text/plain": [
       "['My name ', 's ratul']"
      ]
     },
     "execution_count": 56,
     "metadata": {},
     "output_type": "execute_result"
    }
   ],
   "source": [
    "\"My name is ratul\".split(\"i\") "
   ]
  },
  {
   "cell_type": "markdown",
   "id": "6609bcd9-5e57-4129-b144-e1d8e72848c6",
   "metadata": {},
   "source": [
    "<br>\n",
    "<h1>8. Join</h1>"
   ]
  },
  {
   "cell_type": "code",
   "execution_count": 57,
   "id": "52c2e315-bd8a-4694-b56a-52408bce8636",
   "metadata": {},
   "outputs": [
    {
     "data": {
      "text/plain": [
       "'My name is ratul'"
      ]
     },
     "execution_count": 57,
     "metadata": {},
     "output_type": "execute_result"
    }
   ],
   "source": [
    "\" \".join(['My', 'name', 'is', 'ratul'])"
   ]
  },
  {
   "cell_type": "code",
   "execution_count": 58,
   "id": "05847b47-e86c-49e9-a8b0-1b1ff2d016e0",
   "metadata": {},
   "outputs": [
    {
     "data": {
      "text/plain": [
       "'My-name-is-ratul'"
      ]
     },
     "execution_count": 58,
     "metadata": {},
     "output_type": "execute_result"
    }
   ],
   "source": [
    "\"-\".join(['My', 'name', 'is', 'ratul'])"
   ]
  },
  {
   "cell_type": "code",
   "execution_count": 59,
   "id": "9734e1f4-2e3c-4277-98d2-de23edd96447",
   "metadata": {},
   "outputs": [
    {
     "data": {
      "text/plain": [
       "'My+name+is+ratul'"
      ]
     },
     "execution_count": 59,
     "metadata": {},
     "output_type": "execute_result"
    }
   ],
   "source": [
    "\"+\".join(['My', 'name', 'is', 'ratul'])"
   ]
  },
  {
   "cell_type": "markdown",
   "id": "25de443c-93fa-44ca-852f-34eb6dc355ad",
   "metadata": {},
   "source": [
    "<br>\n",
    "<h1>9. Replace</h1>"
   ]
  },
  {
   "cell_type": "code",
   "execution_count": 60,
   "id": "46e62080-d88b-4d38-bde2-749cdf007aef",
   "metadata": {},
   "outputs": [
    {
     "data": {
      "text/plain": [
       "'Hi my boss is Ratul'"
      ]
     },
     "execution_count": 60,
     "metadata": {},
     "output_type": "execute_result"
    }
   ],
   "source": [
    "\"Hi my boss is Reon\".replace(\"Reon\",\"Ratul\")"
   ]
  },
  {
   "cell_type": "markdown",
   "id": "55a2d37d-80f1-45e6-b76f-e44155d73427",
   "metadata": {},
   "source": [
    "<br>\n",
    "<h1>10. Strip</h1>"
   ]
  },
  {
   "cell_type": "code",
   "execution_count": 64,
   "id": "253a0935-c5b8-4833-8474-3ac472bc3f9e",
   "metadata": {},
   "outputs": [
    {
     "data": {
      "text/plain": [
       "'          Ratul     '"
      ]
     },
     "execution_count": 64,
     "metadata": {},
     "output_type": "execute_result"
    }
   ],
   "source": [
    "name = \"          Ratul     \"\n",
    "name"
   ]
  },
  {
   "cell_type": "code",
   "execution_count": 67,
   "id": "6f421b8a-fb3c-4af6-8c3c-85d030f8fae2",
   "metadata": {},
   "outputs": [
    {
     "data": {
      "text/plain": [
       "'Hi           Ratul     '"
      ]
     },
     "execution_count": 67,
     "metadata": {},
     "output_type": "execute_result"
    }
   ],
   "source": [
    "\"Hi\"+\" \"+name "
   ]
  },
  {
   "cell_type": "code",
   "execution_count": 68,
   "id": "d61ce52c-3b94-42b7-bae8-9e82ab52334d",
   "metadata": {},
   "outputs": [
    {
     "data": {
      "text/plain": [
       "'Hi Ratul'"
      ]
     },
     "execution_count": 68,
     "metadata": {},
     "output_type": "execute_result"
    }
   ],
   "source": [
    "\"Hi\"+\" \"+name.strip()"
   ]
  }
 ],
 "metadata": {
  "kernelspec": {
   "display_name": "Python 3 (ipykernel)",
   "language": "python",
   "name": "python3"
  },
  "language_info": {
   "codemirror_mode": {
    "name": "ipython",
    "version": 3
   },
   "file_extension": ".py",
   "mimetype": "text/x-python",
   "name": "python",
   "nbconvert_exporter": "python",
   "pygments_lexer": "ipython3",
   "version": "3.11.3"
  }
 },
 "nbformat": 4,
 "nbformat_minor": 5
}
