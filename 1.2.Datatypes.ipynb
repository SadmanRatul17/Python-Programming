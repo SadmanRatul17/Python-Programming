{
 "cells": [
  {
   "cell_type": "markdown",
   "id": "7773569d-6f26-44e5-979e-e8c529e4f0ab",
   "metadata": {},
   "source": [
    "<h1 style='text-align : center '>Data Types</h1>"
   ]
  },
  {
   "cell_type": "markdown",
   "id": "98f00268-65e7-4f92-adc4-cbf8f4ac18da",
   "metadata": {},
   "source": [
    "<br>\n",
    "<h3><b>Python supports 3 types of data types:</b></h3>\n",
    "  <ul> <li><h4>Basic Types - Integer, Float, Complex, Boolean, String</h4></li>\n",
    "    <li><h4>Container Types - List, Tuples, Sets, and Dictionary</h4></li>\n",
    "      <li><h4>User-defined Types - Functions </h4></li>\n",
    "  </ul>\n",
    "  <br>"
   ]
  },
  {
   "cell_type": "code",
   "execution_count": 3,
   "id": "260a8079-5d9f-4439-8c07-5242ce045261",
   "metadata": {},
   "outputs": [
    {
     "name": "stdout",
     "output_type": "stream",
     "text": [
      "0\n",
      "1e+308\n",
      "inf\n"
     ]
    }
   ],
   "source": [
    "#integer\n",
    "print(0)\n",
    "\n",
    "#integer last range 10^308\n",
    "print(1e308)\n",
    "print(1e309)"
   ]
  },
  {
   "cell_type": "markdown",
   "id": "faf4b664-13d5-4c33-a005-851ae1024781",
   "metadata": {},
   "source": [
    "<br>"
   ]
  },
  {
   "cell_type": "code",
   "execution_count": 4,
   "id": "c3cd6cf0-9937-411b-8a66-da29c8477e2c",
   "metadata": {},
   "outputs": [
    {
     "name": "stdout",
     "output_type": "stream",
     "text": [
      "1.5\n",
      "1.7e+308\n",
      "inf\n"
     ]
    }
   ],
   "source": [
    "#float\n",
    "print(1.5)\n",
    "\n",
    "#float last range 1.7 * 10^308\n",
    "print(1.7e308)\n",
    "print(1.7e309)"
   ]
  },
  {
   "cell_type": "markdown",
   "id": "fcabd271-c926-4f49-b54f-1f2b614e3e10",
   "metadata": {},
   "source": [
    "<br>"
   ]
  },
  {
   "cell_type": "code",
   "execution_count": 6,
   "id": "b928a0e8-3d8a-48cb-a80e-e6e0d48d6153",
   "metadata": {},
   "outputs": [
    {
     "name": "stdout",
     "output_type": "stream",
     "text": [
      "True\n",
      "False\n"
     ]
    }
   ],
   "source": [
    "#boolean\n",
    "print(True)\n",
    "print(False)"
   ]
  },
  {
   "cell_type": "markdown",
   "id": "a6f56b74-e602-48b6-887b-1d6cf56a6c1c",
   "metadata": {},
   "source": [
    "<br>"
   ]
  },
  {
   "cell_type": "code",
   "execution_count": 8,
   "id": "50f59afa-da23-45c7-b7b2-a35fab984882",
   "metadata": {},
   "outputs": [
    {
     "name": "stdout",
     "output_type": "stream",
     "text": [
      "(3+9j)\n"
     ]
    }
   ],
   "source": [
    "#complex\n",
    "print(3+9j)"
   ]
  },
  {
   "cell_type": "markdown",
   "id": "bb3e344a-a995-4d1e-af57-2e872562e958",
   "metadata": {},
   "source": [
    "<br>"
   ]
  },
  {
   "cell_type": "code",
   "execution_count": 10,
   "id": "fdd5ddb8-d622-4bf2-af06-b30929e9c022",
   "metadata": {},
   "outputs": [
    {
     "name": "stdout",
     "output_type": "stream",
     "text": [
      "Hello\n",
      "Hello\n",
      "Hello\n"
     ]
    }
   ],
   "source": [
    "#string\n",
    "print('Hello')\n",
    "print(\"Hello\")\n",
    "print(\"\"\"Hello\"\"\")\n"
   ]
  },
  {
   "cell_type": "markdown",
   "id": "0b1049a3-d0de-4ebb-a305-887c1e12c8d3",
   "metadata": {},
   "source": [
    "<br>"
   ]
  },
  {
   "cell_type": "code",
   "execution_count": 12,
   "id": "d3e05307-7725-4657-87ef-1455036d5386",
   "metadata": {},
   "outputs": [
    {
     "name": "stdout",
     "output_type": "stream",
     "text": [
      "[1, 2, 3, 4, 5]\n"
     ]
    }
   ],
   "source": [
    "#Lists\n",
    "print([1,2,3,4,5])"
   ]
  },
  {
   "cell_type": "code",
   "execution_count": 14,
   "id": "71bfccf9-bae3-4505-b01e-bdd5f5a508e2",
   "metadata": {},
   "outputs": [
    {
     "name": "stdout",
     "output_type": "stream",
     "text": [
      "(1, 2, 3, 4, 5)\n"
     ]
    }
   ],
   "source": [
    "#Tuples\n",
    "print((1,2,3,4,5))"
   ]
  },
  {
   "cell_type": "code",
   "execution_count": 16,
   "id": "6404ad43-fbda-4c6c-8bff-2ee692940dcd",
   "metadata": {},
   "outputs": [
    {
     "name": "stdout",
     "output_type": "stream",
     "text": [
      "{1, 2, 3, 4, 5}\n"
     ]
    }
   ],
   "source": [
    "#Sets\n",
    "print({1,2,3,4,5})"
   ]
  },
  {
   "cell_type": "code",
   "execution_count": 17,
   "id": "9d2bf4c0-410e-49d3-9f90-d55cde195bbd",
   "metadata": {},
   "outputs": [
    {
     "name": "stdout",
     "output_type": "stream",
     "text": [
      "{'Name': 'Ratul', 'Age': 23, 'Gender': 'Male'}\n"
     ]
    }
   ],
   "source": [
    "#Dictionary\n",
    "print({\"Name\": \"Ratul\", \"Age\": 23, \"Gender\": \"Male\"})"
   ]
  }
 ],
 "metadata": {
  "kernelspec": {
   "display_name": "Python 3 (ipykernel)",
   "language": "python",
   "name": "python3"
  },
  "language_info": {
   "codemirror_mode": {
    "name": "ipython",
    "version": 3
   },
   "file_extension": ".py",
   "mimetype": "text/x-python",
   "name": "python",
   "nbconvert_exporter": "python",
   "pygments_lexer": "ipython3",
   "version": "3.11.3"
  }
 },
 "nbformat": 4,
 "nbformat_minor": 5
}
