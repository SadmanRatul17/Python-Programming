{
 "cells": [
  {
   "cell_type": "code",
   "execution_count": 1,
   "id": "a96578bf-5dae-4b51-8019-ebad339cd910",
   "metadata": {},
   "outputs": [
    {
     "name": "stdin",
     "output_type": "stream",
     "text": [
      " Ratul\n"
     ]
    },
    {
     "data": {
      "text/plain": [
       "'Ratul'"
      ]
     },
     "execution_count": 1,
     "metadata": {},
     "output_type": "execute_result"
    }
   ],
   "source": [
    "input()"
   ]
  },
  {
   "cell_type": "code",
   "execution_count": 1,
   "id": "13dca6ef-37ea-4061-8be9-db982a28e16b",
   "metadata": {},
   "outputs": [
    {
     "name": "stdin",
     "output_type": "stream",
     "text": [
      "Enter Your Name: Ratul\n"
     ]
    },
    {
     "data": {
      "text/plain": [
       "'Ratul'"
      ]
     },
     "execution_count": 1,
     "metadata": {},
     "output_type": "execute_result"
    }
   ],
   "source": [
    "input(\"Enter Your Name:\")"
   ]
  },
  {
   "cell_type": "code",
   "execution_count": 4,
   "id": "e73b0882-cc23-4932-b329-c8c3883439db",
   "metadata": {},
   "outputs": [
    {
     "name": "stdin",
     "output_type": "stream",
     "text": [
      "Enter Your First Number: 56\n",
      "Enter Your second Number: 78\n"
     ]
    }
   ],
   "source": [
    "first_num  = input(\"Enter Your First Number:\")\n",
    "second_num  = input(\"Enter Your second Number:\")"
   ]
  },
  {
   "cell_type": "code",
   "execution_count": null,
   "id": "ea856136-e612-48e1-994f-c90ed8705877",
   "metadata": {},
   "outputs": [],
   "source": [
    "print"
   ]
  }
 ],
 "metadata": {
  "kernelspec": {
   "display_name": "Python 3 (ipykernel)",
   "language": "python",
   "name": "python3"
  },
  "language_info": {
   "codemirror_mode": {
    "name": "ipython",
    "version": 3
   },
   "file_extension": ".py",
   "mimetype": "text/x-python",
   "name": "python",
   "nbconvert_exporter": "python",
   "pygments_lexer": "ipython3",
   "version": "3.11.3"
  }
 },
 "nbformat": 4,
 "nbformat_minor": 5
}
