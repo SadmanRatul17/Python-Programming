{
 "cells": [
  {
   "cell_type": "markdown",
   "id": "5cb6bbb1-1ff0-4e8f-9da1-88d37d02cdae",
   "metadata": {},
   "source": [
    "<h2>What is list?</h2>\n",
    "<h3>- A list is a data structure in Python that is a mutable, or changeable, ordered sequence of elements.</h3>"
   ]
  },
  {
   "cell_type": "markdown",
   "id": "2201b49e-3b11-470d-9277-a0da00a4ab6d",
   "metadata": {},
   "source": [
    "<br>\n",
    "<h2>List vs Array</h2>\n",
    "<ol>\n",
    "    <li>List are hetrogenous  And Array are homogenous</li>\n",
    "    <li>List are not contiguous But Array are contiguous</li>\n",
    "    <li>List are slower And Array are much faster</li>\n",
    "</ol>"
   ]
  },
  {
   "cell_type": "markdown",
   "id": "e4eb5395-1a82-4b24-98cf-5037f49ba4a6",
   "metadata": {},
   "source": [
    "<br>\n",
    "<h2>Create List</h2>"
   ]
  },
  {
   "cell_type": "code",
   "execution_count": 23,
   "id": "f01f3289-7682-423f-80bb-b0cacc4b1e8d",
   "metadata": {},
   "outputs": [
    {
     "data": {
      "text/plain": [
       "[]"
      ]
     },
     "execution_count": 23,
     "metadata": {},
     "output_type": "execute_result"
    }
   ],
   "source": [
    "list0=[] #empty list\n",
    "list0"
   ]
  },
  {
   "cell_type": "code",
   "execution_count": 12,
   "id": "98d49421-566a-43ff-b691-b45b846735ad",
   "metadata": {},
   "outputs": [
    {
     "data": {
      "text/plain": [
       "[1, 2, 3, 4, 5]"
      ]
     },
     "execution_count": 12,
     "metadata": {},
     "output_type": "execute_result"
    }
   ],
   "source": [
    "list1=[1,2,3,4,5] #homogenous list\n",
    "list1"
   ]
  },
  {
   "cell_type": "code",
   "execution_count": 13,
   "id": "9592ae34-d6a7-4da2-b4e0-1415b1b767ef",
   "metadata": {},
   "outputs": [
    {
     "data": {
      "text/plain": [
       "['Hello', 1, True, 5.6, (5+6j)]"
      ]
     },
     "execution_count": 13,
     "metadata": {},
     "output_type": "execute_result"
    }
   ],
   "source": [
    "list2=[\"Hello\",1,True,5.6,5+6j] #hetrogenous list\n",
    "list2"
   ]
  },
  {
   "cell_type": "code",
   "execution_count": 4,
   "id": "db784339-1c25-47d1-8254-58cab1da5641",
   "metadata": {},
   "outputs": [],
   "source": [
    "# Multi dimentional list"
   ]
  },
  {
   "cell_type": "code",
   "execution_count": 14,
   "id": "70fbbd51-ed21-49dd-b0bd-98fc77b49dc1",
   "metadata": {},
   "outputs": [
    {
     "data": {
      "text/plain": [
       "[1, 2, 3, [4, 5]]"
      ]
     },
     "execution_count": 14,
     "metadata": {},
     "output_type": "execute_result"
    }
   ],
   "source": [
    "# 2D\n",
    "list3=[1,2,3,[4,5]] # hetrogenous list because [number + list]\n",
    "list3"
   ]
  },
  {
   "cell_type": "code",
   "execution_count": 16,
   "id": "44ab4449-2f30-45cf-948d-9e9c1d2f78ac",
   "metadata": {},
   "outputs": [
    {
     "data": {
      "text/plain": [
       "[[[1, 2], [3, 4]], [[5, 6], [7, 8]]]"
      ]
     },
     "execution_count": 16,
     "metadata": {},
     "output_type": "execute_result"
    }
   ],
   "source": [
    "# 3D\n",
    "list4 = [[[1,2],[3,4]],[[5,6],[7,8]]]\n",
    "list4"
   ]
  },
  {
   "cell_type": "code",
   "execution_count": 4,
   "id": "36b56762-c13a-4f92-9c84-e7c78be3b5a8",
   "metadata": {},
   "outputs": [
    {
     "data": {
      "text/plain": [
       "['d', 'a', 't', 'a']"
      ]
     },
     "execution_count": 4,
     "metadata": {},
     "output_type": "execute_result"
    }
   ],
   "source": [
    "list5 = list('data')\n",
    "list5"
   ]
  },
  {
   "cell_type": "code",
   "execution_count": 5,
   "id": "68fa1082-56d8-4c69-8ecc-d8748ffbc651",
   "metadata": {},
   "outputs": [
    {
     "data": {
      "text/plain": [
       "[]"
      ]
     },
     "execution_count": 5,
     "metadata": {},
     "output_type": "execute_result"
    }
   ],
   "source": [
    "list6=list() #empty list\n",
    "list6"
   ]
  },
  {
   "cell_type": "markdown",
   "id": "55543690-a34b-4785-8abb-aa8cd05878e0",
   "metadata": {},
   "source": [
    "<br>\n",
    "<h2>Access item from a List</h2>"
   ]
  },
  {
   "cell_type": "code",
   "execution_count": 5,
   "id": "2ce4b254-d362-4f3d-accf-ccfdf9d33645",
   "metadata": {},
   "outputs": [
    {
     "data": {
      "text/plain": [
       "1"
      ]
     },
     "execution_count": 5,
     "metadata": {},
     "output_type": "execute_result"
    }
   ],
   "source": [
    "list1 = [1,2,3,4,5]\n",
    "list1[0]"
   ]
  },
  {
   "cell_type": "code",
   "execution_count": 7,
   "id": "5f67724a-6ff2-4f07-a9ae-3edcb3331356",
   "metadata": {},
   "outputs": [
    {
     "data": {
      "text/plain": [
       "[2, 3]"
      ]
     },
     "execution_count": 7,
     "metadata": {},
     "output_type": "execute_result"
    }
   ],
   "source": [
    "list1[1:3]"
   ]
  },
  {
   "cell_type": "code",
   "execution_count": 9,
   "id": "dd4e3542-e20a-4334-bec5-d379f19fc6e0",
   "metadata": {},
   "outputs": [
    {
     "data": {
      "text/plain": [
       "[5, 4, 3, 2, 1]"
      ]
     },
     "execution_count": 9,
     "metadata": {},
     "output_type": "execute_result"
    }
   ],
   "source": [
    "list1[::-1]"
   ]
  },
  {
   "cell_type": "code",
   "execution_count": 12,
   "id": "32c00d0e-b4fd-4490-b1b0-cbccee283c4a",
   "metadata": {},
   "outputs": [
    {
     "data": {
      "text/plain": [
       "4"
      ]
     },
     "execution_count": 12,
     "metadata": {},
     "output_type": "execute_result"
    }
   ],
   "source": [
    "list3=[1,2,3,[4,5]] #want to access 4\n",
    "list3[-1][0]"
   ]
  },
  {
   "cell_type": "code",
   "execution_count": 14,
   "id": "a61c2763-5064-4e7e-84bb-55cbc170b08b",
   "metadata": {},
   "outputs": [
    {
     "data": {
      "text/plain": [
       "5"
      ]
     },
     "execution_count": 14,
     "metadata": {},
     "output_type": "execute_result"
    }
   ],
   "source": [
    "list3[-1][1] #want to access 5"
   ]
  },
  {
   "cell_type": "code",
   "execution_count": 16,
   "id": "9853cc21-9b8a-4b80-9bd9-f3096bcfa9ea",
   "metadata": {},
   "outputs": [
    {
     "data": {
      "text/plain": [
       "7"
      ]
     },
     "execution_count": 16,
     "metadata": {},
     "output_type": "execute_result"
    }
   ],
   "source": [
    "list4 = [[[1,2],[3,4]],[[5,6],[7,8]]]\n",
    "list4[-1][-1][0]"
   ]
  },
  {
   "cell_type": "markdown",
   "id": "f6ebc36d-74d3-40b4-b502-f2a25d6b2558",
   "metadata": {},
   "source": [
    "<br>\n",
    "<h2>Edit items</h2>"
   ]
  },
  {
   "cell_type": "code",
   "execution_count": 18,
   "id": "180f601e-1ece-4b08-be7b-ae63b44bbbbd",
   "metadata": {},
   "outputs": [
    {
     "data": {
      "text/plain": [
       "[100, 2, 3, 4, 5]"
      ]
     },
     "execution_count": 18,
     "metadata": {},
     "output_type": "execute_result"
    }
   ],
   "source": [
    "List1=[1,2,3,4,5]\n",
    "list1[0]= 100\n",
    "list1"
   ]
  },
  {
   "cell_type": "code",
   "execution_count": 22,
   "id": "47dfe1e6-459f-4377-99b0-12c9039e0999",
   "metadata": {},
   "outputs": [
    {
     "data": {
      "text/plain": [
       "[100, 2, 3, 4, 500]"
      ]
     },
     "execution_count": 22,
     "metadata": {},
     "output_type": "execute_result"
    }
   ],
   "source": [
    "list1[-1] =500\n",
    "list1"
   ]
  },
  {
   "cell_type": "markdown",
   "id": "ebd6e61c-09ee-49b8-8687-c3f4262407d9",
   "metadata": {},
   "source": [
    "<h1 style='text-align : center '> NB: List in python are Mutable </h1>"
   ]
  },
  {
   "cell_type": "code",
   "execution_count": 24,
   "id": "ee3d6281-8564-4935-9e8a-c5b258ff8621",
   "metadata": {},
   "outputs": [
    {
     "data": {
      "text/plain": [
       "[100, 200, 300, 400, 500]"
      ]
     },
     "execution_count": 24,
     "metadata": {},
     "output_type": "execute_result"
    }
   ],
   "source": [
    "list1[1:4]=[200,300,400]\n",
    "list1"
   ]
  },
  {
   "cell_type": "markdown",
   "id": "1484c5cc-0e79-4086-b166-ef5b623a89dc",
   "metadata": {},
   "source": [
    "<br>\n",
    "<h2>Add new items</h2>\n",
    "<ul>\n",
    "    <li>append</li>\n",
    "    <li>extend</li>\n",
    "    <li>insert</li>\n",
    "\n",
    "</ul>"
   ]
  },
  {
   "cell_type": "code",
   "execution_count": 27,
   "id": "3ddaee42-78d8-4e5f-a934-8d0392336611",
   "metadata": {},
   "outputs": [
    {
     "data": {
      "text/plain": [
       "[1, 2, 3, 4, 5, 6]"
      ]
     },
     "execution_count": 27,
     "metadata": {},
     "output_type": "execute_result"
    }
   ],
   "source": [
    "list1=[1,2,3,4,5]\n",
    "list1.append(6)  # will add one item in the last\n",
    "list1"
   ]
  },
  {
   "cell_type": "code",
   "execution_count": 28,
   "id": "fcc16249-7d01-445d-a681-e162d0be006a",
   "metadata": {},
   "outputs": [
    {
     "data": {
      "text/plain": [
       "[1, 2, 3, 4, 5, 6, 'Hello']"
      ]
     },
     "execution_count": 28,
     "metadata": {},
     "output_type": "execute_result"
    }
   ],
   "source": [
    "list1.append(\"Hello\")  \n",
    "list1"
   ]
  },
  {
   "cell_type": "code",
   "execution_count": 29,
   "id": "b091e399-fd92-47de-a675-480be70cb1c2",
   "metadata": {},
   "outputs": [
    {
     "data": {
      "text/plain": [
       "[1, 2, 3, 4, 5, 6, 'Hello', 7, 8, 9]"
      ]
     },
     "execution_count": 29,
     "metadata": {},
     "output_type": "execute_result"
    }
   ],
   "source": [
    "list1.extend([7,8,9])  # will add multiple items in the last\n",
    "list1"
   ]
  },
  {
   "cell_type": "code",
   "execution_count": 37,
   "id": "faa53771-f7c2-40af-b23a-f83c2f7c9ccf",
   "metadata": {},
   "outputs": [
    {
     "data": {
      "text/plain": [
       "[1, 2, 3, 4, [5, 6]]"
      ]
     },
     "execution_count": 37,
     "metadata": {},
     "output_type": "execute_result"
    }
   ],
   "source": [
    "list2=[1,2,3,4]\n",
    "list2.append([5,6])  # append always want to append one items\n",
    "list2"
   ]
  },
  {
   "cell_type": "code",
   "execution_count": 38,
   "id": "25aef2a8-8e72-4627-92b6-70a190573b61",
   "metadata": {},
   "outputs": [
    {
     "data": {
      "text/plain": [
       "[1, 2, 3, 4, [5, 6], 'g', 'o', 'a']"
      ]
     },
     "execution_count": 38,
     "metadata": {},
     "output_type": "execute_result"
    }
   ],
   "source": [
    "list2.extend(\"goa\")  # extend always want to append multiple items\n",
    "list2"
   ]
  },
  {
   "cell_type": "code",
   "execution_count": 41,
   "id": "16753f30-608b-4f2c-b7c3-8cb863e98a1d",
   "metadata": {},
   "outputs": [
    {
     "data": {
      "text/plain": [
       "[1, 'Hello', 2, 3, 4, 5]"
      ]
     },
     "execution_count": 41,
     "metadata": {},
     "output_type": "execute_result"
    }
   ],
   "source": [
    "# at specific place\n",
    "list3=[1,2,3,4,5]\n",
    "list3.insert(1,\"Hello\")\n",
    "list3"
   ]
  },
  {
   "cell_type": "markdown",
   "id": "216fd396-49b2-4fa6-b4ab-324e7d4a3e92",
   "metadata": {},
   "source": [
    "<br>\n",
    "<h2>Delete</h2>\n",
    "<ul>\n",
    "    <li>del</li>\n",
    "    <li>remove</li>\n",
    "    <li>pop</li>\n",
    "    <li>clear</li>\n",
    "\n",
    "</ul>"
   ]
  },
  {
   "cell_type": "code",
   "execution_count": 43,
   "id": "38c97bd8-8f6a-4258-9302-2473b246cc2a",
   "metadata": {},
   "outputs": [
    {
     "data": {
      "text/plain": [
       "[1, 2, 3, 4]"
      ]
     },
     "execution_count": 43,
     "metadata": {},
     "output_type": "execute_result"
    }
   ],
   "source": [
    "list11=[1,2,3,4]\n",
    "list11"
   ]
  },
  {
   "cell_type": "code",
   "execution_count": 44,
   "id": "4387df1e-f1f8-4f06-a67e-bdcda2460ade",
   "metadata": {},
   "outputs": [],
   "source": [
    "del list11 # fully delete"
   ]
  },
  {
   "cell_type": "code",
   "execution_count": 45,
   "id": "cb64fe76-6e53-4789-8821-b6419c102e7a",
   "metadata": {},
   "outputs": [
    {
     "ename": "NameError",
     "evalue": "name 'list11' is not defined",
     "output_type": "error",
     "traceback": [
      "\u001b[1;31m---------------------------------------------------------------------------\u001b[0m",
      "\u001b[1;31mNameError\u001b[0m                                 Traceback (most recent call last)",
      "Cell \u001b[1;32mIn[45], line 1\u001b[0m\n\u001b[1;32m----> 1\u001b[0m \u001b[43mlist11\u001b[49m\n",
      "\u001b[1;31mNameError\u001b[0m: name 'list11' is not defined"
     ]
    }
   ],
   "source": [
    "list11"
   ]
  },
  {
   "cell_type": "code",
   "execution_count": 50,
   "id": "a591e234-b7cc-46c0-a8dc-6b283bf06924",
   "metadata": {},
   "outputs": [
    {
     "data": {
      "text/plain": [
       "[1, 2, 3, 4]"
      ]
     },
     "execution_count": 50,
     "metadata": {},
     "output_type": "execute_result"
    }
   ],
   "source": [
    "list11=[1,2,3,4]\n",
    "list11"
   ]
  },
  {
   "cell_type": "code",
   "execution_count": 51,
   "id": "021494c7-0eaa-41e4-9848-46daa65c3fe4",
   "metadata": {},
   "outputs": [
    {
     "data": {
      "text/plain": [
       "[2, 3, 4]"
      ]
     },
     "execution_count": 51,
     "metadata": {},
     "output_type": "execute_result"
    }
   ],
   "source": [
    "del list11[0] # knowing index\n",
    "list11"
   ]
  },
  {
   "cell_type": "code",
   "execution_count": 52,
   "id": "591700fc-6b98-41e6-b835-81046bf288e7",
   "metadata": {},
   "outputs": [
    {
     "data": {
      "text/plain": [
       "[2, 3]"
      ]
     },
     "execution_count": 52,
     "metadata": {},
     "output_type": "execute_result"
    }
   ],
   "source": [
    "del list11[-1]\n",
    "list11"
   ]
  },
  {
   "cell_type": "markdown",
   "id": "8e68ef76-1c07-412c-a18f-bea46e2362c1",
   "metadata": {},
   "source": [
    "<h2>If you don't know index position then use <b>remove</b></h2>"
   ]
  },
  {
   "cell_type": "code",
   "execution_count": 54,
   "id": "d3eac441-c4c7-4412-8674-b8a661b7b2c8",
   "metadata": {},
   "outputs": [
    {
     "data": {
      "text/plain": [
       "[1, 2, 3, 4, 5, 6, 7, 8, 9]"
      ]
     },
     "execution_count": 54,
     "metadata": {},
     "output_type": "execute_result"
    }
   ],
   "source": [
    "l2=[1, 2, 3, 4, 5, 6, 'Hello', 7, 8, 9]\n",
    "l2.remove(\"Hello\")\n",
    "l2"
   ]
  },
  {
   "cell_type": "code",
   "execution_count": 58,
   "id": "35868b19-5c6f-448c-9731-7d1f796b05dc",
   "metadata": {},
   "outputs": [
    {
     "data": {
      "text/plain": [
       "[1, 2, 3, 4, 5, 6, 7, 8]"
      ]
     },
     "execution_count": 58,
     "metadata": {},
     "output_type": "execute_result"
    }
   ],
   "source": [
    "l3=[1, 2, 3, 4, 5, 6, 7, 8, 9]\n",
    "l3.pop()  # removed last element\n",
    "l3"
   ]
  },
  {
   "cell_type": "code",
   "execution_count": 59,
   "id": "6120a910-3af8-404a-bfc6-3bc81fa5a8ad",
   "metadata": {},
   "outputs": [
    {
     "data": {
      "text/plain": [
       "[1, 2, 3, 4, 5, 6, 7]"
      ]
     },
     "execution_count": 59,
     "metadata": {},
     "output_type": "execute_result"
    }
   ],
   "source": [
    "l3.pop()  # removed last element\n",
    "l3"
   ]
  },
  {
   "cell_type": "markdown",
   "id": "1b85ad25-a16a-4ffe-b47c-67c508f7e030",
   "metadata": {},
   "source": [
    "<h2>If you wants to empty the list but not deleted then use  <b>clear</b></h2>"
   ]
  },
  {
   "cell_type": "code",
   "execution_count": 60,
   "id": "6170249a-42b0-4c8f-b6d7-06431e41724d",
   "metadata": {},
   "outputs": [
    {
     "data": {
      "text/plain": [
       "[1, 2, 3, 4, 5, 6, 7]"
      ]
     },
     "execution_count": 60,
     "metadata": {},
     "output_type": "execute_result"
    }
   ],
   "source": [
    "l3"
   ]
  },
  {
   "cell_type": "code",
   "execution_count": 62,
   "id": "8e5965f0-951f-4c52-b9d1-2bccbaf9f279",
   "metadata": {},
   "outputs": [
    {
     "data": {
      "text/plain": [
       "[]"
      ]
     },
     "execution_count": 62,
     "metadata": {},
     "output_type": "execute_result"
    }
   ],
   "source": [
    "l3.clear()\n",
    "l3"
   ]
  },
  {
   "cell_type": "markdown",
   "id": "964f18db-997f-406e-8742-2824cb309188",
   "metadata": {},
   "source": [
    "<br>\n",
    "<h2>Operations</h2>"
   ]
  },
  {
   "cell_type": "code",
   "execution_count": 2,
   "id": "317d74ff-8ef5-447f-a3b7-a52eb17674bc",
   "metadata": {},
   "outputs": [
    {
     "data": {
      "text/plain": [
       "[1, 2, 3, 4, 5, 6, 7]"
      ]
     },
     "execution_count": 2,
     "metadata": {},
     "output_type": "execute_result"
    }
   ],
   "source": [
    "l = [1,2,3,4]\n",
    "l1=[5,6,7]\n",
    "l+l1   # concatenate"
   ]
  },
  {
   "cell_type": "code",
   "execution_count": 3,
   "id": "42bb7968-7b25-43ff-96a4-9e3024db13c4",
   "metadata": {},
   "outputs": [
    {
     "data": {
      "text/plain": [
       "[1, 2, 3, 4, 1, 2, 3, 4, 1, 2, 3, 4]"
      ]
     },
     "execution_count": 3,
     "metadata": {},
     "output_type": "execute_result"
    }
   ],
   "source": [
    "l*3"
   ]
  },
  {
   "cell_type": "code",
   "execution_count": 4,
   "id": "8add8843-65c5-43b6-be29-c41effe00d40",
   "metadata": {},
   "outputs": [
    {
     "name": "stdout",
     "output_type": "stream",
     "text": [
      "1\n",
      "2\n",
      "3\n",
      "4\n"
     ]
    }
   ],
   "source": [
    "for i in l:\n",
    "    print(i)"
   ]
  },
  {
   "cell_type": "code",
   "execution_count": 5,
   "id": "3feda5f2-e9ed-4553-b723-fa542f03a76a",
   "metadata": {},
   "outputs": [
    {
     "name": "stdout",
     "output_type": "stream",
     "text": [
      "1\n",
      "2\n",
      "3\n",
      "4\n",
      "[5, 6]\n"
     ]
    }
   ],
   "source": [
    "l3=[1, 2, 3, 4, [5, 6]]\n",
    "for i in l3:\n",
    "    print(i)  #loop will run 5 times"
   ]
  },
  {
   "cell_type": "code",
   "execution_count": 7,
   "id": "57decc19-6018-405b-8e30-b1ae89b49696",
   "metadata": {},
   "outputs": [
    {
     "data": {
      "text/plain": [
       "False"
      ]
     },
     "execution_count": 7,
     "metadata": {},
     "output_type": "execute_result"
    }
   ],
   "source": [
    "5 in l3  #in a list"
   ]
  },
  {
   "cell_type": "code",
   "execution_count": 8,
   "id": "817de268-7be4-4da1-a076-9b703119bb86",
   "metadata": {},
   "outputs": [
    {
     "data": {
      "text/plain": [
       "True"
      ]
     },
     "execution_count": 8,
     "metadata": {},
     "output_type": "execute_result"
    }
   ],
   "source": [
    "[5, 6] in l3"
   ]
  },
  {
   "cell_type": "markdown",
   "id": "9926463b-ac46-471f-8ef7-dc6d40292c8f",
   "metadata": {},
   "source": [
    "<br>\n",
    "<h2>Functions</h2>"
   ]
  },
  {
   "cell_type": "code",
   "execution_count": 9,
   "id": "4b97477f-8aa2-49d2-99d1-bb98b5233d96",
   "metadata": {},
   "outputs": [
    {
     "data": {
      "text/plain": [
       "5"
      ]
     },
     "execution_count": 9,
     "metadata": {},
     "output_type": "execute_result"
    }
   ],
   "source": [
    "l=[1,2,3,4,5]\n",
    "len(l)"
   ]
  },
  {
   "cell_type": "code",
   "execution_count": 10,
   "id": "4913830a-b80c-4d2a-a07d-8fe4a6558fd4",
   "metadata": {},
   "outputs": [
    {
     "data": {
      "text/plain": [
       "1"
      ]
     },
     "execution_count": 10,
     "metadata": {},
     "output_type": "execute_result"
    }
   ],
   "source": [
    "min(l)"
   ]
  },
  {
   "cell_type": "code",
   "execution_count": 11,
   "id": "1bc839f5-b5e2-4483-b922-81255f3eda1d",
   "metadata": {},
   "outputs": [
    {
     "data": {
      "text/plain": [
       "5"
      ]
     },
     "execution_count": 11,
     "metadata": {},
     "output_type": "execute_result"
    }
   ],
   "source": [
    "max(l)"
   ]
  },
  {
   "cell_type": "code",
   "execution_count": 12,
   "id": "961a7e66-959a-49a0-ace2-cff9353a7105",
   "metadata": {},
   "outputs": [
    {
     "data": {
      "text/plain": [
       "[3, 4, 5, 5, 44]"
      ]
     },
     "execution_count": 12,
     "metadata": {},
     "output_type": "execute_result"
    }
   ],
   "source": [
    "l2=[5,4,3,44,5] #ascending\n",
    "sorted(l2)"
   ]
  },
  {
   "cell_type": "code",
   "execution_count": 13,
   "id": "10d94e3d-d9f6-486a-ab08-5b1f8d08c973",
   "metadata": {},
   "outputs": [
    {
     "data": {
      "text/plain": [
       "[5, 4, 3, 2, 1]"
      ]
     },
     "execution_count": 13,
     "metadata": {},
     "output_type": "execute_result"
    }
   ],
   "source": [
    "sorted(l,reverse=True) #descending"
   ]
  },
  {
   "cell_type": "code",
   "execution_count": 17,
   "id": "42620e32-baf4-46f5-8674-35ead571df90",
   "metadata": {},
   "outputs": [
    {
     "data": {
      "text/plain": [
       "[1, 2, 3, 4, 5]"
      ]
     },
     "execution_count": 17,
     "metadata": {},
     "output_type": "execute_result"
    }
   ],
   "source": [
    "l3=[2,3,4,5,1]\n",
    "l3.sort()\n",
    "l3"
   ]
  },
  {
   "cell_type": "markdown",
   "id": "b2a6985b-362d-4f7a-80f1-08dbe56155d9",
   "metadata": {},
   "source": [
    "<h2>Sorted vs sort</h2>\n",
    "<h3>-sorted will create new list not changed in real list. </h3>\n",
    "  <h3>-  sort change the real list</h3>"
   ]
  },
  {
   "cell_type": "code",
   "execution_count": 18,
   "id": "5f01aaf6-0c5c-4f7c-896c-3505a3bf5cac",
   "metadata": {},
   "outputs": [
    {
     "data": {
      "text/plain": [
       "[1, 2, 3, 4, 4, 4, 5, 9, 90]"
      ]
     },
     "execution_count": 18,
     "metadata": {},
     "output_type": "execute_result"
    }
   ],
   "source": [
    "l5=[1,2,3,4,9,5,4,90,4]\n",
    "sorted(l5)"
   ]
  },
  {
   "cell_type": "code",
   "execution_count": 19,
   "id": "92b07262-9004-4b84-a543-f4aa09f25250",
   "metadata": {},
   "outputs": [
    {
     "data": {
      "text/plain": [
       "[1, 2, 3, 4, 9, 5, 4, 90, 4]"
      ]
     },
     "execution_count": 19,
     "metadata": {},
     "output_type": "execute_result"
    }
   ],
   "source": [
    "l5 # not changed in real l5 list"
   ]
  },
  {
   "cell_type": "code",
   "execution_count": 24,
   "id": "c0f4aed4-0315-4976-9b79-50918fa89b2e",
   "metadata": {},
   "outputs": [
    {
     "data": {
      "text/plain": [
       "[1, 2, 3, 4, 4, 4, 5, 9, 90]"
      ]
     },
     "execution_count": 24,
     "metadata": {},
     "output_type": "execute_result"
    }
   ],
   "source": [
    "l5=[1,2,3,4,9,5,4,90,4]\n",
    "l5.sort()\n",
    "l5"
   ]
  },
  {
   "cell_type": "code",
   "execution_count": 25,
   "id": "c5a16a02-65cc-4beb-87a3-975805196d85",
   "metadata": {},
   "outputs": [
    {
     "data": {
      "text/plain": [
       "[1, 2, 3, 4, 4, 4, 5, 9, 90]"
      ]
     },
     "execution_count": 25,
     "metadata": {},
     "output_type": "execute_result"
    }
   ],
   "source": [
    "l5   #changed in real l5 list"
   ]
  },
  {
   "cell_type": "code",
   "execution_count": 27,
   "id": "b7a772e1-68f0-44fb-a38b-53f13c3d1404",
   "metadata": {},
   "outputs": [
    {
     "data": {
      "text/plain": [
       "6"
      ]
     },
     "execution_count": 27,
     "metadata": {},
     "output_type": "execute_result"
    }
   ],
   "source": [
    "l5.index(5)"
   ]
  },
  {
   "cell_type": "markdown",
   "id": "7c4203d5-685f-4374-8919-a70901511a32",
   "metadata": {},
   "source": [
    "<br>\n",
    "<h2> <b>Problem :</b> \"hello how are you?\"  to \"Hello How Are You?\"</h2>"
   ]
  },
  {
   "cell_type": "code",
   "execution_count": 39,
   "id": "d27c11ee-fb75-41b3-b301-3ff93d59d899",
   "metadata": {},
   "outputs": [
    {
     "name": "stdout",
     "output_type": "stream",
     "text": [
      "Hello How Are You?\n"
     ]
    }
   ],
   "source": [
    "str = \"hello how are you?\"\n",
    "str1 = str.split()\n",
    "\n",
    "l=[]\n",
    "for i in str1:\n",
    "    l.append(i.capitalize())\n",
    "\n",
    "print(\" \".join(l))\n"
   ]
  },
  {
   "cell_type": "markdown",
   "id": "1a8cc85c-2e56-49fe-b040-69328d1eb54c",
   "metadata": {},
   "source": [
    "<br>\n",
    "<h2> <b>Problem :</b> \"sadmanratul17@gmail.com?\"  to  print only name like\"sadmanratul17\"</h2>"
   ]
  },
  {
   "cell_type": "code",
   "execution_count": 47,
   "id": "1a8a92f7-b988-4911-b4d8-7020ef0395fe",
   "metadata": {},
   "outputs": [
    {
     "name": "stdin",
     "output_type": "stream",
     "text": [
      "Enter your mail: sadmanratul17@gmail.com\n"
     ]
    },
    {
     "name": "stdout",
     "output_type": "stream",
     "text": [
      "sadmanratul17\n"
     ]
    }
   ],
   "source": [
    "email=input(\"Enter your mail:\")\n",
    "position=email.index(\"@\")\n",
    "print(email[:position])"
   ]
  },
  {
   "cell_type": "markdown",
   "id": "cf158642-86a5-4992-b7f8-8f1627931543",
   "metadata": {},
   "source": [
    "<br>\n",
    "<h2> <b>Problem :</b> \"l=[1,2,2,3,4,4]\"  to  \"l=[1,2,3,4]\" </h2>"
   ]
  },
  {
   "cell_type": "code",
   "execution_count": 50,
   "id": "52f3c767-92cb-4ffd-b3be-ef361fb9681e",
   "metadata": {},
   "outputs": [
    {
     "name": "stdout",
     "output_type": "stream",
     "text": [
      "[1, 2, 3, 4]\n"
     ]
    }
   ],
   "source": [
    "l=[1,2,2,3,4,4]\n",
    "l1=[]\n",
    "\n",
    "for i in l:\n",
    "    if i not in l1:\n",
    "        l1.append(i)\n",
    "print(l1)"
   ]
  }
 ],
 "metadata": {
  "kernelspec": {
   "display_name": "Python 3 (ipykernel)",
   "language": "python",
   "name": "python3"
  },
  "language_info": {
   "codemirror_mode": {
    "name": "ipython",
    "version": 3
   },
   "file_extension": ".py",
   "mimetype": "text/x-python",
   "name": "python",
   "nbconvert_exporter": "python",
   "pygments_lexer": "ipython3",
   "version": "3.11.3"
  }
 },
 "nbformat": 4,
 "nbformat_minor": 5
}
