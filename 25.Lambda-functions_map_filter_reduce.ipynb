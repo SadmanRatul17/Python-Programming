{
 "cells": [
  {
   "cell_type": "markdown",
   "id": "c9fd0b3e-0b68-42f2-ba66-66c6cc45ac8a",
   "metadata": {},
   "source": [
    "<h2>Difference between Lambda vs Normal function?</h2>\n",
    "<ul>\n",
    "    <li>Lambda has no return value</li>\n",
    "    <li>One line</li>\n",
    "    <li>Not used for code reusability</li>\n",
    "    <li>No name</li>\n",
    "</ul>"
   ]
  },
  {
   "cell_type": "markdown",
   "id": "1c4b6665-0098-4692-9f76-70aa559f67d3",
   "metadata": {},
   "source": [
    "<h3> Why we use it?</h3>\n",
    "<h4>-> Lambda will use along with higher order function</h4>"
   ]
  },
  {
   "cell_type": "markdown",
   "id": "b452a2e0-9fe3-4768-8c80-52ba2090379e",
   "metadata": {},
   "source": [
    "<p><b> Higher Order Function </b>- if it contains other functions as a parameter or returns a function as an output\n",
    "i.e, the functions that operate with another function are known as Higher order Functions. <p>"
   ]
  },
  {
   "cell_type": "code",
   "execution_count": 6,
   "id": "f08c51af-224d-4f3a-9e83-025225b5747d",
   "metadata": {},
   "outputs": [
    {
     "data": {
      "text/plain": [
       "4"
      ]
     },
     "execution_count": 6,
     "metadata": {},
     "output_type": "execute_result"
    }
   ],
   "source": [
    "# lambda functions\n",
    "# -> lambda input : expression\n",
    "\n",
    "x=lambda x: x**2  # square of 2\n",
    "x(2)"
   ]
  },
  {
   "cell_type": "code",
   "execution_count": 7,
   "id": "7cccd46b-df6e-4028-9e54-5ce1ef849e14",
   "metadata": {},
   "outputs": [
    {
     "data": {
      "text/plain": [
       "5"
      ]
     },
     "execution_count": 7,
     "metadata": {},
     "output_type": "execute_result"
    }
   ],
   "source": [
    "y =lambda a,b: a+b # sum\n",
    "y(2,3)"
   ]
  },
  {
   "cell_type": "code",
   "execution_count": 10,
   "id": "0c93bd21-25fe-4512-8db1-7d9f4d687336",
   "metadata": {},
   "outputs": [
    {
     "data": {
      "text/plain": [
       "True"
      ]
     },
     "execution_count": 10,
     "metadata": {},
     "output_type": "execute_result"
    }
   ],
   "source": [
    "b= lambda x:x[0] == 'a'    #first letter a \n",
    "b(\"apple\")"
   ]
  },
  {
   "cell_type": "code",
   "execution_count": 11,
   "id": "879db21a-cfe6-4968-a0a5-e26fd4d05b35",
   "metadata": {},
   "outputs": [
    {
     "data": {
      "text/plain": [
       "'Odd'"
      ]
     },
     "execution_count": 11,
     "metadata": {},
     "output_type": "execute_result"
    }
   ],
   "source": [
    "b= lambda x: \"even\" if x%2==0 else \"Odd\"    # odd or even\n",
    "b(3)"
   ]
  },
  {
   "cell_type": "code",
   "execution_count": 12,
   "id": "f6b1024a-4002-4028-8027-8996e3715105",
   "metadata": {},
   "outputs": [
    {
     "data": {
      "text/plain": [
       "'even'"
      ]
     },
     "execution_count": 12,
     "metadata": {},
     "output_type": "execute_result"
    }
   ],
   "source": [
    "b(2)"
   ]
  },
  {
   "cell_type": "markdown",
   "id": "3c7681fb-1bcb-4165-b749-de91ea7df3cf",
   "metadata": {},
   "source": [
    "<h1 style='text-align : center '> Higher Order Function </h1>"
   ]
  },
  {
   "cell_type": "code",
   "execution_count": 3,
   "id": "c91e73df-77f7-4121-aefb-f760d1aa1bba",
   "metadata": {},
   "outputs": [
    {
     "name": "stdout",
     "output_type": "stream",
     "text": [
      "50\n",
      "39\n",
      "33\n"
     ]
    }
   ],
   "source": [
    "def return_sum(func,l):   # Higher Order Function\n",
    "    result = 0\n",
    "    for i in l:\n",
    "        if func(i):\n",
    "            result = result + i\n",
    "    return result\n",
    "\n",
    "x = lambda x: x%2 == 0\n",
    "y = lambda y: y%2 != 0\n",
    "z = lambda z: z%3 == 0\n",
    "\n",
    "l=[11,22,1,4,5,6,9,18,13]\n",
    "print(return_sum(x,l)) # sum of even numbers \n",
    "print(return_sum(y,l)) # sum of odd numbers\n",
    "print(return_sum(z,l)) # # sum of numbers that satisfied by 3\n"
   ]
  },
  {
   "cell_type": "markdown",
   "id": "0c61df62-9a6b-4982-a7bc-9ae65e0b2d84",
   "metadata": {},
   "source": [
    "<h1 style='text-align : center '> Map</h1>"
   ]
  },
  {
   "cell_type": "code",
   "execution_count": 4,
   "id": "56594e9c-1ffe-4ba4-b561-38f1b5173122",
   "metadata": {},
   "outputs": [
    {
     "data": {
      "text/plain": [
       "<map at 0x18e9e2397e0>"
      ]
     },
     "execution_count": 4,
     "metadata": {},
     "output_type": "execute_result"
    }
   ],
   "source": [
    "l = [1,2,3,4,5]\n",
    "map(lambda x: x*2,l)"
   ]
  },
  {
   "cell_type": "code",
   "execution_count": 9,
   "id": "8dd4b510-b160-491f-9291-3a84db383fb4",
   "metadata": {},
   "outputs": [
    {
     "data": {
      "text/plain": [
       "[2, 4, 6, 8, 10]"
      ]
     },
     "execution_count": 9,
     "metadata": {},
     "output_type": "execute_result"
    }
   ],
   "source": [
    "# map object to type convert \n",
    "list(map(lambda x: x*2,l))"
   ]
  },
  {
   "cell_type": "code",
   "execution_count": 10,
   "id": "d11ac535-2a96-41ad-a6f3-46398397287d",
   "metadata": {},
   "outputs": [
    {
     "data": {
      "text/plain": [
       "[1, 2, 3, 4, 5]"
      ]
     },
     "execution_count": 10,
     "metadata": {},
     "output_type": "execute_result"
    }
   ],
   "source": [
    "l"
   ]
  },
  {
   "cell_type": "code",
   "execution_count": 8,
   "id": "c516afcd-fa60-4560-a85a-b2faa7f24cac",
   "metadata": {},
   "outputs": [
    {
     "data": {
      "text/plain": [
       "[False, True, False, True, False]"
      ]
     },
     "execution_count": 8,
     "metadata": {},
     "output_type": "execute_result"
    }
   ],
   "source": [
    "#check even numbers using map\n",
    "list(map(lambda x : x%2 == 0,l))"
   ]
  },
  {
   "cell_type": "code",
   "execution_count": 11,
   "id": "a4d8973d-e2e7-405f-8cc7-931b6a5c04c9",
   "metadata": {},
   "outputs": [],
   "source": [
    "students=[\n",
    "    {\n",
    "        \"name\" : \"Ratul\",\n",
    "        \"father name\" : \"Abu taher\",\n",
    "        \"addres\" : \"Bogura\"\n",
    "    },\n",
    "    {\n",
    "        \"name\" : \"sagor\",\n",
    "        \"father name\" : \"Abdul bakkar\",\n",
    "        \"addres\" : \"jamalpur\"\n",
    "    },\n",
    "    \n",
    "]"
   ]
  },
  {
   "cell_type": "code",
   "execution_count": 13,
   "id": "84beaaa0-526e-44c7-b688-5fb516d25dfb",
   "metadata": {},
   "outputs": [
    {
     "data": {
      "text/plain": [
       "['Ratul', 'sagor']"
      ]
     },
     "execution_count": 13,
     "metadata": {},
     "output_type": "execute_result"
    }
   ],
   "source": [
    "list(map( lambda student:student[\"name\"],students))"
   ]
  },
  {
   "cell_type": "markdown",
   "id": "fa0463dc-32ec-4951-a9eb-35d8f251eeda",
   "metadata": {},
   "source": [
    "<h1 style='text-align : center '> Filter</h1>"
   ]
  },
  {
   "cell_type": "code",
   "execution_count": 15,
   "id": "c3b924b1-c9ed-41e8-9bf3-f44778ba424f",
   "metadata": {},
   "outputs": [
    {
     "data": {
      "text/plain": [
       "[1, 2, 3, 4, 5]"
      ]
     },
     "execution_count": 15,
     "metadata": {},
     "output_type": "execute_result"
    }
   ],
   "source": [
    "l"
   ]
  },
  {
   "cell_type": "code",
   "execution_count": 16,
   "id": "de910c85-c65d-495e-8306-11bf607dc3af",
   "metadata": {},
   "outputs": [
    {
     "data": {
      "text/plain": [
       "[4, 5]"
      ]
     },
     "execution_count": 16,
     "metadata": {},
     "output_type": "execute_result"
    }
   ],
   "source": [
    "list(filter(lambda x:x>3,l)) # grather than 3"
   ]
  },
  {
   "cell_type": "code",
   "execution_count": 17,
   "id": "c6dd4f91-2772-4e47-96fe-4ce9570e2fcf",
   "metadata": {},
   "outputs": [
    {
     "data": {
      "text/plain": [
       "['apple', 'orange']"
      ]
     },
     "execution_count": 17,
     "metadata": {},
     "output_type": "execute_result"
    }
   ],
   "source": [
    "fruits=[\"apple\",\"banana\",\"mango\",\"orange\"] # 'e' present in name\n",
    "list(filter(lambda fruit:\"e\" in fruit,fruits))"
   ]
  },
  {
   "cell_type": "markdown",
   "id": "25b08541-e9ce-44c6-b03e-89d1827dbbee",
   "metadata": {},
   "source": [
    "<h1 style='text-align : center '> Reduce</h1>"
   ]
  },
  {
   "cell_type": "code",
   "execution_count": 18,
   "id": "a9f82508-4f0c-40de-9e20-7f0135e58a07",
   "metadata": {},
   "outputs": [],
   "source": [
    "import functools"
   ]
  },
  {
   "cell_type": "code",
   "execution_count": 19,
   "id": "12198348-a3cb-4c76-8004-ced516d9492b",
   "metadata": {},
   "outputs": [
    {
     "data": {
      "text/plain": [
       "[1, 2, 3, 4, 5]"
      ]
     },
     "execution_count": 19,
     "metadata": {},
     "output_type": "execute_result"
    }
   ],
   "source": [
    "l"
   ]
  },
  {
   "cell_type": "code",
   "execution_count": 20,
   "id": "9227cbde-5dd1-473c-9713-ec5af8897303",
   "metadata": {},
   "outputs": [
    {
     "data": {
      "text/plain": [
       "15"
      ]
     },
     "execution_count": 20,
     "metadata": {},
     "output_type": "execute_result"
    }
   ],
   "source": [
    "functools.reduce(lambda x,y:x+y,l) # sum of all numbers"
   ]
  },
  {
   "cell_type": "code",
   "execution_count": 21,
   "id": "e1879f40-9953-4d99-9eea-3fe90726469b",
   "metadata": {},
   "outputs": [
    {
     "data": {
      "text/plain": [
       "59"
      ]
     },
     "execution_count": 21,
     "metadata": {},
     "output_type": "execute_result"
    }
   ],
   "source": [
    "l1=[11,23,44,10,33,59]\n",
    "functools.reduce(lambda x,y: x if x>y else y,l1) # max number from all numbers"
   ]
  },
  {
   "cell_type": "markdown",
   "id": "f3258025-df47-4e27-a6ad-1359e52c6cc7",
   "metadata": {},
   "source": [
    "<h1 style='text-align : center '> List comprehension</h1>"
   ]
  },
  {
   "cell_type": "code",
   "execution_count": 23,
   "id": "1aa8cace-b5db-4027-a185-b5ba1adeb876",
   "metadata": {},
   "outputs": [
    {
     "data": {
      "text/plain": [
       "[1, 2, 3, 4, 5]"
      ]
     },
     "execution_count": 23,
     "metadata": {},
     "output_type": "execute_result"
    }
   ],
   "source": [
    "l"
   ]
  },
  {
   "cell_type": "code",
   "execution_count": 24,
   "id": "4700ad9b-9bb6-4494-9297-17f2f70ce52c",
   "metadata": {},
   "outputs": [],
   "source": [
    "l1=[item *2 for item in l]"
   ]
  },
  {
   "cell_type": "code",
   "execution_count": 25,
   "id": "04f3093f-acab-404f-a354-8b562b7ca4e4",
   "metadata": {},
   "outputs": [
    {
     "data": {
      "text/plain": [
       "[2, 4, 6, 8, 10]"
      ]
     },
     "execution_count": 25,
     "metadata": {},
     "output_type": "execute_result"
    }
   ],
   "source": [
    "l1"
   ]
  },
  {
   "cell_type": "code",
   "execution_count": 26,
   "id": "606e28fc-edbe-4b6b-8f7a-a0e168b398d3",
   "metadata": {},
   "outputs": [
    {
     "data": {
      "text/plain": [
       "[0, 1, 4, 9, 16]"
      ]
     },
     "execution_count": 26,
     "metadata": {},
     "output_type": "execute_result"
    }
   ],
   "source": [
    "l2=[item**2 for item in range(5)]\n",
    "l2"
   ]
  },
  {
   "cell_type": "code",
   "execution_count": 28,
   "id": "4d96edc4-b19f-4717-b180-797f30ef6232",
   "metadata": {},
   "outputs": [
    {
     "data": {
      "text/plain": [
       "[1, 9, 25, 49, 81]"
      ]
     },
     "execution_count": 28,
     "metadata": {},
     "output_type": "execute_result"
    }
   ],
   "source": [
    "l3=[item**2 for item in range(10) if item%2 != 0]\n",
    "l3"
   ]
  },
  {
   "cell_type": "code",
   "execution_count": 29,
   "id": "0a4c0ad9-3ece-4edf-8815-6d2345e2a42f",
   "metadata": {},
   "outputs": [
    {
     "data": {
      "text/plain": [
       "['orange']"
      ]
     },
     "execution_count": 29,
     "metadata": {},
     "output_type": "execute_result"
    }
   ],
   "source": [
    "l4=[fruit for fruit in fruits if fruit[0] == \"o\"]\n",
    "l4"
   ]
  },
  {
   "cell_type": "markdown",
   "id": "09a3ceb9-3d07-48be-b4fd-da5f744b4cbb",
   "metadata": {},
   "source": [
    "<h1 style='text-align : center '> Dictionary comprehension</h1>"
   ]
  },
  {
   "cell_type": "code",
   "execution_count": 32,
   "id": "02f63266-bbe0-47e8-b2fc-1c4a66d05969",
   "metadata": {},
   "outputs": [],
   "source": [
    "d={\n",
    "    \"name\":\"Ratul\",\n",
    "    \"Gender\" : \"Male\",\n",
    "    \"age\" : 23\n",
    "}"
   ]
  },
  {
   "cell_type": "code",
   "execution_count": 33,
   "id": "5d47a4d4-3f2c-439e-abe8-6785f269decd",
   "metadata": {},
   "outputs": [
    {
     "data": {
      "text/plain": [
       "dict_items([('name', 'Ratul'), ('Gender', 'Male'), ('age', 23)])"
      ]
     },
     "execution_count": 33,
     "metadata": {},
     "output_type": "execute_result"
    }
   ],
   "source": [
    "d.items()"
   ]
  },
  {
   "cell_type": "code",
   "execution_count": 31,
   "id": "5280711f-8c74-4a71-8214-06260caafe8c",
   "metadata": {},
   "outputs": [
    {
     "data": {
      "text/plain": [
       "{'name': 'Ratul', 'Gender': 'Male'}"
      ]
     },
     "execution_count": 31,
     "metadata": {},
     "output_type": "execute_result"
    }
   ],
   "source": [
    "d1={key:value  for key,value in d.items() if len(key)>3}\n",
    "d1"
   ]
  },
  {
   "cell_type": "code",
   "execution_count": 34,
   "id": "ad33ff3d-e1a2-4ca2-b64e-69c12e2998fe",
   "metadata": {},
   "outputs": [
    {
     "data": {
      "text/plain": [
       "[1, 2, 3, 4, 5]"
      ]
     },
     "execution_count": 34,
     "metadata": {},
     "output_type": "execute_result"
    }
   ],
   "source": [
    "l"
   ]
  },
  {
   "cell_type": "code",
   "execution_count": 35,
   "id": "888cd54f-a248-4e24-b12f-2df1a5939388",
   "metadata": {},
   "outputs": [
    {
     "data": {
      "text/plain": [
       "{1: 1, 2: 4, 3: 9, 4: 16, 5: 25}"
      ]
     },
     "execution_count": 35,
     "metadata": {},
     "output_type": "execute_result"
    }
   ],
   "source": [
    "d2={item:item**2 for item in l}\n",
    "d2"
   ]
  },
  {
   "cell_type": "code",
   "execution_count": 36,
   "id": "2b2e82c8-5a8e-413e-b2f3-813746fa625a",
   "metadata": {},
   "outputs": [
    {
     "data": {
      "text/plain": [
       "{2: 4, 4: 16}"
      ]
     },
     "execution_count": 36,
     "metadata": {},
     "output_type": "execute_result"
    }
   ],
   "source": [
    "d3={item:item**2 for item in l if item%2 == 0}\n",
    "d3"
   ]
  }
 ],
 "metadata": {
  "kernelspec": {
   "display_name": "Python 3 (ipykernel)",
   "language": "python",
   "name": "python3"
  },
  "language_info": {
   "codemirror_mode": {
    "name": "ipython",
    "version": 3
   },
   "file_extension": ".py",
   "mimetype": "text/x-python",
   "name": "python",
   "nbconvert_exporter": "python",
   "pygments_lexer": "ipython3",
   "version": "3.11.3"
  }
 },
 "nbformat": 4,
 "nbformat_minor": 5
}
