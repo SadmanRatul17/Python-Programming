{
 "cells": [
  {
   "cell_type": "markdown",
   "id": "51df344b-4aad-449b-a64a-6fe3c2ed8201",
   "metadata": {},
   "source": [
    "<h2>Strings are sequence of Characters</h2>\n",
    "<h2>In Python specifically, strings are a sequence of Unicode Characters</h2>\n",
    "<ul>\n",
    "  <li>Creating Strings</li>\n",
    "    <li>Accessing Strings</li>\n",
    "    <li>Adding Chars to Strings</li>\n",
    "    <li>Editing Strings</li>\n",
    "    <li>Deleting Strings</li>\n",
    "    <li>Operations on Strings</li>\n",
    "    <li>String Functions</li>\n",
    "</ul>"
   ]
  },
  {
   "cell_type": "code",
   "execution_count": 2,
   "id": "645e2a7f-6ab9-4c51-897b-9ffe8c0692be",
   "metadata": {},
   "outputs": [
    {
     "data": {
      "text/plain": [
       "'Hello'"
      ]
     },
     "execution_count": 2,
     "metadata": {},
     "output_type": "execute_result"
    }
   ],
   "source": [
    "#creating\n",
    "\n",
    "c='Hello'\n",
    "c"
   ]
  },
  {
   "cell_type": "code",
   "execution_count": 4,
   "id": "3246ea6d-2e75-41cb-ab56-46ab37aa799d",
   "metadata": {},
   "outputs": [
    {
     "data": {
      "text/plain": [
       "'Hello'"
      ]
     },
     "execution_count": 4,
     "metadata": {},
     "output_type": "execute_result"
    }
   ],
   "source": [
    "c=\"Hello\"\n",
    "c"
   ]
  },
  {
   "cell_type": "code",
   "execution_count": 6,
   "id": "6f4f88cb-862a-4a32-8c45-7c72419689fe",
   "metadata": {},
   "outputs": [
    {
     "data": {
      "text/plain": [
       "\"It's a book\""
      ]
     },
     "execution_count": 6,
     "metadata": {},
     "output_type": "execute_result"
    }
   ],
   "source": [
    "# it's a book here we can't use ''\n",
    "c = \"It's a book\"\n",
    "c"
   ]
  },
  {
   "cell_type": "code",
   "execution_count": 8,
   "id": "81aa202b-5bef-46ef-94f0-08e58c65c6bc",
   "metadata": {},
   "outputs": [
    {
     "data": {
      "text/plain": [
       "'Hello'"
      ]
     },
     "execution_count": 8,
     "metadata": {},
     "output_type": "execute_result"
    }
   ],
   "source": [
    "c = '''Hello''' \n",
    "c\n",
    "#for multiline string"
   ]
  },
  {
   "cell_type": "markdown",
   "id": "931fd164-0ebb-4acc-b4f9-5d2451bf4d17",
   "metadata": {},
   "source": [
    "<br>\n",
    "<h2>Accessing Substrings from a String</h2>"
   ]
  },
  {
   "cell_type": "code",
   "execution_count": 14,
   "id": "095b3008-8cd0-42cf-90f6-b506133a8224",
   "metadata": {},
   "outputs": [
    {
     "data": {
      "text/plain": [
       "'Hello'"
      ]
     },
     "execution_count": 14,
     "metadata": {},
     "output_type": "execute_result"
    }
   ],
   "source": [
    "# type of indexing - positive,negative\n",
    "\n",
    "c=\"Hello\"\n",
    "c"
   ]
  },
  {
   "cell_type": "code",
   "execution_count": 15,
   "id": "727d384b-14e3-4e05-ac50-ab2e8b332f29",
   "metadata": {},
   "outputs": [
    {
     "data": {
      "text/plain": [
       "'H'"
      ]
     },
     "execution_count": 15,
     "metadata": {},
     "output_type": "execute_result"
    }
   ],
   "source": [
    "#positive\n",
    "c[0]"
   ]
  },
  {
   "cell_type": "code",
   "execution_count": 16,
   "id": "65b39e97-cd91-4020-9ef1-4290e111d595",
   "metadata": {},
   "outputs": [
    {
     "data": {
      "text/plain": [
       "'l'"
      ]
     },
     "execution_count": 16,
     "metadata": {},
     "output_type": "execute_result"
    }
   ],
   "source": [
    "c[3]"
   ]
  },
  {
   "cell_type": "code",
   "execution_count": 18,
   "id": "9a63d367-f1bb-46d5-a254-fb8fe0d852ee",
   "metadata": {},
   "outputs": [
    {
     "data": {
      "text/plain": [
       "'o'"
      ]
     },
     "execution_count": 18,
     "metadata": {},
     "output_type": "execute_result"
    }
   ],
   "source": [
    "#negative\n",
    "c[-1]"
   ]
  },
  {
   "cell_type": "code",
   "execution_count": 19,
   "id": "8bd04bf5-cb5c-4b75-a3dd-93571bcbd6a0",
   "metadata": {},
   "outputs": [
    {
     "data": {
      "text/plain": [
       "'l'"
      ]
     },
     "execution_count": 19,
     "metadata": {},
     "output_type": "execute_result"
    }
   ],
   "source": [
    "c[-3]"
   ]
  },
  {
   "cell_type": "markdown",
   "id": "5ee32ef7-2794-4d56-80fe-276599668c28",
   "metadata": {},
   "source": [
    "<br>\n",
    "<h2>Slicing</h2>"
   ]
  },
  {
   "cell_type": "code",
   "execution_count": 22,
   "id": "3ed8e533-e942-4d44-81f3-4ffb6c5055f2",
   "metadata": {},
   "outputs": [
    {
     "data": {
      "text/plain": [
       "'Hello'"
      ]
     },
     "execution_count": 22,
     "metadata": {},
     "output_type": "execute_result"
    }
   ],
   "source": [
    "c=\"Hello world\"\n",
    "c[0:5] #it will print 0 to 4 index."
   ]
  },
  {
   "cell_type": "code",
   "execution_count": 24,
   "id": "e208ac1f-c1f2-4fac-9822-f17a4a67510c",
   "metadata": {},
   "outputs": [
    {
     "data": {
      "text/plain": [
       "'llo world'"
      ]
     },
     "execution_count": 24,
     "metadata": {},
     "output_type": "execute_result"
    }
   ],
   "source": [
    "c[2:] #index 2 to last"
   ]
  },
  {
   "cell_type": "code",
   "execution_count": 25,
   "id": "83a8bf7c-e905-42dd-8a42-45a87edb0a3a",
   "metadata": {},
   "outputs": [
    {
     "data": {
      "text/plain": [
       "'Hello'"
      ]
     },
     "execution_count": 25,
     "metadata": {},
     "output_type": "execute_result"
    }
   ],
   "source": [
    "c[:5] #index 0 to 4"
   ]
  },
  {
   "cell_type": "code",
   "execution_count": 26,
   "id": "1ff00567-d27a-464d-8754-4ab5973dd146",
   "metadata": {},
   "outputs": [
    {
     "data": {
      "text/plain": [
       "'Hlo'"
      ]
     },
     "execution_count": 26,
     "metadata": {},
     "output_type": "execute_result"
    }
   ],
   "source": [
    "c[0:5:2] # 1 gap"
   ]
  },
  {
   "cell_type": "code",
   "execution_count": 28,
   "id": "dfc87797-172c-43cf-9a70-d0f2b25b583c",
   "metadata": {},
   "outputs": [
    {
     "data": {
      "text/plain": [
       "'Hlw'"
      ]
     },
     "execution_count": 28,
     "metadata": {},
     "output_type": "execute_result"
    }
   ],
   "source": [
    "c[:8:3] #2 gap"
   ]
  },
  {
   "cell_type": "code",
   "execution_count": 31,
   "id": "1f0b3237-e4e9-4d4d-ae35-01cf896a6364",
   "metadata": {},
   "outputs": [
    {
     "data": {
      "text/plain": [
       "''"
      ]
     },
     "execution_count": 31,
     "metadata": {},
     "output_type": "execute_result"
    }
   ],
   "source": [
    "c[0:6:-1] # you can not use this"
   ]
  },
  {
   "cell_type": "code",
   "execution_count": 32,
   "id": "6544ee80-81f0-461e-9399-2aa20ff9bb93",
   "metadata": {},
   "outputs": [
    {
     "data": {
      "text/plain": [
       "'wr'"
      ]
     },
     "execution_count": 32,
     "metadata": {},
     "output_type": "execute_result"
    }
   ],
   "source": [
    "c[-5:-1:2]"
   ]
  },
  {
   "cell_type": "code",
   "execution_count": 33,
   "id": "56f5f996-d71b-4185-b372-7bfba41bca32",
   "metadata": {},
   "outputs": [
    {
     "data": {
      "text/plain": [
       "'dlrow olleH'"
      ]
     },
     "execution_count": 33,
     "metadata": {},
     "output_type": "execute_result"
    }
   ],
   "source": [
    "c[::-1]"
   ]
  },
  {
   "cell_type": "markdown",
   "id": "3d329042-c79c-4fdb-8d90-f7c94a83234f",
   "metadata": {},
   "source": [
    "<br>\n",
    "<h2>Editing and Deleting Strings</h2>"
   ]
  },
  {
   "cell_type": "code",
   "execution_count": 34,
   "id": "1d5f39f7-4f52-4b4c-bf1e-0fa9f41026b1",
   "metadata": {},
   "outputs": [
    {
     "data": {
      "text/plain": [
       "'Hello'"
      ]
     },
     "execution_count": 34,
     "metadata": {},
     "output_type": "execute_result"
    }
   ],
   "source": [
    "c=\"Hello\"\n",
    "c"
   ]
  },
  {
   "cell_type": "code",
   "execution_count": 35,
   "id": "45e0b652-e891-4eee-92a4-4a1e17f92fd0",
   "metadata": {},
   "outputs": [
    {
     "ename": "TypeError",
     "evalue": "'str' object does not support item assignment",
     "output_type": "error",
     "traceback": [
      "\u001b[1;31m---------------------------------------------------------------------------\u001b[0m",
      "\u001b[1;31mTypeError\u001b[0m                                 Traceback (most recent call last)",
      "Cell \u001b[1;32mIn[35], line 1\u001b[0m\n\u001b[1;32m----> 1\u001b[0m \u001b[43mc\u001b[49m\u001b[43m[\u001b[49m\u001b[38;5;241;43m0\u001b[39;49m\u001b[43m]\u001b[49m\u001b[38;5;241m=\u001b[39m\u001b[38;5;124m'\u001b[39m\u001b[38;5;124mx\u001b[39m\u001b[38;5;124m'\u001b[39m\n",
      "\u001b[1;31mTypeError\u001b[0m: 'str' object does not support item assignment"
     ]
    }
   ],
   "source": [
    "c[0]='x'"
   ]
  },
  {
   "cell_type": "markdown",
   "id": "bb9fdad4-7315-4cd8-8e42-ae59fd322fdc",
   "metadata": {},
   "source": [
    "<h2>Strings are a Immutable Data Type</h2>"
   ]
  },
  {
   "cell_type": "code",
   "execution_count": 36,
   "id": "75c71fc8-020e-4ca8-b9b2-b9a514f375e2",
   "metadata": {},
   "outputs": [],
   "source": [
    "# you can reassign strings but you can not edit existing string"
   ]
  },
  {
   "cell_type": "code",
   "execution_count": 37,
   "id": "50626eed-adde-42bf-832a-c62738823450",
   "metadata": {},
   "outputs": [
    {
     "data": {
      "text/plain": [
       "'World'"
      ]
     },
     "execution_count": 37,
     "metadata": {},
     "output_type": "execute_result"
    }
   ],
   "source": [
    "c=\"World\"\n",
    "c"
   ]
  },
  {
   "cell_type": "code",
   "execution_count": 38,
   "id": "49ec6a87-44ae-4af3-b4b4-6c749d063022",
   "metadata": {},
   "outputs": [
    {
     "name": "stdout",
     "output_type": "stream",
     "text": [
      "World\n"
     ]
    }
   ],
   "source": [
    "#deletion\n",
    "print(c)"
   ]
  },
  {
   "cell_type": "code",
   "execution_count": 39,
   "id": "2a06c1d7-e2ee-47f9-9dbb-4cd94cea94d7",
   "metadata": {},
   "outputs": [],
   "source": [
    "del c"
   ]
  },
  {
   "cell_type": "code",
   "execution_count": 40,
   "id": "acd6b743-7e6b-4f27-807b-ead9ca0248af",
   "metadata": {},
   "outputs": [
    {
     "ename": "NameError",
     "evalue": "name 'c' is not defined",
     "output_type": "error",
     "traceback": [
      "\u001b[1;31m---------------------------------------------------------------------------\u001b[0m",
      "\u001b[1;31mNameError\u001b[0m                                 Traceback (most recent call last)",
      "Cell \u001b[1;32mIn[40], line 1\u001b[0m\n\u001b[1;32m----> 1\u001b[0m \u001b[38;5;28mprint\u001b[39m(\u001b[43mc\u001b[49m)\n",
      "\u001b[1;31mNameError\u001b[0m: name 'c' is not defined"
     ]
    }
   ],
   "source": [
    "print(c)"
   ]
  },
  {
   "cell_type": "code",
   "execution_count": 41,
   "id": "36b30521-9e40-4e0d-bc09-3adc5996278b",
   "metadata": {},
   "outputs": [
    {
     "name": "stdout",
     "output_type": "stream",
     "text": [
      "Hello\n"
     ]
    }
   ],
   "source": [
    "c=\"Hello\"\n",
    "print(c)"
   ]
  },
  {
   "cell_type": "code",
   "execution_count": 42,
   "id": "ed60d461-ed0c-482a-8c61-e2f5a87fb6f9",
   "metadata": {},
   "outputs": [
    {
     "ename": "TypeError",
     "evalue": "'str' object doesn't support item deletion",
     "output_type": "error",
     "traceback": [
      "\u001b[1;31m---------------------------------------------------------------------------\u001b[0m",
      "\u001b[1;31mTypeError\u001b[0m                                 Traceback (most recent call last)",
      "Cell \u001b[1;32mIn[42], line 1\u001b[0m\n\u001b[1;32m----> 1\u001b[0m \u001b[38;5;28;01mdel\u001b[39;00m \u001b[43mc\u001b[49m\u001b[43m[\u001b[49m\u001b[38;5;241;43m2\u001b[39;49m\u001b[43m]\u001b[49m\n",
      "\u001b[1;31mTypeError\u001b[0m: 'str' object doesn't support item deletion"
     ]
    }
   ],
   "source": [
    "del c[2]"
   ]
  },
  {
   "cell_type": "code",
   "execution_count": 43,
   "id": "b991363e-3240-4e2a-b962-ccd48970b48e",
   "metadata": {},
   "outputs": [
    {
     "ename": "TypeError",
     "evalue": "'str' object does not support item deletion",
     "output_type": "error",
     "traceback": [
      "\u001b[1;31m---------------------------------------------------------------------------\u001b[0m",
      "\u001b[1;31mTypeError\u001b[0m                                 Traceback (most recent call last)",
      "Cell \u001b[1;32mIn[43], line 1\u001b[0m\n\u001b[1;32m----> 1\u001b[0m \u001b[38;5;28;01mdel\u001b[39;00m \u001b[43mc\u001b[49m\u001b[43m[\u001b[49m\u001b[38;5;241;43m2\u001b[39;49m\u001b[43m:\u001b[49m\u001b[38;5;241;43m4\u001b[39;49m\u001b[43m:\u001b[49m\u001b[38;5;241;43m2\u001b[39;49m\u001b[43m]\u001b[49m\n",
      "\u001b[1;31mTypeError\u001b[0m: 'str' object does not support item deletion"
     ]
    }
   ],
   "source": [
    "del c[2:4:2]"
   ]
  },
  {
   "cell_type": "markdown",
   "id": "ca2f22ea-6966-4e5d-9816-3bec894c60cc",
   "metadata": {},
   "source": [
    "<br>\n",
    "<h2>Operations on Strings</h2>\n",
    "<ul>\n",
    "  <li>Arithmetic Operations</li>\n",
    "    <li>Relational Operations</li>\n",
    "    <li>Logical Operations</li>\n",
    "    <li>Loops on Strings</li>\n",
    "    <li>Membership Operations</li>\n",
    "\n",
    "</ul>"
   ]
  },
  {
   "cell_type": "code",
   "execution_count": null,
   "id": "c8f029ca-4fd5-4000-b0ee-882cc90a1c2f",
   "metadata": {},
   "outputs": [],
   "source": [
    "# Arithmetic Operations"
   ]
  },
  {
   "cell_type": "code",
   "execution_count": 45,
   "id": "8e005996-6112-4a01-ac54-eaf8db1f67e8",
   "metadata": {},
   "outputs": [
    {
     "data": {
      "text/plain": [
       "'Hello-World'"
      ]
     },
     "execution_count": 45,
     "metadata": {},
     "output_type": "execute_result"
    }
   ],
   "source": [
    "\"Hello\"+\"-\"+\"World\""
   ]
  },
  {
   "cell_type": "code",
   "execution_count": 46,
   "id": "8af1de74-6de4-4aae-85b4-c4befc54551f",
   "metadata": {},
   "outputs": [
    {
     "name": "stdout",
     "output_type": "stream",
     "text": [
      "**************************************************\n"
     ]
    }
   ],
   "source": [
    "print(\"*\"*50)"
   ]
  },
  {
   "cell_type": "code",
   "execution_count": 54,
   "id": "dc1110a3-507e-4aa6-a67e-1a7741452bf6",
   "metadata": {},
   "outputs": [
    {
     "name": "stdout",
     "output_type": "stream",
     "text": [
      "HelloHelloHelloHelloHello\n"
     ]
    }
   ],
   "source": [
    "print(\"Hello\" * 5)"
   ]
  },
  {
   "cell_type": "code",
   "execution_count": null,
   "id": "e14c3b7d-f87b-4a3a-bcf3-edf8a8858774",
   "metadata": {},
   "outputs": [],
   "source": [
    "#Relational Operations"
   ]
  },
  {
   "cell_type": "code",
   "execution_count": 48,
   "id": "10e0e33a-c00c-4dcf-b096-cfcf4e3b49a1",
   "metadata": {},
   "outputs": [
    {
     "data": {
      "text/plain": [
       "False"
      ]
     },
     "execution_count": 48,
     "metadata": {},
     "output_type": "execute_result"
    }
   ],
   "source": [
    "\"Hello\" == \"world\""
   ]
  },
  {
   "cell_type": "code",
   "execution_count": 49,
   "id": "0ec378cb-1af5-4c8a-a852-c5e266e3a1ff",
   "metadata": {},
   "outputs": [
    {
     "data": {
      "text/plain": [
       "True"
      ]
     },
     "execution_count": 49,
     "metadata": {},
     "output_type": "execute_result"
    }
   ],
   "source": [
    "\"Hello\" != \"world\""
   ]
  },
  {
   "cell_type": "code",
   "execution_count": 51,
   "id": "69e88918-45ee-4536-a353-50c2c94e08f7",
   "metadata": {},
   "outputs": [
    {
     "data": {
      "text/plain": [
       "False"
      ]
     },
     "execution_count": 51,
     "metadata": {},
     "output_type": "execute_result"
    }
   ],
   "source": [
    "\"Dhaka\" < \"Africa\" #lexiographically"
   ]
  },
  {
   "cell_type": "code",
   "execution_count": 52,
   "id": "87635e5a-6935-4f5d-be5f-2c74f9044043",
   "metadata": {},
   "outputs": [
    {
     "data": {
      "text/plain": [
       "True"
      ]
     },
     "execution_count": 52,
     "metadata": {},
     "output_type": "execute_result"
    }
   ],
   "source": [
    "\"Bogura\" < \"Dhaka\""
   ]
  },
  {
   "cell_type": "code",
   "execution_count": 53,
   "id": "f55e2478-087e-46e3-bc55-49c23a0e8384",
   "metadata": {},
   "outputs": [
    {
     "data": {
      "text/plain": [
       "False"
      ]
     },
     "execution_count": 53,
     "metadata": {},
     "output_type": "execute_result"
    }
   ],
   "source": [
    "\"bogura\" < \"Bogura\" # capital letter < small letter "
   ]
  },
  {
   "cell_type": "code",
   "execution_count": 55,
   "id": "afd44190-83ec-410a-bd92-068ebfe2918b",
   "metadata": {},
   "outputs": [],
   "source": [
    "#Logical Operations\n",
    "\n",
    "# \"\"(empty string) = False\n",
    "# \"sgssg\"(string) = True"
   ]
  },
  {
   "cell_type": "code",
   "execution_count": 56,
   "id": "fed70a5c-50d9-409b-a4d6-25028603cca2",
   "metadata": {},
   "outputs": [
    {
     "data": {
      "text/plain": [
       "'World'"
      ]
     },
     "execution_count": 56,
     "metadata": {},
     "output_type": "execute_result"
    }
   ],
   "source": [
    "\"Hello\" and \"World\""
   ]
  },
  {
   "cell_type": "code",
   "execution_count": 57,
   "id": "a23dc125-4db7-4389-841c-b3a7ad8817f7",
   "metadata": {},
   "outputs": [
    {
     "data": {
      "text/plain": [
       "''"
      ]
     },
     "execution_count": 57,
     "metadata": {},
     "output_type": "execute_result"
    }
   ],
   "source": [
    "\"\" and \"World\""
   ]
  },
  {
   "cell_type": "code",
   "execution_count": 58,
   "id": "f8d60a42-512a-4f19-a4d5-500efa65d1d8",
   "metadata": {},
   "outputs": [
    {
     "data": {
      "text/plain": [
       "'World'"
      ]
     },
     "execution_count": 58,
     "metadata": {},
     "output_type": "execute_result"
    }
   ],
   "source": [
    "\"\" or \"World\""
   ]
  },
  {
   "cell_type": "code",
   "execution_count": 59,
   "id": "4f450405-fa88-4c3f-99cb-df8aa8d84185",
   "metadata": {},
   "outputs": [
    {
     "data": {
      "text/plain": [
       "'Hello'"
      ]
     },
     "execution_count": 59,
     "metadata": {},
     "output_type": "execute_result"
    }
   ],
   "source": [
    "\"Hello\" or \"World\""
   ]
  },
  {
   "cell_type": "code",
   "execution_count": 60,
   "id": "3f04c5b3-445b-4a03-a7e7-c3ccade5dddc",
   "metadata": {},
   "outputs": [
    {
     "data": {
      "text/plain": [
       "True"
      ]
     },
     "execution_count": 60,
     "metadata": {},
     "output_type": "execute_result"
    }
   ],
   "source": [
    "not \"\""
   ]
  },
  {
   "cell_type": "code",
   "execution_count": 61,
   "id": "9fcec77b-a4a0-4497-a6fe-898069c254e8",
   "metadata": {},
   "outputs": [
    {
     "data": {
      "text/plain": [
       "False"
      ]
     },
     "execution_count": 61,
     "metadata": {},
     "output_type": "execute_result"
    }
   ],
   "source": [
    "not \"Ratul\""
   ]
  },
  {
   "cell_type": "code",
   "execution_count": 62,
   "id": "e3e5ba43-d5c4-4199-92a9-f54313ccce58",
   "metadata": {},
   "outputs": [],
   "source": [
    "#Loops on Strings"
   ]
  },
  {
   "cell_type": "code",
   "execution_count": 63,
   "id": "65f63aba-6942-4b3e-a9df-ca11ac0e67ee",
   "metadata": {},
   "outputs": [
    {
     "name": "stdout",
     "output_type": "stream",
     "text": [
      "H\n",
      "e\n",
      "l\n",
      "l\n",
      "o\n",
      " \n",
      "W\n",
      "o\n",
      "r\n",
      "l\n",
      "d\n"
     ]
    }
   ],
   "source": [
    "c=\"Hello World\"\n",
    "for i in c:\n",
    "    print(i)"
   ]
  },
  {
   "cell_type": "code",
   "execution_count": 64,
   "id": "7951e674-78ab-4374-b660-479bee068bbf",
   "metadata": {},
   "outputs": [
    {
     "name": "stdout",
     "output_type": "stream",
     "text": [
      "H\n",
      "e\n",
      "l\n",
      "l\n",
      "o\n"
     ]
    }
   ],
   "source": [
    "c=\"Hello World\"\n",
    "for i in c[:5]:\n",
    "    print(i)"
   ]
  },
  {
   "cell_type": "code",
   "execution_count": 65,
   "id": "221ae14c-b527-4388-b638-ba191aaad37d",
   "metadata": {},
   "outputs": [
    {
     "name": "stdout",
     "output_type": "stream",
     "text": [
      "H\n",
      "l\n",
      "W\n"
     ]
    }
   ],
   "source": [
    "c=\"Hello World\"\n",
    "for i in c[:8:3]:\n",
    "    print(i)"
   ]
  }
 ],
 "metadata": {
  "kernelspec": {
   "display_name": "Python 3 (ipykernel)",
   "language": "python",
   "name": "python3"
  },
  "language_info": {
   "codemirror_mode": {
    "name": "ipython",
    "version": 3
   },
   "file_extension": ".py",
   "mimetype": "text/x-python",
   "name": "python",
   "nbconvert_exporter": "python",
   "pygments_lexer": "ipython3",
   "version": "3.11.3"
  }
 },
 "nbformat": 4,
 "nbformat_minor": 5
}
